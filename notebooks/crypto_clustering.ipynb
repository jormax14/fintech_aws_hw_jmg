{
 "cells": [
  {
   "cell_type": "markdown",
   "metadata": {},
   "source": [
    "# Clustering Crypto"
   ]
  },
  {
   "cell_type": "code",
   "execution_count": 29,
   "metadata": {},
   "outputs": [],
   "source": [
    "# Initial imports\n",
    "import requests\n",
    "import pandas as pd\n",
    "import numpy as np\n",
    "import matplotlib.pyplot as plt\n",
    "import hvplot.pandas\n",
    "import plotly.express as px\n",
    "from sklearn.preprocessing import StandardScaler, MinMaxScaler\n",
    "from sklearn.decomposition import PCA\n",
    "from sklearn.cluster import KMeans"
   ]
  },
  {
   "cell_type": "markdown",
   "metadata": {},
   "source": [
    "### Fetching Cryptocurrency Data"
   ]
  },
  {
   "cell_type": "code",
   "execution_count": 2,
   "metadata": {},
   "outputs": [],
   "source": [
    "# Use the following endpoint to fetch json data\n",
    "url = \"https://min-api.cryptocompare.com/data/all/coinlist\""
   ]
  },
  {
   "cell_type": "code",
   "execution_count": 3,
   "metadata": {},
   "outputs": [],
   "source": [
    "# # Create a DataFrame \n",
    "# data = requests.get(url).json()\n",
    "# df = pd.DataFrame(data['Data']).T\n",
    "\n",
    "# df.head()"
   ]
  },
  {
   "cell_type": "code",
   "execution_count": 4,
   "metadata": {},
   "outputs": [
    {
     "output_type": "execute_result",
     "data": {
      "text/plain": [
       "      CoinName Algorithm  IsTrading ProofType  TotalCoinsMined TotalCoinSupply\n",
       "42     42 Coin    Scrypt       True   PoW/PoS     4.199995e+01              42\n",
       "365    365Coin       X11       True   PoW/PoS              NaN      2300000000\n",
       "404    404Coin    Scrypt       True   PoW/PoS     1.055185e+09       532000000\n",
       "611  SixEleven   SHA-256       True       PoW              NaN          611000\n",
       "808        808   SHA-256       True   PoW/PoS     0.000000e+00               0"
      ],
      "text/html": "<div>\n<style scoped>\n    .dataframe tbody tr th:only-of-type {\n        vertical-align: middle;\n    }\n\n    .dataframe tbody tr th {\n        vertical-align: top;\n    }\n\n    .dataframe thead th {\n        text-align: right;\n    }\n</style>\n<table border=\"1\" class=\"dataframe\">\n  <thead>\n    <tr style=\"text-align: right;\">\n      <th></th>\n      <th>CoinName</th>\n      <th>Algorithm</th>\n      <th>IsTrading</th>\n      <th>ProofType</th>\n      <th>TotalCoinsMined</th>\n      <th>TotalCoinSupply</th>\n    </tr>\n  </thead>\n  <tbody>\n    <tr>\n      <th>42</th>\n      <td>42 Coin</td>\n      <td>Scrypt</td>\n      <td>True</td>\n      <td>PoW/PoS</td>\n      <td>4.199995e+01</td>\n      <td>42</td>\n    </tr>\n    <tr>\n      <th>365</th>\n      <td>365Coin</td>\n      <td>X11</td>\n      <td>True</td>\n      <td>PoW/PoS</td>\n      <td>NaN</td>\n      <td>2300000000</td>\n    </tr>\n    <tr>\n      <th>404</th>\n      <td>404Coin</td>\n      <td>Scrypt</td>\n      <td>True</td>\n      <td>PoW/PoS</td>\n      <td>1.055185e+09</td>\n      <td>532000000</td>\n    </tr>\n    <tr>\n      <th>611</th>\n      <td>SixEleven</td>\n      <td>SHA-256</td>\n      <td>True</td>\n      <td>PoW</td>\n      <td>NaN</td>\n      <td>611000</td>\n    </tr>\n    <tr>\n      <th>808</th>\n      <td>808</td>\n      <td>SHA-256</td>\n      <td>True</td>\n      <td>PoW/PoS</td>\n      <td>0.000000e+00</td>\n      <td>0</td>\n    </tr>\n  </tbody>\n</table>\n</div>"
     },
     "metadata": {},
     "execution_count": 4
    }
   ],
   "source": [
    "# Alternatively, use the provided csv file:\n",
    "file_path = f'../data/crypto_data.csv'\n",
    "crypto_df = pd.read_csv(file_path, index_col = 0)\n",
    "\n",
    "crypto_df.head()"
   ]
  },
  {
   "cell_type": "markdown",
   "metadata": {},
   "source": [
    "### Data Preprocessing"
   ]
  },
  {
   "cell_type": "code",
   "execution_count": 23,
   "metadata": {},
   "outputs": [
    {
     "output_type": "stream",
     "name": "stdout",
     "text": [
      "(1252, 6)\n"
     ]
    },
    {
     "output_type": "execute_result",
     "data": {
      "text/plain": [
       "      CoinName Algorithm  IsTrading ProofType  TotalCoinsMined TotalCoinSupply\n",
       "42     42 Coin    Scrypt       True   PoW/PoS     4.199995e+01              42\n",
       "365    365Coin       X11       True   PoW/PoS              NaN      2300000000\n",
       "404    404Coin    Scrypt       True   PoW/PoS     1.055185e+09       532000000\n",
       "611  SixEleven   SHA-256       True       PoW              NaN          611000\n",
       "808        808   SHA-256       True   PoW/PoS     0.000000e+00               0"
      ],
      "text/html": "<div>\n<style scoped>\n    .dataframe tbody tr th:only-of-type {\n        vertical-align: middle;\n    }\n\n    .dataframe tbody tr th {\n        vertical-align: top;\n    }\n\n    .dataframe thead th {\n        text-align: right;\n    }\n</style>\n<table border=\"1\" class=\"dataframe\">\n  <thead>\n    <tr style=\"text-align: right;\">\n      <th></th>\n      <th>CoinName</th>\n      <th>Algorithm</th>\n      <th>IsTrading</th>\n      <th>ProofType</th>\n      <th>TotalCoinsMined</th>\n      <th>TotalCoinSupply</th>\n    </tr>\n  </thead>\n  <tbody>\n    <tr>\n      <th>42</th>\n      <td>42 Coin</td>\n      <td>Scrypt</td>\n      <td>True</td>\n      <td>PoW/PoS</td>\n      <td>4.199995e+01</td>\n      <td>42</td>\n    </tr>\n    <tr>\n      <th>365</th>\n      <td>365Coin</td>\n      <td>X11</td>\n      <td>True</td>\n      <td>PoW/PoS</td>\n      <td>NaN</td>\n      <td>2300000000</td>\n    </tr>\n    <tr>\n      <th>404</th>\n      <td>404Coin</td>\n      <td>Scrypt</td>\n      <td>True</td>\n      <td>PoW/PoS</td>\n      <td>1.055185e+09</td>\n      <td>532000000</td>\n    </tr>\n    <tr>\n      <th>611</th>\n      <td>SixEleven</td>\n      <td>SHA-256</td>\n      <td>True</td>\n      <td>PoW</td>\n      <td>NaN</td>\n      <td>611000</td>\n    </tr>\n    <tr>\n      <th>808</th>\n      <td>808</td>\n      <td>SHA-256</td>\n      <td>True</td>\n      <td>PoW/PoS</td>\n      <td>0.000000e+00</td>\n      <td>0</td>\n    </tr>\n  </tbody>\n</table>\n</div>"
     },
     "metadata": {},
     "execution_count": 23
    }
   ],
   "source": [
    "# Keep only necessary columns:\n",
    "crypto_columns = ['CoinName','Algorithm','IsTrading','ProofType','TotalCoinsMined','TotalCoinSupply']\n",
    "crypto_df_clean = crypto_df[crypto_columns]\n",
    "\n",
    "print(crypto_df_clean.shape)\n",
    "crypto_df_clean.head()"
   ]
  },
  {
   "cell_type": "code",
   "execution_count": 24,
   "metadata": {},
   "outputs": [
    {
     "output_type": "stream",
     "name": "stdout",
     "text": [
      "(1144, 6)\n"
     ]
    },
    {
     "output_type": "execute_result",
     "data": {
      "text/plain": [
       "      CoinName Algorithm  IsTrading ProofType  TotalCoinsMined TotalCoinSupply\n",
       "42     42 Coin    Scrypt       True   PoW/PoS     4.199995e+01              42\n",
       "365    365Coin       X11       True   PoW/PoS              NaN      2300000000\n",
       "404    404Coin    Scrypt       True   PoW/PoS     1.055185e+09       532000000\n",
       "611  SixEleven   SHA-256       True       PoW              NaN          611000\n",
       "808        808   SHA-256       True   PoW/PoS     0.000000e+00               0"
      ],
      "text/html": "<div>\n<style scoped>\n    .dataframe tbody tr th:only-of-type {\n        vertical-align: middle;\n    }\n\n    .dataframe tbody tr th {\n        vertical-align: top;\n    }\n\n    .dataframe thead th {\n        text-align: right;\n    }\n</style>\n<table border=\"1\" class=\"dataframe\">\n  <thead>\n    <tr style=\"text-align: right;\">\n      <th></th>\n      <th>CoinName</th>\n      <th>Algorithm</th>\n      <th>IsTrading</th>\n      <th>ProofType</th>\n      <th>TotalCoinsMined</th>\n      <th>TotalCoinSupply</th>\n    </tr>\n  </thead>\n  <tbody>\n    <tr>\n      <th>42</th>\n      <td>42 Coin</td>\n      <td>Scrypt</td>\n      <td>True</td>\n      <td>PoW/PoS</td>\n      <td>4.199995e+01</td>\n      <td>42</td>\n    </tr>\n    <tr>\n      <th>365</th>\n      <td>365Coin</td>\n      <td>X11</td>\n      <td>True</td>\n      <td>PoW/PoS</td>\n      <td>NaN</td>\n      <td>2300000000</td>\n    </tr>\n    <tr>\n      <th>404</th>\n      <td>404Coin</td>\n      <td>Scrypt</td>\n      <td>True</td>\n      <td>PoW/PoS</td>\n      <td>1.055185e+09</td>\n      <td>532000000</td>\n    </tr>\n    <tr>\n      <th>611</th>\n      <td>SixEleven</td>\n      <td>SHA-256</td>\n      <td>True</td>\n      <td>PoW</td>\n      <td>NaN</td>\n      <td>611000</td>\n    </tr>\n    <tr>\n      <th>808</th>\n      <td>808</td>\n      <td>SHA-256</td>\n      <td>True</td>\n      <td>PoW/PoS</td>\n      <td>0.000000e+00</td>\n      <td>0</td>\n    </tr>\n  </tbody>\n</table>\n</div>"
     },
     "metadata": {},
     "execution_count": 24
    }
   ],
   "source": [
    "# Keep only cryptocurrencies that are trading\n",
    "crypto_df_clean = crypto_df_clean.loc[crypto_df_clean['IsTrading'] == True, :]\n",
    "\n",
    "print(crypto_df_clean.shape)\n",
    "crypto_df_clean.head()"
   ]
  },
  {
   "cell_type": "code",
   "execution_count": 25,
   "metadata": {},
   "outputs": [
    {
     "output_type": "stream",
     "name": "stdout",
     "text": [
      "(1144, 6)\n"
     ]
    },
    {
     "output_type": "execute_result",
     "data": {
      "text/plain": [
       "      CoinName Algorithm  IsTrading ProofType  TotalCoinsMined TotalCoinSupply\n",
       "42     42 Coin    Scrypt       True   PoW/PoS     4.199995e+01              42\n",
       "365    365Coin       X11       True   PoW/PoS              NaN      2300000000\n",
       "404    404Coin    Scrypt       True   PoW/PoS     1.055185e+09       532000000\n",
       "611  SixEleven   SHA-256       True       PoW              NaN          611000\n",
       "808        808   SHA-256       True   PoW/PoS     0.000000e+00               0"
      ],
      "text/html": "<div>\n<style scoped>\n    .dataframe tbody tr th:only-of-type {\n        vertical-align: middle;\n    }\n\n    .dataframe tbody tr th {\n        vertical-align: top;\n    }\n\n    .dataframe thead th {\n        text-align: right;\n    }\n</style>\n<table border=\"1\" class=\"dataframe\">\n  <thead>\n    <tr style=\"text-align: right;\">\n      <th></th>\n      <th>CoinName</th>\n      <th>Algorithm</th>\n      <th>IsTrading</th>\n      <th>ProofType</th>\n      <th>TotalCoinsMined</th>\n      <th>TotalCoinSupply</th>\n    </tr>\n  </thead>\n  <tbody>\n    <tr>\n      <th>42</th>\n      <td>42 Coin</td>\n      <td>Scrypt</td>\n      <td>True</td>\n      <td>PoW/PoS</td>\n      <td>4.199995e+01</td>\n      <td>42</td>\n    </tr>\n    <tr>\n      <th>365</th>\n      <td>365Coin</td>\n      <td>X11</td>\n      <td>True</td>\n      <td>PoW/PoS</td>\n      <td>NaN</td>\n      <td>2300000000</td>\n    </tr>\n    <tr>\n      <th>404</th>\n      <td>404Coin</td>\n      <td>Scrypt</td>\n      <td>True</td>\n      <td>PoW/PoS</td>\n      <td>1.055185e+09</td>\n      <td>532000000</td>\n    </tr>\n    <tr>\n      <th>611</th>\n      <td>SixEleven</td>\n      <td>SHA-256</td>\n      <td>True</td>\n      <td>PoW</td>\n      <td>NaN</td>\n      <td>611000</td>\n    </tr>\n    <tr>\n      <th>808</th>\n      <td>808</td>\n      <td>SHA-256</td>\n      <td>True</td>\n      <td>PoW/PoS</td>\n      <td>0.000000e+00</td>\n      <td>0</td>\n    </tr>\n  </tbody>\n</table>\n</div>"
     },
     "metadata": {},
     "execution_count": 25
    }
   ],
   "source": [
    "# Keep only cryptocurrencies with a working algorithm\n",
    "crypto_df_clean = crypto_df_clean[crypto_df_clean['Algorithm'].notna()]\n",
    "\n",
    "print(crypto_df_clean.shape)\n",
    "crypto_df_clean.head()"
   ]
  },
  {
   "cell_type": "code",
   "execution_count": 26,
   "metadata": {},
   "outputs": [
    {
     "output_type": "execute_result",
     "data": {
      "text/plain": [
       "      CoinName Algorithm ProofType  TotalCoinsMined TotalCoinSupply\n",
       "42     42 Coin    Scrypt   PoW/PoS     4.199995e+01              42\n",
       "365    365Coin       X11   PoW/PoS              NaN      2300000000\n",
       "404    404Coin    Scrypt   PoW/PoS     1.055185e+09       532000000\n",
       "611  SixEleven   SHA-256       PoW              NaN          611000\n",
       "808        808   SHA-256   PoW/PoS     0.000000e+00               0"
      ],
      "text/html": "<div>\n<style scoped>\n    .dataframe tbody tr th:only-of-type {\n        vertical-align: middle;\n    }\n\n    .dataframe tbody tr th {\n        vertical-align: top;\n    }\n\n    .dataframe thead th {\n        text-align: right;\n    }\n</style>\n<table border=\"1\" class=\"dataframe\">\n  <thead>\n    <tr style=\"text-align: right;\">\n      <th></th>\n      <th>CoinName</th>\n      <th>Algorithm</th>\n      <th>ProofType</th>\n      <th>TotalCoinsMined</th>\n      <th>TotalCoinSupply</th>\n    </tr>\n  </thead>\n  <tbody>\n    <tr>\n      <th>42</th>\n      <td>42 Coin</td>\n      <td>Scrypt</td>\n      <td>PoW/PoS</td>\n      <td>4.199995e+01</td>\n      <td>42</td>\n    </tr>\n    <tr>\n      <th>365</th>\n      <td>365Coin</td>\n      <td>X11</td>\n      <td>PoW/PoS</td>\n      <td>NaN</td>\n      <td>2300000000</td>\n    </tr>\n    <tr>\n      <th>404</th>\n      <td>404Coin</td>\n      <td>Scrypt</td>\n      <td>PoW/PoS</td>\n      <td>1.055185e+09</td>\n      <td>532000000</td>\n    </tr>\n    <tr>\n      <th>611</th>\n      <td>SixEleven</td>\n      <td>SHA-256</td>\n      <td>PoW</td>\n      <td>NaN</td>\n      <td>611000</td>\n    </tr>\n    <tr>\n      <th>808</th>\n      <td>808</td>\n      <td>SHA-256</td>\n      <td>PoW/PoS</td>\n      <td>0.000000e+00</td>\n      <td>0</td>\n    </tr>\n  </tbody>\n</table>\n</div>"
     },
     "metadata": {},
     "execution_count": 26
    }
   ],
   "source": [
    "# Remove the \"IsTrading\" column\n",
    "crypto_df_clean = crypto_df_clean.drop(columns = ['IsTrading'])\n",
    "\n",
    "crypto_df_clean.head()"
   ]
  },
  {
   "cell_type": "code",
   "execution_count": 27,
   "metadata": {},
   "outputs": [
    {
     "output_type": "stream",
     "name": "stdout",
     "text": [
      "(685, 5)\n"
     ]
    },
    {
     "output_type": "execute_result",
     "data": {
      "text/plain": [
       "       CoinName Algorithm ProofType  TotalCoinsMined TotalCoinSupply\n",
       "42      42 Coin    Scrypt   PoW/PoS     4.199995e+01              42\n",
       "404     404Coin    Scrypt   PoW/PoS     1.055185e+09       532000000\n",
       "808         808   SHA-256   PoW/PoS     0.000000e+00               0\n",
       "1337  EliteCoin       X13   PoW/PoS     2.927942e+10    314159265359\n",
       "BTC     Bitcoin   SHA-256       PoW     1.792718e+07        21000000"
      ],
      "text/html": "<div>\n<style scoped>\n    .dataframe tbody tr th:only-of-type {\n        vertical-align: middle;\n    }\n\n    .dataframe tbody tr th {\n        vertical-align: top;\n    }\n\n    .dataframe thead th {\n        text-align: right;\n    }\n</style>\n<table border=\"1\" class=\"dataframe\">\n  <thead>\n    <tr style=\"text-align: right;\">\n      <th></th>\n      <th>CoinName</th>\n      <th>Algorithm</th>\n      <th>ProofType</th>\n      <th>TotalCoinsMined</th>\n      <th>TotalCoinSupply</th>\n    </tr>\n  </thead>\n  <tbody>\n    <tr>\n      <th>42</th>\n      <td>42 Coin</td>\n      <td>Scrypt</td>\n      <td>PoW/PoS</td>\n      <td>4.199995e+01</td>\n      <td>42</td>\n    </tr>\n    <tr>\n      <th>404</th>\n      <td>404Coin</td>\n      <td>Scrypt</td>\n      <td>PoW/PoS</td>\n      <td>1.055185e+09</td>\n      <td>532000000</td>\n    </tr>\n    <tr>\n      <th>808</th>\n      <td>808</td>\n      <td>SHA-256</td>\n      <td>PoW/PoS</td>\n      <td>0.000000e+00</td>\n      <td>0</td>\n    </tr>\n    <tr>\n      <th>1337</th>\n      <td>EliteCoin</td>\n      <td>X13</td>\n      <td>PoW/PoS</td>\n      <td>2.927942e+10</td>\n      <td>314159265359</td>\n    </tr>\n    <tr>\n      <th>BTC</th>\n      <td>Bitcoin</td>\n      <td>SHA-256</td>\n      <td>PoW</td>\n      <td>1.792718e+07</td>\n      <td>21000000</td>\n    </tr>\n  </tbody>\n</table>\n</div>"
     },
     "metadata": {},
     "execution_count": 27
    }
   ],
   "source": [
    "# Remove rows with at least 1 null value\n",
    "crypto_df_clean = crypto_df_clean.dropna()\n",
    "\n",
    "print(crypto_df_clean.shape)\n",
    "crypto_df_clean.head()"
   ]
  },
  {
   "cell_type": "code",
   "execution_count": 28,
   "metadata": {},
   "outputs": [
    {
     "output_type": "stream",
     "name": "stdout",
     "text": [
      "(533, 5)\n"
     ]
    },
    {
     "output_type": "execute_result",
     "data": {
      "text/plain": [
       "       CoinName Algorithm ProofType  TotalCoinsMined TotalCoinSupply\n",
       "42      42 Coin    Scrypt   PoW/PoS     4.199995e+01              42\n",
       "404     404Coin    Scrypt   PoW/PoS     1.055185e+09       532000000\n",
       "1337  EliteCoin       X13   PoW/PoS     2.927942e+10    314159265359\n",
       "BTC     Bitcoin   SHA-256       PoW     1.792718e+07        21000000\n",
       "ETH    Ethereum    Ethash       PoW     1.076842e+08               0"
      ],
      "text/html": "<div>\n<style scoped>\n    .dataframe tbody tr th:only-of-type {\n        vertical-align: middle;\n    }\n\n    .dataframe tbody tr th {\n        vertical-align: top;\n    }\n\n    .dataframe thead th {\n        text-align: right;\n    }\n</style>\n<table border=\"1\" class=\"dataframe\">\n  <thead>\n    <tr style=\"text-align: right;\">\n      <th></th>\n      <th>CoinName</th>\n      <th>Algorithm</th>\n      <th>ProofType</th>\n      <th>TotalCoinsMined</th>\n      <th>TotalCoinSupply</th>\n    </tr>\n  </thead>\n  <tbody>\n    <tr>\n      <th>42</th>\n      <td>42 Coin</td>\n      <td>Scrypt</td>\n      <td>PoW/PoS</td>\n      <td>4.199995e+01</td>\n      <td>42</td>\n    </tr>\n    <tr>\n      <th>404</th>\n      <td>404Coin</td>\n      <td>Scrypt</td>\n      <td>PoW/PoS</td>\n      <td>1.055185e+09</td>\n      <td>532000000</td>\n    </tr>\n    <tr>\n      <th>1337</th>\n      <td>EliteCoin</td>\n      <td>X13</td>\n      <td>PoW/PoS</td>\n      <td>2.927942e+10</td>\n      <td>314159265359</td>\n    </tr>\n    <tr>\n      <th>BTC</th>\n      <td>Bitcoin</td>\n      <td>SHA-256</td>\n      <td>PoW</td>\n      <td>1.792718e+07</td>\n      <td>21000000</td>\n    </tr>\n    <tr>\n      <th>ETH</th>\n      <td>Ethereum</td>\n      <td>Ethash</td>\n      <td>PoW</td>\n      <td>1.076842e+08</td>\n      <td>0</td>\n    </tr>\n  </tbody>\n</table>\n</div>"
     },
     "metadata": {},
     "execution_count": 28
    }
   ],
   "source": [
    "# Remove rows with cryptocurrencies having no coins mined\n",
    "crypto_df_clean = crypto_df_clean.loc[crypto_df_clean['TotalCoinsMined'] != 0]\n",
    "\n",
    "print(crypto_df_clean.shape)\n",
    "crypto_df_clean.head()"
   ]
  },
  {
   "cell_type": "code",
   "execution_count": 33,
   "metadata": {},
   "outputs": [
    {
     "output_type": "stream",
     "name": "stdout",
     "text": [
      "(533, 5)\n"
     ]
    },
    {
     "output_type": "execute_result",
     "data": {
      "text/plain": [
       "       CoinName Algorithm ProofType  TotalCoinsMined TotalCoinSupply\n",
       "42      42 Coin    Scrypt   PoW/PoS     4.199995e+01              42\n",
       "404     404Coin    Scrypt   PoW/PoS     1.055185e+09       532000000\n",
       "1337  EliteCoin       X13   PoW/PoS     2.927942e+10    314159265359\n",
       "BTC     Bitcoin   SHA-256       PoW     1.792718e+07        21000000\n",
       "ETH    Ethereum    Ethash       PoW     1.076842e+08               0"
      ],
      "text/html": "<div>\n<style scoped>\n    .dataframe tbody tr th:only-of-type {\n        vertical-align: middle;\n    }\n\n    .dataframe tbody tr th {\n        vertical-align: top;\n    }\n\n    .dataframe thead th {\n        text-align: right;\n    }\n</style>\n<table border=\"1\" class=\"dataframe\">\n  <thead>\n    <tr style=\"text-align: right;\">\n      <th></th>\n      <th>CoinName</th>\n      <th>Algorithm</th>\n      <th>ProofType</th>\n      <th>TotalCoinsMined</th>\n      <th>TotalCoinSupply</th>\n    </tr>\n  </thead>\n  <tbody>\n    <tr>\n      <th>42</th>\n      <td>42 Coin</td>\n      <td>Scrypt</td>\n      <td>PoW/PoS</td>\n      <td>4.199995e+01</td>\n      <td>42</td>\n    </tr>\n    <tr>\n      <th>404</th>\n      <td>404Coin</td>\n      <td>Scrypt</td>\n      <td>PoW/PoS</td>\n      <td>1.055185e+09</td>\n      <td>532000000</td>\n    </tr>\n    <tr>\n      <th>1337</th>\n      <td>EliteCoin</td>\n      <td>X13</td>\n      <td>PoW/PoS</td>\n      <td>2.927942e+10</td>\n      <td>314159265359</td>\n    </tr>\n    <tr>\n      <th>BTC</th>\n      <td>Bitcoin</td>\n      <td>SHA-256</td>\n      <td>PoW</td>\n      <td>1.792718e+07</td>\n      <td>21000000</td>\n    </tr>\n    <tr>\n      <th>ETH</th>\n      <td>Ethereum</td>\n      <td>Ethash</td>\n      <td>PoW</td>\n      <td>1.076842e+08</td>\n      <td>0</td>\n    </tr>\n  </tbody>\n</table>\n</div>"
     },
     "metadata": {},
     "execution_count": 33
    }
   ],
   "source": [
    "# Drop rows where there are 'N/A' text values\n",
    "crypto_df_clean = crypto_df_clean[(crypto_df_clean != 'N/A').all(axis =1)]\n",
    "\n",
    "print(crypto_df_clean.shape)\n",
    "crypto_df_clean.head()"
   ]
  },
  {
   "cell_type": "code",
   "execution_count": 34,
   "metadata": {},
   "outputs": [
    {
     "output_type": "stream",
     "name": "stdout",
     "text": [
      "(533, 1)\n"
     ]
    },
    {
     "output_type": "execute_result",
     "data": {
      "text/plain": [
       "       CoinName\n",
       "42      42 Coin\n",
       "404     404Coin\n",
       "1337  EliteCoin\n",
       "BTC     Bitcoin\n",
       "ETH    Ethereum"
      ],
      "text/html": "<div>\n<style scoped>\n    .dataframe tbody tr th:only-of-type {\n        vertical-align: middle;\n    }\n\n    .dataframe tbody tr th {\n        vertical-align: top;\n    }\n\n    .dataframe thead th {\n        text-align: right;\n    }\n</style>\n<table border=\"1\" class=\"dataframe\">\n  <thead>\n    <tr style=\"text-align: right;\">\n      <th></th>\n      <th>CoinName</th>\n    </tr>\n  </thead>\n  <tbody>\n    <tr>\n      <th>42</th>\n      <td>42 Coin</td>\n    </tr>\n    <tr>\n      <th>404</th>\n      <td>404Coin</td>\n    </tr>\n    <tr>\n      <th>1337</th>\n      <td>EliteCoin</td>\n    </tr>\n    <tr>\n      <th>BTC</th>\n      <td>Bitcoin</td>\n    </tr>\n    <tr>\n      <th>ETH</th>\n      <td>Ethereum</td>\n    </tr>\n  </tbody>\n</table>\n</div>"
     },
     "metadata": {},
     "execution_count": 34
    }
   ],
   "source": [
    "# Store the 'CoinName'column in its own DataFrame prior to dropping it from crypto_df\n",
    "coins_name = pd.DataFrame(crypto_df_clean['CoinName'], index = crypto_df_clean.index)\n",
    "\n",
    "print(coins_name.shape)\n",
    "coins_name.head()"
   ]
  },
  {
   "cell_type": "code",
   "execution_count": 36,
   "metadata": {},
   "outputs": [
    {
     "output_type": "stream",
     "name": "stdout",
     "text": [
      "(533, 4)\n"
     ]
    },
    {
     "output_type": "execute_result",
     "data": {
      "text/plain": [
       "     Algorithm ProofType  TotalCoinsMined TotalCoinSupply\n",
       "42      Scrypt   PoW/PoS     4.199995e+01              42\n",
       "404     Scrypt   PoW/PoS     1.055185e+09       532000000\n",
       "1337       X13   PoW/PoS     2.927942e+10    314159265359\n",
       "BTC    SHA-256       PoW     1.792718e+07        21000000\n",
       "ETH     Ethash       PoW     1.076842e+08               0"
      ],
      "text/html": "<div>\n<style scoped>\n    .dataframe tbody tr th:only-of-type {\n        vertical-align: middle;\n    }\n\n    .dataframe tbody tr th {\n        vertical-align: top;\n    }\n\n    .dataframe thead th {\n        text-align: right;\n    }\n</style>\n<table border=\"1\" class=\"dataframe\">\n  <thead>\n    <tr style=\"text-align: right;\">\n      <th></th>\n      <th>Algorithm</th>\n      <th>ProofType</th>\n      <th>TotalCoinsMined</th>\n      <th>TotalCoinSupply</th>\n    </tr>\n  </thead>\n  <tbody>\n    <tr>\n      <th>42</th>\n      <td>Scrypt</td>\n      <td>PoW/PoS</td>\n      <td>4.199995e+01</td>\n      <td>42</td>\n    </tr>\n    <tr>\n      <th>404</th>\n      <td>Scrypt</td>\n      <td>PoW/PoS</td>\n      <td>1.055185e+09</td>\n      <td>532000000</td>\n    </tr>\n    <tr>\n      <th>1337</th>\n      <td>X13</td>\n      <td>PoW/PoS</td>\n      <td>2.927942e+10</td>\n      <td>314159265359</td>\n    </tr>\n    <tr>\n      <th>BTC</th>\n      <td>SHA-256</td>\n      <td>PoW</td>\n      <td>1.792718e+07</td>\n      <td>21000000</td>\n    </tr>\n    <tr>\n      <th>ETH</th>\n      <td>Ethash</td>\n      <td>PoW</td>\n      <td>1.076842e+08</td>\n      <td>0</td>\n    </tr>\n  </tbody>\n</table>\n</div>"
     },
     "metadata": {},
     "execution_count": 36
    }
   ],
   "source": [
    "# Drop the 'CoinName' column since it's not going to be used on the clustering algorithm\n",
    "crypto_df_clean = crypto_df_clean.drop(columns = ['CoinName'])\n",
    "\n",
    "print(crypto_df_clean.shape)\n",
    "crypto_df_clean.head()"
   ]
  },
  {
   "cell_type": "code",
   "execution_count": 45,
   "metadata": {},
   "outputs": [
    {
     "output_type": "stream",
     "name": "stdout",
     "text": [
      "(533, 100)\n"
     ]
    },
    {
     "output_type": "execute_result",
     "data": {
      "text/plain": [
       "      TotalCoinsMined  TotalCoinSupply  Algorithm_1GB AES Pattern Search  \\\n",
       "42       4.199995e+01     4.200000e+01                                 0   \n",
       "404      1.055185e+09     5.320000e+08                                 0   \n",
       "1337     2.927942e+10     3.141593e+11                                 0   \n",
       "BTC      1.792718e+07     2.100000e+07                                 0   \n",
       "ETH      1.076842e+08     0.000000e+00                                 0   \n",
       "\n",
       "      Algorithm_536  Algorithm_Argon2d  Algorithm_BLAKE256  Algorithm_Blake  \\\n",
       "42                0                  0                   0                0   \n",
       "404               0                  0                   0                0   \n",
       "1337              0                  0                   0                0   \n",
       "BTC               0                  0                   0                0   \n",
       "ETH               0                  0                   0                0   \n",
       "\n",
       "      Algorithm_Blake2S  Algorithm_Blake2b  Algorithm_C11  ...  \\\n",
       "42                    0                  0              0  ...   \n",
       "404                   0                  0              0  ...   \n",
       "1337                  0                  0              0  ...   \n",
       "BTC                   0                  0              0  ...   \n",
       "ETH                   0                  0              0  ...   \n",
       "\n",
       "      ProofType_PoW/PoS  ProofType_PoW/PoS   ProofType_PoW/PoW  \\\n",
       "42                    1                   0                  0   \n",
       "404                   1                   0                  0   \n",
       "1337                  1                   0                  0   \n",
       "BTC                   0                   0                  0   \n",
       "ETH                   0                   0                  0   \n",
       "\n",
       "      ProofType_PoW/nPoS  ProofType_Pos  ProofType_Proof of Authority  \\\n",
       "42                     0              0                             0   \n",
       "404                    0              0                             0   \n",
       "1337                   0              0                             0   \n",
       "BTC                    0              0                             0   \n",
       "ETH                    0              0                             0   \n",
       "\n",
       "      ProofType_Proof of Trust  ProofType_TPoS  \\\n",
       "42                           0               0   \n",
       "404                          0               0   \n",
       "1337                         0               0   \n",
       "BTC                          0               0   \n",
       "ETH                          0               0   \n",
       "\n",
       "      ProofType_Zero-Knowledge Proof  ProofType_dPoW/PoW  \n",
       "42                                 0                   0  \n",
       "404                                0                   0  \n",
       "1337                               0                   0  \n",
       "BTC                                0                   0  \n",
       "ETH                                0                   0  \n",
       "\n",
       "[5 rows x 100 columns]"
      ],
      "text/html": "<div>\n<style scoped>\n    .dataframe tbody tr th:only-of-type {\n        vertical-align: middle;\n    }\n\n    .dataframe tbody tr th {\n        vertical-align: top;\n    }\n\n    .dataframe thead th {\n        text-align: right;\n    }\n</style>\n<table border=\"1\" class=\"dataframe\">\n  <thead>\n    <tr style=\"text-align: right;\">\n      <th></th>\n      <th>TotalCoinsMined</th>\n      <th>TotalCoinSupply</th>\n      <th>Algorithm_1GB AES Pattern Search</th>\n      <th>Algorithm_536</th>\n      <th>Algorithm_Argon2d</th>\n      <th>Algorithm_BLAKE256</th>\n      <th>Algorithm_Blake</th>\n      <th>Algorithm_Blake2S</th>\n      <th>Algorithm_Blake2b</th>\n      <th>Algorithm_C11</th>\n      <th>...</th>\n      <th>ProofType_PoW/PoS</th>\n      <th>ProofType_PoW/PoS</th>\n      <th>ProofType_PoW/PoW</th>\n      <th>ProofType_PoW/nPoS</th>\n      <th>ProofType_Pos</th>\n      <th>ProofType_Proof of Authority</th>\n      <th>ProofType_Proof of Trust</th>\n      <th>ProofType_TPoS</th>\n      <th>ProofType_Zero-Knowledge Proof</th>\n      <th>ProofType_dPoW/PoW</th>\n    </tr>\n  </thead>\n  <tbody>\n    <tr>\n      <th>42</th>\n      <td>4.199995e+01</td>\n      <td>4.200000e+01</td>\n      <td>0</td>\n      <td>0</td>\n      <td>0</td>\n      <td>0</td>\n      <td>0</td>\n      <td>0</td>\n      <td>0</td>\n      <td>0</td>\n      <td>...</td>\n      <td>1</td>\n      <td>0</td>\n      <td>0</td>\n      <td>0</td>\n      <td>0</td>\n      <td>0</td>\n      <td>0</td>\n      <td>0</td>\n      <td>0</td>\n      <td>0</td>\n    </tr>\n    <tr>\n      <th>404</th>\n      <td>1.055185e+09</td>\n      <td>5.320000e+08</td>\n      <td>0</td>\n      <td>0</td>\n      <td>0</td>\n      <td>0</td>\n      <td>0</td>\n      <td>0</td>\n      <td>0</td>\n      <td>0</td>\n      <td>...</td>\n      <td>1</td>\n      <td>0</td>\n      <td>0</td>\n      <td>0</td>\n      <td>0</td>\n      <td>0</td>\n      <td>0</td>\n      <td>0</td>\n      <td>0</td>\n      <td>0</td>\n    </tr>\n    <tr>\n      <th>1337</th>\n      <td>2.927942e+10</td>\n      <td>3.141593e+11</td>\n      <td>0</td>\n      <td>0</td>\n      <td>0</td>\n      <td>0</td>\n      <td>0</td>\n      <td>0</td>\n      <td>0</td>\n      <td>0</td>\n      <td>...</td>\n      <td>1</td>\n      <td>0</td>\n      <td>0</td>\n      <td>0</td>\n      <td>0</td>\n      <td>0</td>\n      <td>0</td>\n      <td>0</td>\n      <td>0</td>\n      <td>0</td>\n    </tr>\n    <tr>\n      <th>BTC</th>\n      <td>1.792718e+07</td>\n      <td>2.100000e+07</td>\n      <td>0</td>\n      <td>0</td>\n      <td>0</td>\n      <td>0</td>\n      <td>0</td>\n      <td>0</td>\n      <td>0</td>\n      <td>0</td>\n      <td>...</td>\n      <td>0</td>\n      <td>0</td>\n      <td>0</td>\n      <td>0</td>\n      <td>0</td>\n      <td>0</td>\n      <td>0</td>\n      <td>0</td>\n      <td>0</td>\n      <td>0</td>\n    </tr>\n    <tr>\n      <th>ETH</th>\n      <td>1.076842e+08</td>\n      <td>0.000000e+00</td>\n      <td>0</td>\n      <td>0</td>\n      <td>0</td>\n      <td>0</td>\n      <td>0</td>\n      <td>0</td>\n      <td>0</td>\n      <td>0</td>\n      <td>...</td>\n      <td>0</td>\n      <td>0</td>\n      <td>0</td>\n      <td>0</td>\n      <td>0</td>\n      <td>0</td>\n      <td>0</td>\n      <td>0</td>\n      <td>0</td>\n      <td>0</td>\n    </tr>\n  </tbody>\n</table>\n<p>5 rows × 100 columns</p>\n</div>"
     },
     "metadata": {},
     "execution_count": 45
    }
   ],
   "source": [
    "# Create dummy variables for text features\n",
    "crypto_df_clean['TotalCoinsMined'] = crypto_df_clean['TotalCoinsMined'].apply(lambda x: float(x))\n",
    "crypto_df_clean['TotalCoinSupply'] = crypto_df_clean['TotalCoinSupply'].apply(lambda x: float(x))\n",
    "\n",
    "X = pd.get_dummies(crypto_df_clean, columns = ['Algorithm', 'ProofType'])\n",
    "\n",
    "print(X.shape)\n",
    "X.head()"
   ]
  },
  {
   "cell_type": "code",
   "execution_count": 49,
   "metadata": {},
   "outputs": [
    {
     "output_type": "stream",
     "name": "stdout",
     "text": [
      "[-0.11674788 -0.15286468 -0.0433555  -0.0433555  -0.0433555  -0.06137164\n -0.07523548 -0.0433555  -0.06137164 -0.06137164 -0.0433555  -0.0433555\n -0.19226279 -0.06137164 -0.09731237 -0.0433555  -0.11536024 -0.07523548\n -0.0433555  -0.0433555  -0.15176505 -0.0433555  -0.13105561 -0.0433555\n -0.0433555  -0.08695652 -0.0433555  -0.0433555  -0.0433555  -0.0433555\n -0.06137164 -0.0433555  -0.08695652 -0.08695652 -0.08695652 -0.0433555\n -0.13105561 -0.13827675 -0.13827675 -0.0433555  -0.06137164 -0.0433555\n -0.07523548 -0.1815096  -0.0433555  -0.0433555  -0.0433555  -0.07523548\n -0.15811388 -0.3145935  -0.0433555  -0.08695652 -0.07523548 -0.06137164\n -0.0433555   1.38873015 -0.0433555  -0.0433555  -0.06137164 -0.0433555\n -0.0433555  -0.0433555  -0.0433555  -0.0433555  -0.0433555  -0.0433555\n -0.0433555  -0.39836623 -0.0433555  -0.1815096  -0.0433555  -0.08695652\n -0.08695652 -0.10670145 -0.0433555  -0.0433555  -0.13105561 -0.0433555\n -0.0433555  -0.0433555  -0.0433555  -0.07523548 -0.4386271  -0.0433555\n -0.06137164 -0.0433555  -0.0433555  -0.89480483 -0.0433555  -0.0433555\n  1.42422228 -0.0433555  -0.0433555  -0.0433555  -0.0433555  -0.0433555\n -0.0433555  -0.0433555  -0.0433555  -0.0433555 ]\n"
     ]
    }
   ],
   "source": [
    "# Standardize data\n",
    "X_scaled = StandardScaler().fit_transform(X)\n",
    "\n",
    "print(X_scaled[0])"
   ]
  },
  {
   "cell_type": "markdown",
   "metadata": {},
   "source": [
    "### Reducing Dimensions Using PCA"
   ]
  },
  {
   "cell_type": "code",
   "execution_count": 50,
   "metadata": {},
   "outputs": [],
   "source": [
    "# Use PCA to reduce dimensions to 3 principal components\n",
    "pca = PCA(n_components = 3)\n",
    "\n",
    "X_pca = pca.fit_transform(X_scaled)"
   ]
  },
  {
   "cell_type": "code",
   "execution_count": 52,
   "metadata": {},
   "outputs": [
    {
     "output_type": "execute_result",
     "data": {
      "text/plain": [
       "          pc_1      pc_2      pc_3\n",
       "42   -0.333229  1.007540 -0.534093\n",
       "404  -0.316504  1.007560 -0.534332\n",
       "1337  2.310063  1.622218 -0.533869\n",
       "BTC  -0.152170 -1.272462  0.169381\n",
       "ETH  -0.158449 -1.981389  0.306344\n",
       "LTC  -0.163761 -1.126841 -0.061794\n",
       "DASH -0.391493  1.193867 -0.362269\n",
       "XMR  -0.167401 -2.181933  0.291203\n",
       "ETC  -0.156886 -1.981499  0.306331\n",
       "ZEC  -0.129335 -2.128327  0.435802"
      ],
      "text/html": "<div>\n<style scoped>\n    .dataframe tbody tr th:only-of-type {\n        vertical-align: middle;\n    }\n\n    .dataframe tbody tr th {\n        vertical-align: top;\n    }\n\n    .dataframe thead th {\n        text-align: right;\n    }\n</style>\n<table border=\"1\" class=\"dataframe\">\n  <thead>\n    <tr style=\"text-align: right;\">\n      <th></th>\n      <th>pc_1</th>\n      <th>pc_2</th>\n      <th>pc_3</th>\n    </tr>\n  </thead>\n  <tbody>\n    <tr>\n      <th>42</th>\n      <td>-0.333229</td>\n      <td>1.007540</td>\n      <td>-0.534093</td>\n    </tr>\n    <tr>\n      <th>404</th>\n      <td>-0.316504</td>\n      <td>1.007560</td>\n      <td>-0.534332</td>\n    </tr>\n    <tr>\n      <th>1337</th>\n      <td>2.310063</td>\n      <td>1.622218</td>\n      <td>-0.533869</td>\n    </tr>\n    <tr>\n      <th>BTC</th>\n      <td>-0.152170</td>\n      <td>-1.272462</td>\n      <td>0.169381</td>\n    </tr>\n    <tr>\n      <th>ETH</th>\n      <td>-0.158449</td>\n      <td>-1.981389</td>\n      <td>0.306344</td>\n    </tr>\n    <tr>\n      <th>LTC</th>\n      <td>-0.163761</td>\n      <td>-1.126841</td>\n      <td>-0.061794</td>\n    </tr>\n    <tr>\n      <th>DASH</th>\n      <td>-0.391493</td>\n      <td>1.193867</td>\n      <td>-0.362269</td>\n    </tr>\n    <tr>\n      <th>XMR</th>\n      <td>-0.167401</td>\n      <td>-2.181933</td>\n      <td>0.291203</td>\n    </tr>\n    <tr>\n      <th>ETC</th>\n      <td>-0.156886</td>\n      <td>-1.981499</td>\n      <td>0.306331</td>\n    </tr>\n    <tr>\n      <th>ZEC</th>\n      <td>-0.129335</td>\n      <td>-2.128327</td>\n      <td>0.435802</td>\n    </tr>\n  </tbody>\n</table>\n</div>"
     },
     "metadata": {},
     "execution_count": 52
    }
   ],
   "source": [
    "# Create a DataFrame with the principal components data\n",
    "pcs_df = pd.DataFrame(X_pca, index = crypto_df_clean.index, columns = ['pc_1', 'pc_2', 'pc_3'])\n",
    "\n",
    "pcs_df.head(10)"
   ]
  },
  {
   "cell_type": "markdown",
   "metadata": {},
   "source": [
    "### Clustering Crytocurrencies Using K-Means\n",
    "\n",
    "#### Find the Best Value for `k` Using the Elbow Curve"
   ]
  },
  {
   "cell_type": "code",
   "execution_count": 54,
   "metadata": {},
   "outputs": [
    {
     "output_type": "execute_result",
     "data": {
      "text/html": "<div id='1001'>\n\n\n\n\n\n  <div class=\"bk-root\" id=\"d6319d92-20ae-49ba-8b11-bb860c19ce9c\" data-root-id=\"1001\"></div>\n</div>\n<script type=\"application/javascript\">(function(root) {\n  function embed_document(root) {\n  var docs_json = {\"a5ea712d-adf7-4766-8007-05add14dd2ec\":{\"roots\":{\"references\":[{\"attributes\":{\"data_source\":{\"id\":\"1036\"},\"glyph\":{\"id\":\"1039\"},\"hover_glyph\":null,\"muted_glyph\":{\"id\":\"1041\"},\"nonselection_glyph\":{\"id\":\"1040\"},\"selection_glyph\":null,\"view\":{\"id\":\"1043\"}},\"id\":\"1042\",\"type\":\"GlyphRenderer\"},{\"attributes\":{\"source\":{\"id\":\"1036\"}},\"id\":\"1043\",\"type\":\"CDSView\"},{\"attributes\":{\"axis_label\":\"inertia\",\"bounds\":\"auto\",\"formatter\":{\"id\":\"1049\"},\"major_label_orientation\":\"horizontal\",\"ticker\":{\"id\":\"1020\"}},\"id\":\"1019\",\"type\":\"LinearAxis\"},{\"attributes\":{\"axis\":{\"id\":\"1015\"},\"grid_line_color\":null,\"ticker\":null},\"id\":\"1018\",\"type\":\"Grid\"},{\"attributes\":{\"data\":{\"inertia\":{\"__ndarray__\":\"oT7tPqJ7rEA+nujwU1ajQL5CeaWVYpdAAFxnQn9Ug0DrgQvDQDl7QEhCYpAe/HNAeFUt1AUlcEB3J5pFAKBpQMUgRUvbF2VAN2PyjF7cYEA=\",\"dtype\":\"float64\",\"order\":\"little\",\"shape\":[10]},\"k\":[1,2,3,4,5,6,7,8,9,10]},\"selected\":{\"id\":\"1037\"},\"selection_policy\":{\"id\":\"1057\"}},\"id\":\"1036\",\"type\":\"ColumnDataSource\"},{\"attributes\":{},\"id\":\"1045\",\"type\":\"BasicTickFormatter\"},{\"attributes\":{},\"id\":\"1020\",\"type\":\"BasicTicker\"},{\"attributes\":{\"active_drag\":\"auto\",\"active_inspect\":\"auto\",\"active_multi\":null,\"active_scroll\":\"auto\",\"active_tap\":\"auto\",\"tools\":[{\"id\":\"1005\"},{\"id\":\"1023\"},{\"id\":\"1024\"},{\"id\":\"1025\"},{\"id\":\"1026\"},{\"id\":\"1027\"}]},\"id\":\"1029\",\"type\":\"Toolbar\"},{\"attributes\":{\"axis\":{\"id\":\"1019\"},\"dimension\":1,\"grid_line_color\":null,\"ticker\":null},\"id\":\"1022\",\"type\":\"Grid\"},{\"attributes\":{\"children\":[{\"id\":\"1002\"},{\"id\":\"1006\"},{\"id\":\"1065\"}],\"margin\":[0,0,0,0],\"name\":\"Row01521\",\"tags\":[\"embedded\"]},\"id\":\"1001\",\"type\":\"Row\"},{\"attributes\":{\"line_alpha\":0.2,\"line_color\":\"#1f77b3\",\"line_width\":2,\"x\":{\"field\":\"k\"},\"y\":{\"field\":\"inertia\"}},\"id\":\"1041\",\"type\":\"Line\"},{\"attributes\":{\"bottom_units\":\"screen\",\"fill_alpha\":0.5,\"fill_color\":\"lightgrey\",\"left_units\":\"screen\",\"level\":\"overlay\",\"line_alpha\":1.0,\"line_color\":\"black\",\"line_dash\":[4,4],\"line_width\":2,\"right_units\":\"screen\",\"top_units\":\"screen\"},\"id\":\"1028\",\"type\":\"BoxAnnotation\"},{\"attributes\":{},\"id\":\"1037\",\"type\":\"Selection\"},{\"attributes\":{},\"id\":\"1049\",\"type\":\"BasicTickFormatter\"},{\"attributes\":{},\"id\":\"1057\",\"type\":\"UnionRenderers\"},{\"attributes\":{\"end\":10.0,\"reset_end\":10.0,\"reset_start\":1.0,\"start\":1.0,\"tags\":[[[\"k\",\"k\",null]]]},\"id\":\"1003\",\"type\":\"Range1d\"},{\"attributes\":{\"end\":3996.909920795387,\"reset_end\":3996.909920795387,\"reset_start\":-216.2064926344252,\"start\":-216.2064926344252,\"tags\":[[[\"inertia\",\"inertia\",null]]]},\"id\":\"1004\",\"type\":\"Range1d\"},{\"attributes\":{\"line_alpha\":0.1,\"line_color\":\"#1f77b3\",\"line_width\":2,\"x\":{\"field\":\"k\"},\"y\":{\"field\":\"inertia\"}},\"id\":\"1040\",\"type\":\"Line\"},{\"attributes\":{},\"id\":\"1023\",\"type\":\"SaveTool\"},{\"attributes\":{\"margin\":[5,5,5,5],\"name\":\"HSpacer01525\",\"sizing_mode\":\"stretch_width\"},\"id\":\"1002\",\"type\":\"Spacer\"},{\"attributes\":{\"align\":null,\"below\":[{\"id\":\"1015\"}],\"center\":[{\"id\":\"1018\"},{\"id\":\"1022\"}],\"left\":[{\"id\":\"1019\"}],\"margin\":null,\"min_border_bottom\":10,\"min_border_left\":10,\"min_border_right\":10,\"min_border_top\":10,\"plot_height\":300,\"plot_width\":700,\"renderers\":[{\"id\":\"1042\"}],\"sizing_mode\":\"fixed\",\"title\":{\"id\":\"1007\"},\"toolbar\":{\"id\":\"1029\"},\"x_range\":{\"id\":\"1003\"},\"x_scale\":{\"id\":\"1011\"},\"y_range\":{\"id\":\"1004\"},\"y_scale\":{\"id\":\"1013\"}},\"id\":\"1006\",\"subtype\":\"Figure\",\"type\":\"Plot\"},{\"attributes\":{},\"id\":\"1025\",\"type\":\"WheelZoomTool\"},{\"attributes\":{},\"id\":\"1011\",\"type\":\"LinearScale\"},{\"attributes\":{\"margin\":[5,5,5,5],\"name\":\"HSpacer01526\",\"sizing_mode\":\"stretch_width\"},\"id\":\"1065\",\"type\":\"Spacer\"},{\"attributes\":{},\"id\":\"1024\",\"type\":\"PanTool\"},{\"attributes\":{\"ticks\":[1,2,3,4,5,6,7,8,9,10]},\"id\":\"1044\",\"type\":\"FixedTicker\"},{\"attributes\":{\"text\":\"elbow_curve\",\"text_color\":{\"value\":\"black\"},\"text_font_size\":{\"value\":\"12pt\"}},\"id\":\"1007\",\"type\":\"Title\"},{\"attributes\":{\"overlay\":{\"id\":\"1028\"}},\"id\":\"1026\",\"type\":\"BoxZoomTool\"},{\"attributes\":{\"line_color\":\"#1f77b3\",\"line_width\":2,\"x\":{\"field\":\"k\"},\"y\":{\"field\":\"inertia\"}},\"id\":\"1039\",\"type\":\"Line\"},{\"attributes\":{},\"id\":\"1013\",\"type\":\"LinearScale\"},{\"attributes\":{\"axis_label\":\"k\",\"bounds\":\"auto\",\"formatter\":{\"id\":\"1045\"},\"major_label_orientation\":\"horizontal\",\"ticker\":{\"id\":\"1044\"}},\"id\":\"1015\",\"type\":\"LinearAxis\"},{\"attributes\":{\"callback\":null,\"renderers\":[{\"id\":\"1042\"}],\"tags\":[\"hv_created\"],\"tooltips\":[[\"k\",\"@{k}\"],[\"inertia\",\"@{inertia}\"]]},\"id\":\"1005\",\"type\":\"HoverTool\"},{\"attributes\":{},\"id\":\"1027\",\"type\":\"ResetTool\"}],\"root_ids\":[\"1001\"]},\"title\":\"Bokeh Application\",\"version\":\"2.1.1\"}};\n  var render_items = [{\"docid\":\"a5ea712d-adf7-4766-8007-05add14dd2ec\",\"root_ids\":[\"1001\"],\"roots\":{\"1001\":\"d6319d92-20ae-49ba-8b11-bb860c19ce9c\"}}];\n  root.Bokeh.embed.embed_items_notebook(docs_json, render_items);\n  }\nif (root.Bokeh !== undefined) {\n    embed_document(root);\n  } else {\n    var attempts = 0;\n    var timer = setInterval(function(root) {\n      if (root.Bokeh !== undefined) {\n        clearInterval(timer);\n        embed_document(root);\n      } else if (document.readyState == \"complete\") {\n        attempts++;\n        if (attempts > 100) {\n          clearInterval(timer);\n          console.log(\"Bokeh: ERROR: Unable to run BokehJS code because BokehJS library is missing\");\n        }\n      }\n    }, 10, root)\n  }\n})(window);</script>",
      "application/vnd.holoviews_exec.v0+json": "",
      "text/plain": [
       ":Curve   [k]   (inertia)"
      ]
     },
     "metadata": {
      "application/vnd.holoviews_exec.v0+json": {
       "id": "1001"
      }
     },
     "execution_count": 54
    }
   ],
   "source": [
    "inertia = []\n",
    "k = list(range(1, 11))\n",
    "\n",
    "# Calculate the inertia for the range of k values\n",
    "for i in k:\n",
    "    km = KMeans(n_clusters = i, random_state = 14)\n",
    "    km.fit(pcs_df)\n",
    "    inertia.append(km.inertia_)\n",
    "\n",
    "# Create the Elbow Curve using hvPlot\n",
    "elbow_data = {'k' : k, 'inertia' : inertia}\n",
    "df_elbow = pd.DataFrame(elbow_data)\n",
    "df_elbow.hvplot.line(x = 'k', y = 'inertia', xticks = k, title = 'elbow_curve')"
   ]
  },
  {
   "cell_type": "markdown",
   "metadata": {},
   "source": [
    "Running K-Means with `k = 5`"
   ]
  },
  {
   "cell_type": "code",
   "execution_count": 87,
   "metadata": {},
   "outputs": [
    {
     "output_type": "stream",
     "name": "stdout",
     "text": [
      "(533, 9)\n"
     ]
    },
    {
     "output_type": "execute_result",
     "data": {
      "text/plain": [
       "       CoinName Algorithm ProofType  TotalCoinsMined  TotalCoinSupply  \\\n",
       "42      42 Coin    Scrypt   PoW/PoS     4.199995e+01     4.200000e+01   \n",
       "404     404Coin    Scrypt   PoW/PoS     1.055185e+09     5.320000e+08   \n",
       "1337  EliteCoin       X13   PoW/PoS     2.927942e+10     3.141593e+11   \n",
       "BTC     Bitcoin   SHA-256       PoW     1.792718e+07     2.100000e+07   \n",
       "ETH    Ethereum    Ethash       PoW     1.076842e+08     0.000000e+00   \n",
       "\n",
       "          pc_1      pc_2      pc_3  class  \n",
       "42   -0.333229  1.007540 -0.534093      0  \n",
       "404  -0.316504  1.007560 -0.534332      0  \n",
       "1337  2.310063  1.622218 -0.533869      4  \n",
       "BTC  -0.152170 -1.272462  0.169381      1  \n",
       "ETH  -0.158449 -1.981389  0.306344      1  "
      ],
      "text/html": "<div>\n<style scoped>\n    .dataframe tbody tr th:only-of-type {\n        vertical-align: middle;\n    }\n\n    .dataframe tbody tr th {\n        vertical-align: top;\n    }\n\n    .dataframe thead th {\n        text-align: right;\n    }\n</style>\n<table border=\"1\" class=\"dataframe\">\n  <thead>\n    <tr style=\"text-align: right;\">\n      <th></th>\n      <th>CoinName</th>\n      <th>Algorithm</th>\n      <th>ProofType</th>\n      <th>TotalCoinsMined</th>\n      <th>TotalCoinSupply</th>\n      <th>pc_1</th>\n      <th>pc_2</th>\n      <th>pc_3</th>\n      <th>class</th>\n    </tr>\n  </thead>\n  <tbody>\n    <tr>\n      <th>42</th>\n      <td>42 Coin</td>\n      <td>Scrypt</td>\n      <td>PoW/PoS</td>\n      <td>4.199995e+01</td>\n      <td>4.200000e+01</td>\n      <td>-0.333229</td>\n      <td>1.007540</td>\n      <td>-0.534093</td>\n      <td>0</td>\n    </tr>\n    <tr>\n      <th>404</th>\n      <td>404Coin</td>\n      <td>Scrypt</td>\n      <td>PoW/PoS</td>\n      <td>1.055185e+09</td>\n      <td>5.320000e+08</td>\n      <td>-0.316504</td>\n      <td>1.007560</td>\n      <td>-0.534332</td>\n      <td>0</td>\n    </tr>\n    <tr>\n      <th>1337</th>\n      <td>EliteCoin</td>\n      <td>X13</td>\n      <td>PoW/PoS</td>\n      <td>2.927942e+10</td>\n      <td>3.141593e+11</td>\n      <td>2.310063</td>\n      <td>1.622218</td>\n      <td>-0.533869</td>\n      <td>4</td>\n    </tr>\n    <tr>\n      <th>BTC</th>\n      <td>Bitcoin</td>\n      <td>SHA-256</td>\n      <td>PoW</td>\n      <td>1.792718e+07</td>\n      <td>2.100000e+07</td>\n      <td>-0.152170</td>\n      <td>-1.272462</td>\n      <td>0.169381</td>\n      <td>1</td>\n    </tr>\n    <tr>\n      <th>ETH</th>\n      <td>Ethereum</td>\n      <td>Ethash</td>\n      <td>PoW</td>\n      <td>1.076842e+08</td>\n      <td>0.000000e+00</td>\n      <td>-0.158449</td>\n      <td>-1.981389</td>\n      <td>0.306344</td>\n      <td>1</td>\n    </tr>\n  </tbody>\n</table>\n</div>"
     },
     "metadata": {},
     "execution_count": 87
    }
   ],
   "source": [
    "# Initialize the K-Means model\n",
    "model = KMeans(n_clusters = 5, random_state = 14)\n",
    "\n",
    "# Fit the model\n",
    "model.fit(pcs_df)\n",
    "\n",
    "# Predict clusters\n",
    "prediction = model.predict(pcs_df)\n",
    "\n",
    "# Create a new DataFrame including predicted clusters and cryptocurrencies features\n",
    "pcs_df['class'] = model.labels_\n",
    "\n",
    "clustered_df = pd.concat([coins_name, crypto_df_clean, pcs_df], join = 'inner', axis = 1)\n",
    "\n",
    "print(clustered_df.shape)\n",
    "clustered_df.head()"
   ]
  },
  {
   "cell_type": "markdown",
   "metadata": {},
   "source": [
    "### Visualizing Results\n",
    "\n",
    "#### 3D-Scatter with Clusters"
   ]
  },
  {
   "cell_type": "code",
   "execution_count": 89,
   "metadata": {},
   "outputs": [
    {
     "output_type": "display_data",
     "data": {
      "application/vnd.plotly.v1+json": {
       "config": {
        "plotlyServerURL": "https://plot.ly"
       },
       "data": [
        {
         "customdata": [
          [
           "Scrypt"
          ],
          [
           "Scrypt"
          ],
          [
           "X11"
          ],
          [
           "SHA-512"
          ],
          [
           "SHA-256"
          ],
          [
           "SHA-256"
          ],
          [
           "X15"
          ],
          [
           "Scrypt"
          ],
          [
           "Scrypt"
          ],
          [
           "Scrypt"
          ],
          [
           "Scrypt"
          ],
          [
           "Scrypt"
          ],
          [
           "Scrypt"
          ],
          [
           "Groestl"
          ],
          [
           "PoS"
          ],
          [
           "Scrypt"
          ],
          [
           "Scrypt"
          ],
          [
           "X11"
          ],
          [
           "X11"
          ],
          [
           "SHA3"
          ],
          [
           "Scrypt"
          ],
          [
           "SHA-256"
          ],
          [
           "Scrypt"
          ],
          [
           "X13"
          ],
          [
           "X13"
          ],
          [
           "NeoScrypt"
          ],
          [
           "Scrypt"
          ],
          [
           "Scrypt"
          ],
          [
           "Scrypt"
          ],
          [
           "X11"
          ],
          [
           "X11"
          ],
          [
           "Multiple"
          ],
          [
           "PHI1612"
          ],
          [
           "X11"
          ],
          [
           "Scrypt"
          ],
          [
           "Scrypt"
          ],
          [
           "Scrypt"
          ],
          [
           "X11"
          ],
          [
           "Multiple"
          ],
          [
           "X13"
          ],
          [
           "Scrypt"
          ],
          [
           "Shabal256"
          ],
          [
           "Counterparty"
          ],
          [
           "SHA-256"
          ],
          [
           "Groestl"
          ],
          [
           "Scrypt"
          ],
          [
           "X13"
          ],
          [
           "Scrypt"
          ],
          [
           "Scrypt"
          ],
          [
           "X13"
          ],
          [
           "X11"
          ],
          [
           "Scrypt"
          ],
          [
           "X11"
          ],
          [
           "SHA3"
          ],
          [
           "QUAIT"
          ],
          [
           "X11"
          ],
          [
           "Scrypt"
          ],
          [
           "X13"
          ],
          [
           "SHA-256"
          ],
          [
           "X15"
          ],
          [
           "BLAKE256"
          ],
          [
           "SHA-256"
          ],
          [
           "X11"
          ],
          [
           "SHA-256"
          ],
          [
           "NIST5"
          ],
          [
           "Scrypt"
          ],
          [
           "Scrypt"
          ],
          [
           "X11"
          ],
          [
           "Scrypt"
          ],
          [
           "SHA-256"
          ],
          [
           "Scrypt"
          ],
          [
           "PoS"
          ],
          [
           "X11"
          ],
          [
           "SHA-256"
          ],
          [
           "SHA-256"
          ],
          [
           "NIST5"
          ],
          [
           "X11"
          ],
          [
           "POS 3.0"
          ],
          [
           "Scrypt"
          ],
          [
           "Scrypt"
          ],
          [
           "Scrypt"
          ],
          [
           "X13"
          ],
          [
           "X11"
          ],
          [
           "X11"
          ],
          [
           "Scrypt"
          ],
          [
           "SHA-256"
          ],
          [
           "X11"
          ],
          [
           "Scrypt"
          ],
          [
           "Scrypt"
          ],
          [
           "Scrypt"
          ],
          [
           "Scrypt"
          ],
          [
           "SHA-256D"
          ],
          [
           "PoS"
          ],
          [
           "Scrypt"
          ],
          [
           "X11"
          ],
          [
           "PoS"
          ],
          [
           "X13"
          ],
          [
           "X14"
          ],
          [
           "PoS"
          ],
          [
           "SHA-256D"
          ],
          [
           "X11"
          ],
          [
           "X13"
          ],
          [
           "X11"
          ],
          [
           "PoS"
          ],
          [
           "Scrypt"
          ],
          [
           "Scrypt"
          ],
          [
           "PoS"
          ],
          [
           "X11"
          ],
          [
           "SHA-256"
          ],
          [
           "Scrypt"
          ],
          [
           "X11"
          ],
          [
           "Scrypt"
          ],
          [
           "Scrypt"
          ],
          [
           "X11"
          ],
          [
           "Scrypt"
          ],
          [
           "Scrypt"
          ],
          [
           "Scrypt"
          ],
          [
           "Scrypt"
          ],
          [
           "Quark"
          ],
          [
           "QuBit"
          ],
          [
           "Scrypt"
          ],
          [
           "SHA-256"
          ],
          [
           "X11"
          ],
          [
           "Scrypt"
          ],
          [
           "Scrypt"
          ],
          [
           "Scrypt"
          ],
          [
           "Scrypt"
          ],
          [
           "X13"
          ],
          [
           "Scrypt"
          ],
          [
           "Scrypt"
          ],
          [
           "X11"
          ],
          [
           "Blake2S"
          ],
          [
           "X11"
          ],
          [
           "PoS"
          ],
          [
           "X11"
          ],
          [
           "PoS"
          ],
          [
           "X11"
          ],
          [
           "Scrypt"
          ],
          [
           "Scrypt"
          ],
          [
           "Scrypt"
          ],
          [
           "SHA-256"
          ],
          [
           "X11"
          ],
          [
           "Scrypt"
          ],
          [
           "PoS"
          ],
          [
           "Scrypt"
          ],
          [
           "X15"
          ],
          [
           "SHA-256"
          ],
          [
           "POS 3.0"
          ],
          [
           "536"
          ],
          [
           "NIST5"
          ],
          [
           "NIST5"
          ],
          [
           "Skein"
          ],
          [
           "X13"
          ],
          [
           "Scrypt"
          ],
          [
           "X13"
          ],
          [
           "SkunkHash v2 Raptor"
          ],
          [
           "Skein"
          ],
          [
           "X11"
          ],
          [
           "Scrypt"
          ],
          [
           "PoS"
          ],
          [
           "Scrypt"
          ],
          [
           "Scrypt"
          ],
          [
           "SHA-512"
          ],
          [
           "Ouroboros"
          ],
          [
           "X11"
          ],
          [
           "NeoScrypt"
          ],
          [
           "Scrypt"
          ],
          [
           "Lyra2REv2"
          ],
          [
           "Scrypt"
          ],
          [
           "SHA-256"
          ],
          [
           "NIST5"
          ],
          [
           "PHI1612"
          ],
          [
           "Scrypt"
          ],
          [
           "Quark"
          ],
          [
           "POS 2.0"
          ],
          [
           "Scrypt"
          ],
          [
           "SHA-256"
          ],
          [
           "X11"
          ],
          [
           "NIST5"
          ],
          [
           "X13"
          ],
          [
           "Scrypt"
          ],
          [
           "NIST5"
          ],
          [
           "Quark"
          ],
          [
           "Scrypt"
          ],
          [
           "Scrypt"
          ],
          [
           "X11"
          ],
          [
           "Quark"
          ],
          [
           "Scrypt"
          ],
          [
           "Scrypt"
          ],
          [
           "X11"
          ],
          [
           "POS 3.0"
          ],
          [
           "Ethash"
          ],
          [
           "Scrypt"
          ],
          [
           "Scrypt"
          ],
          [
           "X13"
          ],
          [
           "SHA-256 + Hive"
          ],
          [
           "C11"
          ],
          [
           "Proof-of-Authority"
          ],
          [
           "X11"
          ],
          [
           "XEVAN"
          ],
          [
           "Scrypt"
          ],
          [
           "VBFT"
          ],
          [
           "NIST5"
          ],
          [
           "Scrypt"
          ],
          [
           "Scrypt"
          ],
          [
           "Scrypt"
          ],
          [
           "Green Protocol"
          ],
          [
           "PoS"
          ],
          [
           "Scrypt"
          ],
          [
           "Quark"
          ],
          [
           "PoS"
          ],
          [
           "X16R"
          ],
          [
           "Scrypt"
          ],
          [
           "XEVAN"
          ],
          [
           "Scrypt"
          ],
          [
           "Scrypt"
          ],
          [
           "Scrypt"
          ],
          [
           "SHA-256D"
          ],
          [
           "Scrypt"
          ],
          [
           "X15"
          ],
          [
           "Quark"
          ],
          [
           "SHA-256"
          ],
          [
           "DPoS"
          ],
          [
           "X16R"
          ],
          [
           "Quark"
          ],
          [
           "Quark"
          ],
          [
           "Scrypt"
          ],
          [
           "Lyra2REv2"
          ],
          [
           "Quark"
          ],
          [
           "Scrypt"
          ],
          [
           "X11"
          ],
          [
           "X11"
          ],
          [
           "Scrypt"
          ],
          [
           "PoS"
          ],
          [
           "Keccak"
          ],
          [
           "X11"
          ],
          [
           "Scrypt"
          ],
          [
           "SHA-512"
          ],
          [
           "XEVAN"
          ],
          [
           "XEVAN"
          ],
          [
           "X11"
          ],
          [
           "Quark"
          ],
          [
           "Scrypt"
          ],
          [
           "Quark"
          ],
          [
           "Quark"
          ],
          [
           "Scrypt"
          ],
          [
           "X11"
          ],
          [
           "Scrypt"
          ],
          [
           "XEVAN"
          ],
          [
           "SHA-256D"
          ],
          [
           "X11"
          ],
          [
           "X11"
          ],
          [
           "Scrypt"
          ],
          [
           "X11"
          ],
          [
           "Scrypt"
          ],
          [
           "Scrypt"
          ],
          [
           "SHA-256"
          ],
          [
           "Scrypt"
          ],
          [
           "X11"
          ],
          [
           "Scrypt"
          ],
          [
           "SHA-256"
          ],
          [
           "X11"
          ],
          [
           "Scrypt"
          ],
          [
           "Scrypt"
          ],
          [
           "X11"
          ],
          [
           "Scrypt"
          ],
          [
           "PoS"
          ],
          [
           "X11"
          ],
          [
           "SHA-256"
          ],
          [
           "Scrypt"
          ],
          [
           "Scrypt"
          ],
          [
           "NeoScrypt"
          ],
          [
           "X13"
          ],
          [
           "SHA-256"
          ],
          [
           "Leased POS"
          ],
          [
           "PoS"
          ],
          [
           "PoS"
          ],
          [
           "Scrypt"
          ],
          [
           "Scrypt"
          ]
         ],
         "hovertemplate": "<b>%{hovertext}</b><br><br>class=%{marker.color}<br>pc_3=%{x}<br>pc_2=%{y}<br>pc_1=%{z}<br>Algorithm=%{customdata[0]}<extra></extra>",
         "hovertext": [
          "42 Coin",
          "404Coin",
          "Dash",
          "Bitshares",
          "BitcoinDark",
          "PayCoin",
          "KoboCoin",
          "Aurora Coin",
          "BlueCoin",
          "EnergyCoin",
          "BitBar",
          "CryptoBullion",
          "CasinoCoin",
          "Diamond",
          "Exclusive Coin",
          "FlutterCoin",
          "HoboNickels",
          "HyperStake",
          "IOCoin",
          "MaxCoin",
          "MintCoin",
          "MazaCoin",
          "Nautilus Coin",
          "NavCoin",
          "OpalCoin",
          "Orbitcoin",
          "PotCoin",
          "PhoenixCoin",
          "Reddcoin",
          "SuperCoin",
          "SyncCoin",
          "TeslaCoin",
          "TittieCoin",
          "TorCoin",
          "UnitaryStatus Dollar",
          "UltraCoin",
          "VeriCoin",
          "X11 Coin",
          "Crypti",
          "StealthCoin",
          "ZCC Coin",
          "BurstCoin",
          "StorjCoin",
          "Neutron",
          "FairCoin",
          "RubyCoin",
          "Kore",
          "Dnotes",
          "8BIT Coin",
          "Sativa Coin",
          "Ucoin",
          "Vtorrent",
          "IslaCoin",
          "Nexus",
          "Droidz",
          "Squall Coin",
          "Diggits",
          "Paycon",
          "Emercoin",
          "EverGreenCoin",
          "Decred",
          "EDRCoin",
          "Hitcoin",
          "DubaiCoin",
          "PWR Coin",
          "BillaryCoin",
          "GPU Coin",
          "EuropeCoin",
          "ZeitCoin",
          "SwingCoin",
          "SafeExchangeCoin",
          "Nebuchadnezzar",
          "Ratecoin",
          "Revenu",
          "Clockcoin",
          "VIP Tokens",
          "BitSend",
          "Let it Ride",
          "PutinCoin",
          "iBankCoin",
          "Frankywillcoin",
          "MudraCoin",
          "Lutetium Coin",
          "GoldBlocks",
          "CarterCoin",
          "BitTokens",
          "MustangCoin",
          "ZoneCoin",
          "RootCoin",
          "BitCurrency",
          "Swiscoin",
          "BuzzCoin",
          "Opair",
          "PesoBit",
          "Halloween Coin",
          "CoffeeCoin",
          "RoyalCoin",
          "GanjaCoin V2",
          "TeamUP",
          "LanaCoin",
          "InsaneCoin",
          "EmberCoin",
          "XenixCoin",
          "FreeCoin",
          "PLNCoin",
          "AquariusCoin",
          "Creatio",
          "Eternity",
          "Eurocoin",
          "BitcoinFast",
          "Stakenet",
          "BitConnect Coin",
          "MoneyCoin",
          "Enigma",
          "Russiacoin",
          "PandaCoin",
          "GameUnits",
          "GAKHcoin",
          "Allsafe",
          "LiteCreed",
          "Klingon Empire Darsek",
          "Internet of People",
          "KushCoin",
          "Printerium",
          "Impeach",
          "Zilbercoin",
          "FirstCoin",
          "FindCoin",
          "OpenChat",
          "RenosCoin",
          "VirtacoinPlus",
          "TajCoin",
          "Impact",
          "Atmos",
          "HappyCoin",
          "MacronCoin",
          "Condensate",
          "Independent Money System",
          "ArgusCoin",
          "LomoCoin",
          "ProCurrency",
          "GoldReserve",
          "GrowthCoin",
          "Phreak",
          "Degas Coin",
          "HTML5 Coin",
          "Ultimate Secure Cash",
          "QTUM",
          "Espers",
          "Denarius",
          "Virta Unique Coin",
          "Bitcoin Planet",
          "BritCoin",
          "Linda",
          "DeepOnion",
          "Signatum",
          "Cream",
          "Monoeci",
          "Draftcoin",
          "Stakecoin",
          "CoinonatX",
          "Ethereum Dark",
          "Obsidian",
          "Cardano",
          "Regalcoin",
          "TrezarCoin",
          "TerraNovaCoin",
          "Rupee",
          "WomenCoin",
          "Theresa May Coin",
          "NamoCoin",
          "LUXCoin",
          "Xios",
          "Bitcloud 2.0",
          "KekCoin",
          "BlackholeCoin",
          "Infinity Economics",
          "Magnet",
          "Electra",
          "Bitcoin Diamond",
          "Cash & Back Coin",
          "Bulwark",
          "Kalkulus",
          "GermanCoin",
          "LiteCoin Ultra",
          "PhantomX",
          "Digiwage",
          "Trollcoin",
          "Litecoin Plus",
          "Monkey Project",
          "TokenPay",
          "1717 Masonic Commemorative Token",
          "My Big Coin",
          "Unified Society USDEX",
          "Tokyo Coin",
          "LitecoinCash",
          "Stipend",
          "Poa Network",
          "Pushi",
          "Ellerium",
          "Velox",
          "Ontology",
          "Bitspace",
          "Briacoin",
          "Ignition",
          "MedicCoin",
          "Bitcoin Green",
          "Deviant Coin",
          "Abjcoin",
          "Carebit",
          "Zealium",
          "Proton",
          "iDealCash",
          "Bitcoin Incognito",
          "HollyWoodCoin",
          "Swisscoin",
          "Xt3ch",
          "TheVig",
          "EmaratCoin",
          "Dekado",
          "Poseidon Quark",
          "BitcoinWSpectrum",
          "Muse",
          "Trivechain",
          "Dystem",
          "Giant",
          "Peony Coin",
          "Absolute Coin",
          "Vitae",
          "TPCash",
          "ARENON",
          "EUNO",
          "MMOCoin",
          "Ketan",
          "XDNA",
          "PAXEX",
          "ThunderStake",
          "Kcash",
          "Bettex coin",
          "BitMoney",
          "Junson Ming Chan Coin",
          "HerbCoin",
          "Oduwa",
          "Galilel",
          "Crypto Sports",
          "Credit",
          "Dash Platinum",
          "Nasdacoin",
          "Beetle Coin",
          "Titan Coin",
          "Award",
          "Insane Coin",
          "LiteDoge",
          "TruckCoin",
          "OrangeCoin",
          "BitstarCoin",
          "NeosCoin",
          "HyperCoin",
          "PinkCoin",
          "AudioCoin",
          "IncaKoin",
          "Piggy Coin",
          "Genstake",
          "XiaoMiCoin",
          "CapriCoin",
          " ClubCoin",
          "Radium",
          "Creditbit ",
          "OKCash",
          "HiCoin",
          "WhiteCoin",
          "FriendshipCoin",
          "Triangles Coin",
          "TigerCash",
          "Waves",
          "Particl",
          "Nxt",
          "Gapcoin",
          "BitcoinPlus"
         ],
         "legendgroup": "0",
         "marker": {
          "color": [
           0,
           0,
           0,
           0,
           0,
           0,
           0,
           0,
           0,
           0,
           0,
           0,
           0,
           0,
           0,
           0,
           0,
           0,
           0,
           0,
           0,
           0,
           0,
           0,
           0,
           0,
           0,
           0,
           0,
           0,
           0,
           0,
           0,
           0,
           0,
           0,
           0,
           0,
           0,
           0,
           0,
           0,
           0,
           0,
           0,
           0,
           0,
           0,
           0,
           0,
           0,
           0,
           0,
           0,
           0,
           0,
           0,
           0,
           0,
           0,
           0,
           0,
           0,
           0,
           0,
           0,
           0,
           0,
           0,
           0,
           0,
           0,
           0,
           0,
           0,
           0,
           0,
           0,
           0,
           0,
           0,
           0,
           0,
           0,
           0,
           0,
           0,
           0,
           0,
           0,
           0,
           0,
           0,
           0,
           0,
           0,
           0,
           0,
           0,
           0,
           0,
           0,
           0,
           0,
           0,
           0,
           0,
           0,
           0,
           0,
           0,
           0,
           0,
           0,
           0,
           0,
           0,
           0,
           0,
           0,
           0,
           0,
           0,
           0,
           0,
           0,
           0,
           0,
           0,
           0,
           0,
           0,
           0,
           0,
           0,
           0,
           0,
           0,
           0,
           0,
           0,
           0,
           0,
           0,
           0,
           0,
           0,
           0,
           0,
           0,
           0,
           0,
           0,
           0,
           0,
           0,
           0,
           0,
           0,
           0,
           0,
           0,
           0,
           0,
           0,
           0,
           0,
           0,
           0,
           0,
           0,
           0,
           0,
           0,
           0,
           0,
           0,
           0,
           0,
           0,
           0,
           0,
           0,
           0,
           0,
           0,
           0,
           0,
           0,
           0,
           0,
           0,
           0,
           0,
           0,
           0,
           0,
           0,
           0,
           0,
           0,
           0,
           0,
           0,
           0,
           0,
           0,
           0,
           0,
           0,
           0,
           0,
           0,
           0,
           0,
           0,
           0,
           0,
           0,
           0,
           0,
           0,
           0,
           0,
           0,
           0,
           0,
           0,
           0,
           0,
           0,
           0,
           0,
           0,
           0,
           0,
           0,
           0,
           0,
           0,
           0,
           0,
           0,
           0,
           0,
           0,
           0,
           0,
           0,
           0,
           0,
           0,
           0,
           0,
           0,
           0,
           0,
           0,
           0,
           0,
           0,
           0,
           0,
           0,
           0,
           0,
           0,
           0,
           0,
           0,
           0,
           0,
           0,
           0,
           0,
           0,
           0,
           0,
           0
          ],
          "coloraxis": "coloraxis",
          "symbol": "circle"
         },
         "mode": "markers",
         "name": "0",
         "scene": "scene",
         "showlegend": true,
         "type": "scatter3d",
         "x": [
          -0.5340931031831008,
          -0.5343319417303317,
          -0.3622690376763169,
          0.15363752388814492,
          -0.3029317761352599,
          -0.005990377734496498,
          -0.5302006114791203,
          -0.5340976385616663,
          -0.5342188407229721,
          -0.5341174548141777,
          -0.5340931398299789,
          -0.534093365256492,
          0.011085206619166059,
          -0.34118229509321796,
          -0.023402487971263354,
          -0.3570838165273216,
          -0.5341175429610499,
          -0.06565517298177709,
          -0.3622707433248736,
          -0.4683525165164381,
          -0.24136376016850772,
          -0.30338622187528336,
          -0.2371542378646335,
          -0.510349176501983,
          -0.5103390983392414,
          -0.24541615007076462,
          -0.5341608813276544,
          -0.5341132716791619,
          -0.5398940615703273,
          -0.0653330617933464,
          -0.36226600864955344,
          0.1426934936770466,
          -0.22690120079363607,
          -0.36226685633341354,
          -0.5344009059008155,
          -0.5341086900941321,
          -0.39799786264957143,
          -0.3622676943405779,
          0.14269523401014483,
          -0.5103426477805604,
          -0.5341788513349712,
          0.7869424412996654,
          -0.005632061960286135,
          -0.3029418598269667,
          -0.3411919198743778,
          -0.23715550184527254,
          -0.5103371769725389,
          -0.23721291346334955,
          -0.5340933936284933,
          -0.5103380681598852,
          -0.06532468930881476,
          -0.5340965287901135,
          -0.3622663078916212,
          -0.2239620204608596,
          -0.5752811988129617,
          -0.006169030899604897,
          -0.2371755569517995,
          -0.5103434820609601,
          -0.30299526343810235,
          -0.5301799570787429,
          -0.4106792409709931,
          -0.30293224725337947,
          -0.3659410736617472,
          -0.302931886689073,
          -0.5059802215999555,
          -0.5340972553250368,
          -0.23717061366297928,
          -0.36228974988032137,
          -0.2500559077509728,
          -0.3029334035814455,
          0.020712754349984663,
          -0.02340645094598552,
          -0.3622968688556009,
          -0.3029430913790138,
          -0.30296321966491896,
          -0.5040092759961317,
          -0.36227868267806623,
          0.042636617653588636,
          -0.5343669254864707,
          -0.5340965020726836,
          -0.534118537540309,
          -0.21340540078839207,
          -0.0654901315687175,
          -0.36227191133040715,
          -0.5341067265022992,
          -0.3029315824549958,
          -0.3622663078847839,
          -0.5340947998336896,
          -0.5340934870372541,
          -0.23718368272313733,
          -0.4689681750625683,
          -0.630675546253879,
          -0.023420192194328088,
          -0.53409973668825,
          -0.3624030787061165,
          -0.023433050674979698,
          -0.21339375450321305,
          -0.594273441273195,
          -0.02342188565886788,
          -0.6263101760843288,
          -0.36227133194878797,
          -0.5286271902889905,
          -0.36226698842949345,
          -0.02341408125635263,
          -0.5340986609770662,
          -0.5340959593774512,
          -0.02340645094598552,
          -0.36227059722113253,
          -0.30293386515289317,
          -0.5340989723638455,
          0.2024047471956761,
          -0.5340968768122538,
          -0.5341320016970081,
          -0.36226645188653844,
          -0.534102891783603,
          -0.24567697904360958,
          -0.5340945244360807,
          -0.534093946522391,
          -0.11737470304303524,
          -0.3255743130711333,
          -0.534126077377657,
          -0.3029319644915166,
          -0.36226765634430397,
          -0.534096571731216,
          -0.5340944025960014,
          -0.2371538064238181,
          -0.45051417662698734,
          -0.21339681291663914,
          -0.5343474468513257,
          -0.237159200072295,
          -0.36227425939073726,
          -0.6307702400708646,
          -0.3622941109058829,
          -0.023429583012477793,
          -0.3622759133834272,
          -0.023503382810507886,
          -0.36231831543707627,
          -0.5340953632947281,
          -0.534094945269638,
          -0.5341496659970351,
          -0.010241985626854154,
          -0.36227166478511,
          -0.23732145169868954,
          -0.023405311884520236,
          -0.5341032583481381,
          -0.5433031429020346,
          -0.006000642525814138,
          0.04262071096923226,
          -0.6232135665731973,
          -0.5039890711689953,
          -0.5040069117289495,
          -0.6044036490329756,
          -0.5103420016431961,
          -0.5387061064818994,
          -0.5103415032010947,
          0.048368488801594015,
          -0.604411668594556,
          -0.36226903238072267,
          -0.23715479847758097,
          -0.023405633764906945,
          -0.5340996941574357,
          -0.5340941714158699,
          0.1543732202234822,
          -0.06305908798781899,
          -0.36226896996769414,
          -0.24547402590992334,
          -0.5340942172659097,
          0.020804927281766247,
          -0.5450938507260465,
          -0.30295414027187945,
          -0.5041663618942026,
          -0.5233983201934458,
          -0.5340947142938166,
          -0.4143321253908109,
          0.021595498880441,
          -0.5340971759929644,
          -0.008276391409726368,
          -0.36228169788966863,
          -0.5113012156377905,
          -0.5103842742918496,
          -0.5341269206896359,
          -0.20704888681831857,
          -0.11737625931102325,
          -0.5378881840708732,
          -0.5341032387847248,
          -0.36227777061861116,
          -0.11738395255128567,
          -0.5342608721284007,
          -0.5340938246151766,
          -0.0653250856193733,
          0.042640687917133026,
          0.13099140434664724,
          -0.4477999053751612,
          -0.5341526741244121,
          -0.21348386122413412,
          -2.813294865069051,
          -0.3679927813765601,
          6.791514090984726,
          -0.3622678489264835,
          -0.3591747942788862,
          -0.2371621838945505,
          -0.03797622498594209,
          -0.5039932326300084,
          -0.5340934398987089,
          -0.5340936194161331,
          -0.2372312473354443,
          -0.09395578847191684,
          -0.023410661828766853,
          -0.5340967522407355,
          -0.41435369983810955,
          -0.023408072752185274,
          0.03682405432488297,
          -0.5346601628385814,
          -0.0030776244904965034,
          -0.23715924994040236,
          -0.5366874086972733,
          -0.2371541168176691,
          -0.6256844435994505,
          -0.5341021202116238,
          -0.23324388855944314,
          -0.11740901384907744,
          -0.006004399124104275,
          0.2785556521015509,
          -0.26012748120495915,
          -0.11737436203395926,
          -0.41431621761145637,
          -0.23810343915118923,
          -0.276137551668092,
          -0.11739049194624168,
          -0.5341506363604639,
          -0.06532994633199612,
          -0.3622749205384961,
          -0.23718612748594028,
          -0.023415067139079204,
          -0.3147041487427906,
          -0.06532956553718575,
          -0.53531919659266,
          0.49304948741775184,
          -0.062232509175743946,
          -0.022971754053082407,
          -0.06872852393701927,
          -0.4143247920363914,
          -0.5340972130924302,
          -0.4143194445416888,
          -0.1173729125905676,
          -0.5444163868999518,
          -0.06532428172474762,
          -0.5341019118815072,
          -0.35923892126109935,
          -0.6261319112330654,
          -0.36229277454460396,
          -0.3622724070588616,
          -0.5391006373603856,
          -0.362314008874202,
          -0.5341050958798763,
          -0.5341002383635839,
          -0.005989353182276109,
          -0.5340950089922907,
          -0.3623805858679522,
          -0.5348800411129642,
          -0.30649091612789664,
          -0.36242027248617775,
          -0.5341058229183405,
          -0.5341956947872738,
          -0.36231759877987496,
          -0.5341226420695028,
          -0.023402628394690875,
          0.09935969787613505,
          -0.30295098448230723,
          -0.2396941066840312,
          -0.5341599091470108,
          -0.24541891893579,
          -0.5103361338337259,
          -0.006241641980446609,
          1.7612137967230665,
          -0.023403688534842034,
          -0.007011801640525069,
          -0.5341101736959383,
          -0.23715020444111304
         ],
         "y": [
          1.007539943984944,
          1.0075597108853478,
          1.193866969464853,
          1.487954851842794,
          0.8618867497919023,
          0.639908582398792,
          1.893804424498442,
          1.007536209850592,
          1.0077230057580353,
          1.0075753976401738,
          1.007539689132978,
          1.007539709100083,
          0.3226764464365288,
          0.908041104541062,
          1.500164243581643,
          0.19963010179398785,
          1.0075015502489393,
          0.9723733654050741,
          1.1938694527248597,
          2.0355738767076765,
          0.7916882671494283,
          0.8610705906262679,
          0.7855496337365073,
          1.7816438017359932,
          1.7816291289017547,
          0.48392148377294725,
          1.0073797074249526,
          1.0075088938900891,
          1.0159855806827858,
          0.971904402539999,
          1.1938761210933413,
          0.12147348023837841,
          1.6032883932044835,
          1.1938711912121425,
          1.0070017321261913,
          1.0075009906148344,
          0.2799803250157183,
          1.1938751853595306,
          0.12153259291817232,
          1.7816342965464385,
          1.0070483206892435,
          0.554362262705495,
          1.4978058074306337,
          0.8618730733146881,
          0.9080578174093334,
          0.7855614483641052,
          1.7816189340044406,
          0.7853368019644309,
          1.0075403668713556,
          1.7816214644161223,
          0.9718798837215155,
          1.0075326020772686,
          1.1938765573774337,
          2.286888580484136,
          2.01261199751255,
          0.6825674548846801,
          0.7855290002303716,
          1.7816046879597645,
          0.8613762790344293,
          1.893973904430904,
          0.8731110550405489,
          0.8618874356945072,
          1.1828595333251433,
          0.8618940000878793,
          1.557190802804391,
          1.0075200976259635,
          0.7854471786432655,
          1.1936739643363952,
          0.7433132240278594,
          0.8618780228381072,
          0.3319943919581833,
          1.5001576840036988,
          1.1938748163695325,
          0.8617794838859545,
          0.861622446963585,
          1.5542658140503893,
          1.1938088853269266,
          1.4935823218343067,
          1.0067056741672162,
          1.0075175625464279,
          1.0075153275479762,
          1.559533023918539,
          0.9717280639120784,
          1.1938538922260122,
          1.0075042964579712,
          0.8618870842764643,
          1.1938747079743648,
          1.0075294684188745,
          1.0075405028655147,
          0.7856024770079353,
          0.35879091939411134,
          1.8819446490730527,
          1.5001444008616824,
          1.0075496017554073,
          1.1931509859524008,
          1.5001840814225138,
          1.5596378196860177,
          1.8570200551859866,
          1.5000069289705913,
          1.88329119643083,
          1.1938653779896113,
          1.8077308345823875,
          1.1938751727363577,
          1.5001502990695046,
          1.0075242770866535,
          1.007518210851103,
          1.5001576840036988,
          1.1938458143657655,
          0.8618910241291085,
          1.0075281456484306,
          0.5692027398151347,
          1.007528177049011,
          1.007195467895376,
          1.193873684698306,
          1.0074654244008387,
          0.7779236105760436,
          1.0075339991814547,
          1.0075391277658343,
          1.4405031085184405,
          0.6995332489955638,
          1.0072797190762959,
          0.8618876404848418,
          1.1938727541869272,
          1.0075326645953786,
          1.007528314712521,
          0.785525074453331,
          0.27111050105148415,
          1.5596348596253125,
          1.0072937795221815,
          0.7855456099632216,
          1.1938264875571114,
          1.897636588421938,
          1.1938492248073793,
          1.50013570147786,
          1.1938288956111578,
          1.5000645510009056,
          1.193644043168534,
          1.0075301579988356,
          1.007524995030383,
          1.0070058296482978,
          0.5998713919173582,
          1.1938596979235219,
          0.7845701266234679,
          1.5001498609962018,
          1.007490000193987,
          1.857614417321119,
          0.6398078879702888,
          1.49356448555391,
          1.87691606588573,
          1.554285714917905,
          1.5542438779739471,
          1.9900848258454964,
          1.7816148619015233,
          0.9834328139170185,
          1.781620980089625,
          1.5394797898967656,
          1.990096501554725,
          1.193874663077304,
          0.7855496942167153,
          1.5001308493704755,
          1.00751979419578,
          1.0075389101044994,
          1.489047034242433,
          1.4626165804151832,
          1.1938637885657557,
          0.4837614837422939,
          1.0075318669688615,
          0.6942593339769759,
          1.0081443635678422,
          0.8618712255997562,
          1.5538102405352396,
          1.8260064697683858,
          1.0075293438810584,
          1.6623964157377855,
          1.4422903250095045,
          1.0075367571844478,
          0.6376963245848255,
          1.1938101928627411,
          1.54644372646562,
          1.7815654432194385,
          1.007459721525069,
          1.332292537295856,
          1.4405022919728754,
          0.9822419976676589,
          1.00746223081482,
          1.1938624227852792,
          1.4404518461525386,
          1.0072293815015114,
          1.0075385284889682,
          0.9718798442471447,
          1.4935816358697862,
          -0.06905192283579158,
          0.26354754749537823,
          1.0074836538293954,
          1.5592773761328351,
          3.361052074701616,
          0.9481073450085538,
          3.6334943232792223,
          1.1938633893664732,
          1.4066912543653178,
          0.7854947352021727,
          1.4812438833368236,
          1.554267115029451,
          1.0075385848432183,
          1.0075376132745537,
          0.7853634943163086,
          1.5153908684370638,
          1.5001218950661737,
          1.0075267627561364,
          1.662427826055033,
          1.5001230573350202,
          0.6599404668410511,
          1.0052080278107467,
          0.8954063500612108,
          0.785550877155942,
          1.0050290663696089,
          0.7855323074649688,
          1.8869457253384259,
          1.0075012889286488,
          1.6719583704069096,
          1.4401616068713163,
          0.6398748939189869,
          1.741833711468604,
          0.8819161032102553,
          1.440498913255842,
          1.6624933730095968,
          0.7765356351852702,
          0.9162273617224301,
          1.4404736961691609,
          1.0070072424039855,
          0.9718659611879129,
          1.193858273343147,
          0.785445755610489,
          1.5000531001203428,
          0.9029783356482323,
          0.9718376658906254,
          0.9982286592311452,
          1.600180698652341,
          1.1847121042511355,
          1.021556734037733,
          0.9768478683752231,
          1.6624757428783388,
          1.0075329818911591,
          1.6624895115020197,
          1.4405015066290279,
          0.9764581157845748,
          0.9718794752576824,
          1.0075009856200656,
          1.4065133727513073,
          1.8845765196927857,
          1.1936561752388835,
          1.1938669432463258,
          0.993254178449191,
          1.1939460054135826,
          1.0074341113479088,
          1.007516885182069,
          0.639901850802284,
          1.007542718685455,
          1.1937347029180925,
          1.0022127739383913,
          0.8669649487955796,
          1.1934842506258805,
          1.0075492157546284,
          1.0074427217564084,
          1.1938230073811786,
          1.0074843154848447,
          1.5001588998452833,
          0.5714091642209675,
          0.8618635487522417,
          0.783087321924619,
          1.007452267748164,
          0.4838907475267155,
          1.7816247388915372,
          0.6396656403725519,
          3.7324148925365113,
          1.5001606688468876,
          1.5713795648664781,
          1.007410680940428,
          0.785553119389516
         ],
         "z": [
          -0.3332287624898973,
          -0.3165035457669567,
          -0.39149264669197675,
          -0.24048728323137847,
          -0.32046392301295723,
          -0.2669259667879364,
          -0.258010528252154,
          -0.3328870582522003,
          -0.32543640158588144,
          -0.3317196134899216,
          -0.3332246836015872,
          -0.3332089052782811,
          0.6823895288839121,
          -0.3711454717953515,
          -0.3336126678664178,
          -0.23623763818699378,
          -0.3312802511672536,
          -0.31770156773102,
          -0.3913869421476811,
          -0.43526146277341166,
          -0.018621792956788612,
          -0.28363258696169874,
          -0.2794409686241122,
          -0.28345523000349576,
          -0.2840798062672215,
          -0.3435429693032948,
          -0.327509683809907,
          -0.3316245045434621,
          0.026275346232044375,
          -0.33766383741563877,
          -0.39175990989423565,
          -0.25396079745300065,
          -0.3045971446705867,
          -0.3916712215080408,
          -0.3083679073679725,
          -0.3319012084912898,
          -0.276490775434894,
          -0.39163555873423006,
          -0.25443023449100954,
          -0.28385983593589875,
          -0.3242988431869076,
          0.028436378512922602,
          -0.3384978216469376,
          -0.3196726759303981,
          -0.37056483038569177,
          -0.27942113979173594,
          -0.2841554896036589,
          -0.27405524167031986,
          -0.33321076280362943,
          -0.2841074915078772,
          -0.3381103907009606,
          -0.3329441501258725,
          -0.3917413685135905,
          -0.45636721138785546,
          -0.4572957856255683,
          -0.3084481225788292,
          -0.27781667714912484,
          -0.2836273413973711,
          -0.3129931284558564,
          -0.2604609994274004,
          -0.08206694482891692,
          -0.3204347263029489,
          -0.06800399526567587,
          -0.3204986536791957,
          -0.24981113048736617,
          -0.3328195761566954,
          -0.2776853229927954,
          -0.3889001141898676,
          0.8780257898591491,
          -0.3202979799851557,
          -0.05112892546480287,
          -0.33329475293971544,
          -0.38957621973109413,
          -0.3190368934096976,
          -0.31669650363113117,
          -0.3716315644102195,
          -0.3904718627257079,
          -0.33766497056693034,
          -0.3090274513656197,
          -0.3328578207005079,
          -0.33129093047751423,
          -0.2293070871809981,
          -0.3255541164461133,
          -0.39121331384148667,
          -0.33205905691103327,
          -0.3204795418336617,
          -0.3917305214478946,
          -0.3330476833043895,
          -0.33320497396130816,
          -0.27767467986084726,
          -0.24040976341179673,
          0.038496349078927364,
          -0.3322479086323686,
          -0.33281766292371984,
          -0.3778414951215256,
          -0.33157396567888847,
          -0.2307429709900327,
          -0.42331188658477203,
          -0.3313221658049521,
          -0.2772159033976456,
          -0.3913215365859787,
          0.8523657163228774,
          -0.3916852604119691,
          -0.33271340309183145,
          -0.33274497413604043,
          -0.33289989021014177,
          -0.33329475293971544,
          -0.39125859513534167,
          -0.3203416915093186,
          -0.33274570818970234,
          -0.3334854655503281,
          -0.3328936554324628,
          -0.3284654210063582,
          -0.391714365534913,
          -0.3321014519924379,
          0.3662507035694538,
          -0.33309367722124905,
          -0.33316450885610144,
          -0.3494089011550486,
          -0.3846069070442603,
          -0.32937733050675083,
          -0.3204558657977719,
          -0.39162397807786314,
          -0.33294148892718783,
          -0.3330689266323912,
          -0.2793273398905232,
          -0.2675274176526651,
          -0.23050995187360215,
          -0.31385043504099897,
          -0.27906746864394794,
          -0.3908870054762414,
          -0.4197015749266536,
          -0.3896205847308646,
          -0.33153471075875035,
          -0.3907845022124042,
          -0.32591355720498805,
          -0.3867103782095792,
          -0.3330119968123175,
          -0.33301118986287725,
          -0.3261075527494344,
          0.2677019302101912,
          -0.3912647513471113,
          -0.26190503230498174,
          -0.3333291859559976,
          -0.3322197521677971,
          0.8781547632118689,
          -0.26561155200789915,
          -0.3364387293301809,
          0.5580675199645291,
          -0.3731729891260021,
          -0.37166961078199756,
          -0.4391038855729321,
          -0.2837914042590655,
          0.13344542653851632,
          -0.283862436588459,
          -0.3310011673972784,
          -0.4386068874655253,
          -0.39153814645917673,
          -0.27940179301692714,
          -0.3331949778945975,
          -0.33264582767576784,
          -0.33314737432508995,
          -0.298769362221766,
          0.6739278809668765,
          -0.39147876366505113,
          -0.33852351656242213,
          -0.33310283028096394,
          -0.3150021238557401,
          0.4389188031925205,
          -0.3187959105807916,
          -0.35788287336337066,
          -0.39380231326010995,
          -0.3330529844863378,
          -0.40131922354942595,
          -0.3196602642340703,
          -0.33292288558392247,
          -0.09275705281456169,
          -0.3902669211846572,
          0.18842293312687675,
          -0.2805207824584248,
          -0.33037365838577554,
          -0.3194613854383247,
          -0.3492943750573021,
          0.08275613558421717,
          -0.3320582522344416,
          -0.3908501948456427,
          -0.34845601715440633,
          -0.319577332946811,
          -0.3331695898490131,
          -0.3380822142270962,
          -0.3379479524853914,
          -0.2743618553579734,
          -0.2729891157327042,
          -0.32869808667987044,
          -0.2222751429314277,
          -0.34753020952878566,
          -0.3776350267932696,
          -0.42466407654928073,
          -0.3915554698656784,
          -0.29552993307557235,
          -0.2785586687415996,
          -0.3052234793396848,
          -0.37277045676727494,
          -0.3331970477996526,
          -0.33317869086602464,
          -0.27291903245977883,
          -0.34387515147651954,
          -0.33278791452002204,
          -0.3328941438717813,
          -0.3999821854373054,
          -0.3329772945882258,
          -0.3116790211250285,
          -0.27956614221273374,
          -0.21237106074853646,
          -0.2790948466678552,
          -0.1355698150232861,
          -0.27934787790989735,
          -0.3427734000351357,
          -0.33236621858586174,
          -0.2063280472770748,
          -0.3449864978698493,
          -0.26573968283537286,
          0.9893724082274584,
          -0.3644873351501059,
          -0.34940833960899453,
          -0.4030096207863946,
          -0.15963919918368005,
          -0.36840441420054965,
          -0.34812306634481316,
          -0.3260474161967468,
          -0.3376580419687156,
          -0.3910268235065693,
          -0.2765830542723102,
          -0.33207377198939814,
          -0.35675836121693993,
          -0.3375189287105877,
          -0.1921588613993182,
          -0.2561104071325382,
          -0.24204873657295514,
          0.5690348096852175,
          -0.12723609243063047,
          -0.4023016063364374,
          -0.33289812587351836,
          -0.4027594317145088,
          -0.34952575507420475,
          0.5770025082374862,
          -0.3381367347496751,
          -0.3323791294753798,
          -0.2899648119588387,
          -0.297324820918316,
          -0.38858249611176215,
          -0.3912549085457208,
          0.10365833101557145,
          -0.3887851847090449,
          -0.3317623705654766,
          -0.3325903915923635,
          -0.2669587270415475,
          -0.3331106534969014,
          -0.38285127868378516,
          -0.24649346701005734,
          -0.09928507419060353,
          -0.37858385599539945,
          -0.3323862421598622,
          -0.32542449798282136,
          -0.38781061407174716,
          -0.33081960977124236,
          -0.333571422905313,
          -0.34828313124452065,
          -0.31897340589417184,
          -0.08590536056339293,
          -0.32800383255786325,
          -0.34316744770990415,
          -0.2842630923398301,
          -0.24778367879428811,
          -0.44237081226012204,
          -0.3335070454869401,
          -0.3233289625239743,
          -0.3312668904295718,
          -0.2797458211905223
         ]
        },
        {
         "customdata": [
          [
           "X13"
          ],
          [
           "Scrypt"
          ],
          [
           "CryptoNight"
          ],
          [
           "DPoS"
          ],
          [
           "Scrypt"
          ],
          [
           "VeChainThor Authority"
          ],
          [
           "DPoS"
          ],
          [
           "CryptoNight"
          ],
          [
           "Semux BFT consensus"
          ],
          [
           "Scrypt"
          ],
          [
           "CryptoNight Heavy"
          ],
          [
           "DPoS"
          ],
          [
           "DPoS"
          ],
          [
           "DPoS"
          ],
          [
           "DPoS"
          ],
          [
           "SHA-256"
          ]
         ],
         "hovertemplate": "<b>%{hovertext}</b><br><br>class=%{marker.color}<br>pc_3=%{x}<br>pc_2=%{y}<br>pc_1=%{z}<br>Algorithm=%{customdata[0]}<extra></extra>",
         "hovertext": [
          "EliteCoin",
          "MoonCoin",
          "ByteCoin",
          "ARK",
          "gCn Coin",
          "Vechain",
          "Lamden Tau",
          "TurtleCoin",
          "Semux",
          "Lynx",
          "Qwertycoin",
          "ALAX",
          "Lisk",
          "EOS",
          "Oxycoin",
          "ZEPHYR"
         ],
         "legendgroup": "4",
         "marker": {
          "color": [
           4,
           4,
           4,
           4,
           4,
           4,
           4,
           4,
           4,
           4,
           4,
           4,
           4,
           4,
           4,
           4
          ],
          "coloraxis": "coloraxis",
          "symbol": "diamond"
         },
         "mode": "markers",
         "name": "4",
         "scene": "scene",
         "showlegend": true,
         "type": "scatter3d",
         "x": [
          -0.5338685582621315,
          -0.08345908519048059,
          0.28415641992202195,
          0.5907575971658687,
          -0.10533503951913895,
          -5.739243629725023,
          0.5907008269130087,
          0.2640160900576064,
          0.6148393631119083,
          -0.3805781777519144,
          0.423683417786837,
          0.5905317224786639,
          0.5907532885659064,
          0.590584121017387,
          0.590563969382339,
          0.30572980701839564
         ],
         "y": [
          1.6222177621298635,
          -1.3319696245298345,
          -2.3223956916600974,
          2.0298036111586293,
          -1.1866908977161852,
          2.9308393782390403,
          2.029655089039422,
          -2.7958200779169755,
          2.122742857747921,
          0.2031798096790549,
          -2.3146497623134246,
          2.0295930566221427,
          2.0297883581156637,
          2.030133233768296,
          2.03016257260795,
          0.9274205670185571
         ],
         "z": [
          2.310063181457106,
          2.5670590205325046,
          3.865202500444382,
          3.6569873331266893,
          3.257469812065646,
          4.397034413267,
          3.661861505050563,
          8.062190662396112,
          3.8311095318214576,
          2.276331597909576,
          3.1326202056161834,
          3.6741493673888197,
          3.6573806099601547,
          3.6672862310679917,
          3.668535092914048,
          2.4373450628231526
         ]
        },
        {
         "customdata": [
          [
           "SHA-256"
          ],
          [
           "Ethash"
          ],
          [
           "Scrypt"
          ],
          [
           "CryptoNight-V7"
          ],
          [
           "Ethash"
          ],
          [
           "Equihash"
          ],
          [
           "Multiple"
          ],
          [
           "Scrypt"
          ],
          [
           "X11"
          ],
          [
           "Scrypt"
          ],
          [
           "Multiple"
          ],
          [
           "SHA-256"
          ],
          [
           "Scrypt"
          ],
          [
           "Scrypt"
          ],
          [
           "Quark"
          ],
          [
           "Groestl"
          ],
          [
           "Scrypt"
          ],
          [
           "Scrypt"
          ],
          [
           "Scrypt"
          ],
          [
           "X11"
          ],
          [
           "Multiple"
          ],
          [
           "SHA-256"
          ],
          [
           "Scrypt"
          ],
          [
           "Scrypt"
          ],
          [
           "Scrypt"
          ],
          [
           "Scrypt"
          ],
          [
           "Scrypt"
          ],
          [
           "NeoScrypt"
          ],
          [
           "Scrypt"
          ],
          [
           "Scrypt"
          ],
          [
           "Scrypt"
          ],
          [
           "Scrypt"
          ],
          [
           "SHA-256"
          ],
          [
           "Scrypt"
          ],
          [
           "Scrypt"
          ],
          [
           "Scrypt"
          ],
          [
           "Scrypt"
          ],
          [
           "HybridScryptHash256"
          ],
          [
           "Scrypt"
          ],
          [
           "Scrypt"
          ],
          [
           "SHA-256"
          ],
          [
           "Scrypt"
          ],
          [
           "Scrypt"
          ],
          [
           "Scrypt"
          ],
          [
           "Scrypt"
          ],
          [
           "SHA-256"
          ],
          [
           "SHA-256"
          ],
          [
           "SHA-256"
          ],
          [
           "SHA-256"
          ],
          [
           "SHA-256"
          ],
          [
           "X11"
          ],
          [
           "Scrypt"
          ],
          [
           "Lyra2REv2"
          ],
          [
           "Scrypt"
          ],
          [
           "SHA-256"
          ],
          [
           "CryptoNight"
          ],
          [
           "Scrypt"
          ],
          [
           "Scrypt"
          ],
          [
           "Scrypt"
          ],
          [
           "Scrypt"
          ],
          [
           "Scrypt"
          ],
          [
           "Scrypt"
          ],
          [
           "Stanford Folding"
          ],
          [
           "Multiple"
          ],
          [
           "QuBit"
          ],
          [
           "Scrypt"
          ],
          [
           "Scrypt"
          ],
          [
           "M7 POW"
          ],
          [
           "Scrypt"
          ],
          [
           "SHA-256"
          ],
          [
           "Scrypt"
          ],
          [
           "X11"
          ],
          [
           "Lyra2RE"
          ],
          [
           "SHA-256"
          ],
          [
           "X11"
          ],
          [
           "Scrypt"
          ],
          [
           "Scrypt"
          ],
          [
           "Ethash"
          ],
          [
           "Blake2b"
          ],
          [
           "X11"
          ],
          [
           "SHA-256"
          ],
          [
           "Scrypt"
          ],
          [
           "1GB AES Pattern Search"
          ],
          [
           "Scrypt"
          ],
          [
           "SHA-256"
          ],
          [
           "X11"
          ],
          [
           "Dagger"
          ],
          [
           "Scrypt"
          ],
          [
           "X11GOST"
          ],
          [
           "Scrypt"
          ],
          [
           "X11"
          ],
          [
           "Scrypt"
          ],
          [
           "X11"
          ],
          [
           "Equihash"
          ],
          [
           "CryptoNight"
          ],
          [
           "SHA-256"
          ],
          [
           "Multiple"
          ],
          [
           "Scrypt"
          ],
          [
           "SHA-256"
          ],
          [
           "Scrypt"
          ],
          [
           "Lyra2Z"
          ],
          [
           "Ethash"
          ],
          [
           "Equihash"
          ],
          [
           "Scrypt"
          ],
          [
           "X11"
          ],
          [
           "X11"
          ],
          [
           "CryptoNight"
          ],
          [
           "Scrypt"
          ],
          [
           "CryptoNight"
          ],
          [
           "Lyra2RE"
          ],
          [
           "X11"
          ],
          [
           "CryptoNight-V7"
          ],
          [
           "Scrypt"
          ],
          [
           "X11"
          ],
          [
           "Equihash"
          ],
          [
           "Scrypt"
          ],
          [
           "Lyra2RE"
          ],
          [
           "Dagger-Hashimoto"
          ],
          [
           "Scrypt"
          ],
          [
           "NIST5"
          ],
          [
           "Scrypt"
          ],
          [
           "SHA-256"
          ],
          [
           "Scrypt"
          ],
          [
           "CryptoNight-V7"
          ],
          [
           "Argon2d"
          ],
          [
           "Blake2b"
          ],
          [
           "Cloverhash"
          ],
          [
           "CryptoNight"
          ],
          [
           "X11"
          ],
          [
           "Scrypt"
          ],
          [
           "Scrypt"
          ],
          [
           "X11"
          ],
          [
           "X11"
          ],
          [
           "CryptoNight"
          ],
          [
           "Time Travel"
          ],
          [
           "Keccak"
          ],
          [
           "X11"
          ],
          [
           "SHA-256"
          ],
          [
           "Scrypt"
          ],
          [
           "Scrypt"
          ],
          [
           "Scrypt"
          ],
          [
           "Scrypt"
          ],
          [
           "Scrypt"
          ],
          [
           "Scrypt"
          ],
          [
           "CryptoNight"
          ],
          [
           "Equihash"
          ],
          [
           "X11"
          ],
          [
           "NeoScrypt"
          ],
          [
           "Equihash"
          ],
          [
           "Dagger"
          ],
          [
           "Scrypt"
          ],
          [
           "X11"
          ],
          [
           "NeoScrypt"
          ],
          [
           "Ethash"
          ],
          [
           "NeoScrypt"
          ],
          [
           "Multiple"
          ],
          [
           "CryptoNight"
          ],
          [
           "CryptoNight"
          ],
          [
           "Ethash"
          ],
          [
           "X11"
          ],
          [
           "CryptoNight-V7"
          ],
          [
           "Scrypt"
          ],
          [
           "BLAKE256"
          ],
          [
           "X11"
          ],
          [
           "NeoScrypt"
          ],
          [
           "NeoScrypt"
          ],
          [
           "Scrypt"
          ],
          [
           "X11"
          ],
          [
           "SHA-256"
          ],
          [
           "C11"
          ],
          [
           "SkunkHash"
          ],
          [
           "CryptoNight"
          ],
          [
           "Scrypt"
          ],
          [
           "Dagger"
          ],
          [
           "Lyra2REv2"
          ],
          [
           "Scrypt"
          ],
          [
           "Scrypt"
          ],
          [
           "X11"
          ],
          [
           "Ethash"
          ],
          [
           "CryptoNight"
          ],
          [
           "Scrypt"
          ],
          [
           "IMesh"
          ],
          [
           "Equihash"
          ],
          [
           "Lyra2Z"
          ],
          [
           "X11"
          ],
          [
           "CryptoNight"
          ],
          [
           "NIST5"
          ],
          [
           "Lyra2RE"
          ],
          [
           "Tribus"
          ],
          [
           "Lyra2Z"
          ],
          [
           "CryptoNight"
          ],
          [
           "CryptoNight Heavy"
          ],
          [
           "CryptoNight"
          ],
          [
           "Jump Consistent Hash"
          ],
          [
           "CryptoNight"
          ],
          [
           "X16R"
          ],
          [
           "HMQ1725"
          ],
          [
           "X11"
          ],
          [
           "Scrypt"
          ],
          [
           "CryptoNight-V7"
          ],
          [
           "Cryptonight-GPU"
          ],
          [
           "XEVAN"
          ],
          [
           "SHA-256"
          ],
          [
           "X11"
          ],
          [
           "X16R"
          ],
          [
           "Equihash"
          ],
          [
           "Lyra2Z"
          ],
          [
           "SHA-256"
          ],
          [
           "CryptoNight"
          ],
          [
           "Blake"
          ],
          [
           "Blake"
          ],
          [
           "Equihash"
          ],
          [
           "Exosis"
          ],
          [
           "Scrypt"
          ],
          [
           "Equihash"
          ],
          [
           "Equihash"
          ],
          [
           "QuBit"
          ],
          [
           "SHA-256"
          ],
          [
           "X13"
          ],
          [
           "SHA-256"
          ],
          [
           "Scrypt"
          ],
          [
           "NeoScrypt"
          ],
          [
           "Blake"
          ],
          [
           "Scrypt"
          ],
          [
           "SHA-256"
          ],
          [
           "Scrypt"
          ],
          [
           "Groestl"
          ],
          [
           "Scrypt"
          ],
          [
           "Scrypt"
          ],
          [
           "Multiple"
          ],
          [
           "Equihash+Scrypt"
          ],
          [
           "Ethash"
          ],
          [
           "CryptoNight"
          ],
          [
           "Equihash"
          ]
         ],
         "hovertemplate": "<b>%{hovertext}</b><br><br>class=%{marker.color}<br>pc_3=%{x}<br>pc_2=%{y}<br>pc_1=%{z}<br>Algorithm=%{customdata[0]}<extra></extra>",
         "hovertext": [
          "Bitcoin",
          "Ethereum",
          "Litecoin",
          "Monero",
          "Ethereum Classic",
          "ZCash",
          "DigiByte",
          "ProsperCoin",
          "Spreadcoin",
          "Argentum",
          "MyriadCoin",
          "ZetaCoin",
          "SexCoin",
          "Quatloo",
          "QuarkCoin",
          "Riecoin",
          "Digitalcoin ",
          "Catcoin",
          "CannaCoin",
          "CryptCoin",
          "Verge",
          "DevCoin",
          "EarthCoin",
          "E-Gulden",
          "Einsteinium",
          "Emerald",
          "Franko",
          "FeatherCoin",
          "GrandCoin",
          "GlobalCoin",
          "GoldCoin",
          "Infinite Coin",
          "IXcoin",
          "KrugerCoin",
          "LuckyCoin",
          "Litebar ",
          "MegaCoin",
          "MediterraneanCoin",
          "MinCoin",
          "NobleCoin",
          "Namecoin",
          "NyanCoin",
          "RonPaulCoin",
          "StableCoin",
          "SmartCoin",
          "SysCoin",
          "TigerCoin",
          "TerraCoin",
          "UnbreakableCoin",
          "Unobtanium",
          "UroCoin",
          "ViaCoin",
          "Vertcoin",
          "WorldCoin",
          "JouleCoin",
          "DigitalNote ",
          "MonaCoin",
          "Gulden",
          "PesetaCoin",
          "Wild Beast Coin",
          "Flo",
          "ArtByte",
          "Folding Coin",
          "Unitus",
          "CypherPunkCoin",
          "OmniCron",
          "GreenCoin",
          "Cryptonite",
          "MasterCoin",
          "SoonCoin",
          "1Credit",
          "MarsCoin ",
          "Crypto",
          "Anarchists Prime",
          "BowsCoin",
          "Song Coin",
          "BitZeny",
          "Expanse",
          "Siacoin",
          "MindCoin",
          "I0coin",
          "Revolution VR",
          "HOdlcoin",
          "Gamecredits",
          "CarpeDiemCoin",
          "Adzcoin",
          "SoilCoin",
          "YoCoin",
          "SibCoin",
          "Francs",
          "BolivarCoin",
          "Omni",
          "PizzaCoin",
          "Komodo",
          "Karbo",
          "ZayedCoin",
          "Circuits of Value",
          "DopeCoin",
          "DollarCoin",
          "Shilling",
          "ZCoin",
          "Elementrem",
          "ZClassic",
          "KiloCoin",
          "ArtexCoin",
          "Kurrent",
          "Cannabis Industry Coin",
          "OsmiumCoin",
          "Bikercoins",
          "HexxCoin",
          "PacCoin",
          "Citadel",
          "BeaverCoin",
          "VaultCoin",
          "Zero",
          "Canada eCoin",
          "Zoin",
          "DubaiCoin",
          "EB3coin",
          "Coinonat",
          "BenjiRolls",
          "ILCoin",
          "EquiTrader",
          "Quantum Resistant Ledger",
          "Dynamic",
          "Nano",
          "ChanCoin",
          "Dinastycoin",
          "DigitalPrice",
          "Unify",
          "SocialCoin",
          "ArcticCoin",
          "DAS",
          "LeviarCoin",
          "Bitcore",
          "SmartCash",
          "Onix",
          "Bitcoin Cash",
          "Sojourn Coin",
          "NewYorkCoin",
          "FrazCoin",
          "Kronecoin",
          "AdCoin",
          "Linx",
          "Sumokoin",
          "BitcoinZ",
          "Elements",
          "VIVO Coin",
          "Bitcoin Gold",
          "Pirl",
          "eBoost",
          "Pura",
          "Innova",
          "Ellaism",
          "GoByte",
          "SHIELD",
          "UltraNote",
          "BitCoal",
          "DaxxCoin",
          "AC3",
          "Lethean",
          "PopularCoin",
          "Photon",
          "Sucre",
          "SparksPay",
          "GunCoin",
          "IrishCoin",
          "Pioneer Coin",
          "UnitedBitcoin",
          "Interzone",
          "MUNcoin",
          "Niobio Cash",
          "ShareChain",
          "Travelflex",
          "KREDS",
          "BitFlip",
          "LottoCoin",
          "Crypto Improvement Fund",
          "Callisto Network",
          "BitTube",
          "Poseidon",
          "Aidos Kuneen",
          "Bitrolium",
          "Alpenschillling",
          "FuturoCoin",
          "Monero Classic",
          "Jumpcoin",
          "Infinex",
          "KEYCO",
          "GINcoin",
          "PlatinCoin",
          "Loki",
          "Newton Coin",
          "MassGrid",
          "PluraCoin",
          "Motion",
          "PlusOneCoin",
          "Axe",
          "HexCoin",
          "Webchain",
          "Ryo",
          "Urals Coin",
          "Project Pai",
          "Azart",
          "Xchange",
          "CrypticCoin",
          "Actinium",
          "Bitcoin SV",
          "FREDEnergy",
          "Universal Molecule",
          "Lithium",
          "PirateCash",
          "Exosis",
          "Block-Logic",
          "Beam",
          "Bithereum",
          "SLICE",
          "BLAST",
          "Bitcoin Rhodium",
          "GlobalToken",
          "SolarCoin",
          "UFO Coin",
          "BlakeCoin",
          "Crypto Escudo",
          "Crown Coin",
          "SmileyCoin",
          "Groestlcoin",
          "Bata",
          "Pakcoin",
          "JoinCoin",
          "Vollar",
          "Reality Clash",
          "Beldex",
          "Horizen"
         ],
         "legendgroup": "1",
         "marker": {
          "color": [
           1,
           1,
           1,
           1,
           1,
           1,
           1,
           1,
           1,
           1,
           1,
           1,
           1,
           1,
           1,
           1,
           1,
           1,
           1,
           1,
           1,
           1,
           1,
           1,
           1,
           1,
           1,
           1,
           1,
           1,
           1,
           1,
           1,
           1,
           1,
           1,
           1,
           1,
           1,
           1,
           1,
           1,
           1,
           1,
           1,
           1,
           1,
           1,
           1,
           1,
           1,
           1,
           1,
           1,
           1,
           1,
           1,
           1,
           1,
           1,
           1,
           1,
           1,
           1,
           1,
           1,
           1,
           1,
           1,
           1,
           1,
           1,
           1,
           1,
           1,
           1,
           1,
           1,
           1,
           1,
           1,
           1,
           1,
           1,
           1,
           1,
           1,
           1,
           1,
           1,
           1,
           1,
           1,
           1,
           1,
           1,
           1,
           1,
           1,
           1,
           1,
           1,
           1,
           1,
           1,
           1,
           1,
           1,
           1,
           1,
           1,
           1,
           1,
           1,
           1,
           1,
           1,
           1,
           1,
           1,
           1,
           1,
           1,
           1,
           1,
           1,
           1,
           1,
           1,
           1,
           1,
           1,
           1,
           1,
           1,
           1,
           1,
           1,
           1,
           1,
           1,
           1,
           1,
           1,
           1,
           1,
           1,
           1,
           1,
           1,
           1,
           1,
           1,
           1,
           1,
           1,
           1,
           1,
           1,
           1,
           1,
           1,
           1,
           1,
           1,
           1,
           1,
           1,
           1,
           1,
           1,
           1,
           1,
           1,
           1,
           1,
           1,
           1,
           1,
           1,
           1,
           1,
           1,
           1,
           1,
           1,
           1,
           1,
           1,
           1,
           1,
           1,
           1,
           1,
           1,
           1,
           1,
           1,
           1,
           1,
           1,
           1,
           1,
           1,
           1,
           1,
           1,
           1,
           1,
           1,
           1,
           1,
           1,
           1,
           1,
           1,
           1,
           1,
           1,
           1,
           1,
           1,
           1,
           1,
           1,
           1,
           1,
           1,
           1,
           1,
           1,
           1,
           1,
           1
          ],
          "coloraxis": "coloraxis",
          "symbol": "square"
         },
         "mode": "markers",
         "name": "1",
         "scene": "scene",
         "showlegend": true,
         "type": "scatter3d",
         "x": [
          0.16938113767445814,
          0.3063436764945483,
          -0.06179417059945368,
          0.2912027924444192,
          0.3063306960158845,
          0.43580248678052935,
          0.3146453892576291,
          -0.061779280614222686,
          0.1100468057868221,
          -0.06178298240956052,
          0.3176411919598584,
          0.1693426035136002,
          -0.06181658422071039,
          -0.06178405578803925,
          0.05793608661530202,
          0.13112020821157647,
          -0.0617862907717699,
          -0.061779567865762136,
          -0.06177862617880407,
          0.11004813621905828,
          0.3140012992709782,
          0.1644851622043995,
          -0.06502043362884809,
          -0.061782276943469626,
          -0.06183719121326912,
          -0.06178261830502134,
          -0.061777813981900395,
          0.22684058656229414,
          -0.062032117209860405,
          -0.06179390121698879,
          -0.06178927611821665,
          -0.08481965035785397,
          0.16938051194410297,
          -0.06182190855987398,
          -0.061781907006396866,
          -0.06177724819430112,
          -0.06178687443371279,
          0.35279068894960414,
          -0.061778666614363806,
          -0.06309210842506434,
          0.16938176906434327,
          -0.061862213962054005,
          -0.0617783576726705,
          -0.06179586110700376,
          -0.06178490887498248,
          0.16922425799323962,
          0.1693746013103563,
          0.16937896090712332,
          0.16938090293109087,
          0.1693858169693664,
          0.11004990246933086,
          -0.061782833203773965,
          0.19616933146106758,
          -0.06181560792696985,
          0.16937557392207117,
          0.3290639614506284,
          -0.06179638327243777,
          -0.061953939296828006,
          -0.061813560205723504,
          -0.061777137825879576,
          -0.061816118950026595,
          -0.06199024443328373,
          0.32775084531085485,
          0.3180753065260255,
          0.14675100990194462,
          -0.061779150309339066,
          -0.06325388554499999,
          0.43059623079780907,
          -0.061777111000961366,
          0.1693822189994618,
          -0.06697164829044358,
          0.11004190206479542,
          0.2825055893850994,
          0.16937991717037806,
          0.11004581649710657,
          -0.061795268422633165,
          -0.061806031993525454,
          0.306361953622072,
          0.2762995923729989,
          0.1100460980532089,
          0.16938053012374196,
          -0.06183036561321856,
          0.3120203357928073,
          -0.06179551556005912,
          0.16386286588992988,
          0.11003647198364,
          0.34995236498016924,
          -0.061786585152123825,
          0.2839462252609268,
          -0.0617793829484091,
          0.11004602790743254,
          -0.06177711023030019,
          0.11004845711253476,
          0.844100862972663,
          0.330993161892482,
          0.16938408557956583,
          0.31782255467697307,
          -0.06181136752726045,
          0.16938346812739757,
          -0.06178084762219703,
          0.38700216719097635,
          0.30635831981317674,
          0.4358028369300623,
          -0.062380435689947264,
          0.10985885647881481,
          0.1100251247493023,
          0.3309938951359967,
          -0.06177728360946069,
          0.3309920112569416,
          0.2825110876131618,
          0.10429749499731546,
          0.2911935797779191,
          -0.06177775960591249,
          0.10998766480246396,
          0.4358028039382704,
          -0.06180235682220852,
          0.2825071679311683,
          0.30045029147591484,
          -0.06201549229310531,
          -0.031676259038263994,
          -0.06178297129074485,
          0.16898395552583087,
          -0.061783724531198424,
          0.2911866066623859,
          0.23809195096109156,
          0.2828034956683835,
          0.36953775484065976,
          0.3305242896774215,
          0.11003754168997237,
          -0.061781630076555384,
          -0.06178221083025536,
          0.11004160028079961,
          0.11004855518802208,
          0.3309894230482694,
          0.32634844136328395,
          0.15690782151404542,
          0.10996379564427594,
          0.16938112413656684,
          -0.06236992024425266,
          -0.09007508381657299,
          -0.061780002952176095,
          -0.06178515015130431,
          -0.061789059957543586,
          -0.06178927164834558,
          0.330988485058928,
          0.43358813081454994,
          0.10941366585561839,
          0.22689850093904398,
          0.43580054373850885,
          0.3499396361948514,
          -0.06180238583003626,
          0.10999570733381592,
          0.22689704741497851,
          0.30634665091137575,
          0.22689790017751946,
          0.3179556002235433,
          0.32238036137865844,
          0.33099367817507425,
          0.305697272220955,
          0.11000319328047821,
          0.29106244708861917,
          -0.0628437081914351,
          0.050604257901294095,
          0.1100481865450033,
          0.22689811123783152,
          0.22681329392514024,
          -0.06178956730571245,
          0.11004716505669487,
          0.16938074174709258,
          0.10432303009220857,
          0.34246667847805456,
          0.33094980003828295,
          -0.06432039022972144,
          0.34992830332677083,
          0.19599469619765447,
          -0.06178167482774372,
          -0.06568376197956981,
          0.10998009789600659,
          0.30594897227445667,
          0.33092297045193714,
          -0.061778944594969507,
          0.4443756237703118,
          0.4357870612007264,
          0.38698252382978976,
          0.11003820211651873,
          0.3309910660834765,
          -0.031676886305645184,
          0.28250953090274344,
          0.30494784867657226,
          0.3870028977899205,
          0.33096137939136033,
          0.45378659992380493,
          0.31243456852222057,
          0.34176375223053584,
          0.33082798085499804,
          0.2121977813417164,
          0.33446664812064414,
          0.11004796761011931,
          -0.061778481918665626,
          0.29110430139819177,
          0.32865322640425576,
          0.11313005087056249,
          0.16885174911601608,
          0.11004773723289345,
          0.2121930593067641,
          0.4345379649631165,
          0.3869974321004174,
          0.16938112474504716,
          0.3301695938101088,
          0.33987688367179636,
          0.3398785712034268,
          0.26042336901632723,
          0.40270582838187957,
          -0.06179071123938663,
          0.4357832329317428,
          0.43579841270356245,
          0.14674406532200965,
          0.16937190925947027,
          -0.038020299620613374,
          0.16935964168627501,
          -0.0673270557375436,
          0.22591816640285173,
          0.33948326243555443,
          -0.06198780525810664,
          0.16937895070976688,
          -0.07045422139510482,
          0.1311143229003278,
          -0.061778235558796996,
          -0.06180101901336729,
          0.3180873735159288,
          0.31533318634386376,
          0.3063587566725889,
          0.33072224617931734,
          0.4358025039008419
         ],
         "y": [
          -1.2724622678268138,
          -1.981388519319945,
          -1.1268411177609707,
          -2.1819333649199364,
          -1.9814990785112998,
          -2.1283270710516224,
          -1.7987975983088376,
          -1.1268239588898687,
          -0.9404856969827089,
          -1.1268450774003864,
          -1.791446375431869,
          -1.2724978929788202,
          -1.1269108187729442,
          -1.1268657073820851,
          -0.4719171106503415,
          -1.2263424557428568,
          -1.1268304996468068,
          -1.1268235406792946,
          -1.1268200662748424,
          -0.9404864010351562,
          -1.7951196811943986,
          -1.278267005167065,
          -1.1304144755482666,
          -1.126819596523087,
          -1.126911512252944,
          -1.1268258806416342,
          -1.1268200748918629,
          -1.6505511697100093,
          -1.127318662620628,
          -1.126832879454684,
          -1.1268409975470528,
          -1.1491181260715275,
          -1.2724613568236964,
          -1.1269125734217358,
          -1.1268195186514618,
          -1.1268148043726125,
          -1.12682584877192,
          -2.1373739633291526,
          -1.1268180717064362,
          -1.134146627868876,
          -1.2724631870696825,
          -1.1268980186648652,
          -1.1268253026038721,
          -1.12694098963048,
          -1.1268343819083297,
          -1.272768340731554,
          -1.2724687869617717,
          -1.2724720444150508,
          -1.2724982974610148,
          -1.2724562887937974,
          -0.940477876166742,
          -1.1268200195904052,
          -1.2181329108983454,
          -1.1269217465363763,
          -1.2724689626841592,
          -2.2802237854825247,
          -1.126850916049748,
          -1.1275923870633202,
          -1.1268636763955309,
          -1.1268157528998712,
          -1.1268560143688033,
          -1.1271203345088225,
          -2.1490018334611216,
          -1.7908454756837615,
          -1.4347858525421266,
          -1.12681328115857,
          -1.1308287741064746,
          -2.13017935427741,
          -1.1268145537721157,
          -1.2724638421318781,
          -1.1759661481083505,
          -0.9404865716725879,
          -2.1615024909501144,
          -1.2724806862632536,
          -0.9404848731365416,
          -1.126917341898423,
          -1.12692618179935,
          -1.981425551248592,
          -2.1872361973479775,
          -0.9404822007332494,
          -1.2724613832914997,
          -1.1268660958179924,
          -2.1019922886286913,
          -1.1268391596278666,
          -1.277747080978506,
          -0.9405101056803936,
          -2.214804787036587,
          -1.126904161012803,
          -2.146689300016363,
          -1.1268231934367783,
          -0.9404876467870996,
          -1.1268145530262372,
          -0.9404911834757512,
          -1.8551135272969252,
          -2.2768740364359825,
          -1.2724596158380415,
          -1.7912172505821304,
          -1.1268875905575637,
          -1.2724592731217264,
          -1.1268272256565341,
          -2.2359044145992315,
          -1.9814259933625729,
          -2.1283275808356157,
          -1.1321004329660147,
          -0.9405079637916128,
          -0.9405823560696549,
          -2.2768818850760018,
          -1.1268155938452633,
          -2.2768816081870358,
          -2.1614761038475026,
          -0.9937493621092262,
          -2.1820339980736088,
          -1.1268152988999522,
          -0.9410037284900071,
          -2.1283250669452585,
          -1.126839062839063,
          -2.161477178276762,
          -2.194878066638808,
          -1.128932969171506,
          -0.5800873521255239,
          -1.1268275369295944,
          -1.2734122240515808,
          -1.1268489286577343,
          -2.181974528739305,
          -2.1623072287896257,
          -2.196915026055106,
          -2.2496335648509618,
          -2.277418167751392,
          -0.9405215264997262,
          -1.1268194760076036,
          -1.1268529818536248,
          -0.9405027768421901,
          -0.9404875658315474,
          -2.2768957174712767,
          -2.1845756725435597,
          -1.2332074880336434,
          -0.9410306237318862,
          -1.272462248116958,
          -1.1324239746279046,
          -1.0856150490859608,
          -1.1268222907710113,
          -1.1268542506646329,
          -1.1268584217932804,
          -1.1268581135918625,
          -2.2769158596055594,
          -2.1380359881001203,
          -0.9406612128074081,
          -1.6504449999735094,
          -2.1283242421695907,
          -2.2148641187517883,
          -1.12683902060646,
          -0.9406147357994826,
          -1.65045398014116,
          -1.9815654598083934,
          -1.650447084351578,
          -1.7910780613225281,
          -2.3167279354010315,
          -2.276876329254638,
          -1.9866120606741304,
          -0.9407489274911036,
          -2.1823451803444236,
          -1.128343630967052,
          -1.3006496609214278,
          -0.9404875839407536,
          -1.6504407338198512,
          -1.6506125344160398,
          -1.1268354904258369,
          -0.9404880694381538,
          -1.2724611772634293,
          -1.186248763680443,
          -2.1088245278807527,
          -2.2770118731379543,
          -1.1292760460096967,
          -2.2148129080928345,
          -1.2185049865769577,
          -1.1268321859686496,
          -1.1324737116038686,
          -0.9406844796172477,
          -1.9848208864081087,
          -2.277382144187152,
          -1.1268244481015364,
          -2.2397780482079646,
          -2.128334819647406,
          -2.2360475627312857,
          -0.9405224880171668,
          -2.2768761634406554,
          -0.58006963899758,
          -2.161483873467659,
          -2.153678364531213,
          -2.235898758819273,
          -2.277191478474155,
          -2.2448503830401663,
          -2.363277791752981,
          -2.145880829956778,
          -2.277243848483269,
          -1.2524142313112652,
          -2.2085515502858,
          -0.9404880049498958,
          -1.126825803068931,
          -2.182868784093415,
          -2.117215385897498,
          -0.7277391021813264,
          -1.2729731585041864,
          -0.940490135400331,
          -1.2524553940378247,
          -2.131158232554589,
          -2.235936111433114,
          -1.2724622490028472,
          -2.2806498681115936,
          -2.2089057124669487,
          -2.2088589192711714,
          -0.21600217548338477,
          -2.2134368616027937,
          -1.126868346973398,
          -2.1284481003873394,
          -2.1283272339547445,
          -1.4348373883397925,
          -1.2724753401114475,
          -0.3527303676170703,
          -1.2725215920011146,
          -1.179209141764352,
          -1.651466940261504,
          -2.212583085725452,
          -1.1271238857129424,
          -1.2724720295686827,
          -1.145004353497869,
          -1.2263468330483471,
          -1.1268156169599646,
          -1.1268915606383498,
          -1.7908647701590266,
          -2.171646565409687,
          -1.981425570551677,
          -2.277336631959454,
          -2.128327095977147
         ],
         "z": [
          -0.15216952455597435,
          -0.1584494312338191,
          -0.16376055696023076,
          -0.16740088631667535,
          -0.15688566482841496,
          -0.12933494684931146,
          0.1482606278000348,
          -0.1649111346673979,
          -0.2233834241414432,
          -0.16452624178433145,
          -0.10609969833279324,
          -0.14924341875067518,
          -0.16177128478265385,
          -0.16432955118363063,
          -0.23008095025662412,
          -0.20191439255933225,
          -0.16437846495244776,
          -0.16489333276263135,
          -0.164980112564181,
          -0.22347310697955783,
          0.17210459903818864,
          0.2271063663598159,
          0.08469134562972212,
          -0.16472544247588294,
          -0.16031416190869716,
          -0.16466451307121524,
          -0.16503733224308234,
          -0.17056218698014386,
          -0.1441812848650369,
          -0.16382787307808633,
          -0.1641063853035477,
          1.590493169269096,
          -0.1521307460277899,
          -0.1613855593166901,
          -0.16475198449973755,
          -0.1651081413434929,
          -0.16436458874516313,
          -0.1608240260236122,
          -0.16498896034766392,
          -0.029389444557044973,
          -0.1522086538253652,
          -0.158628885287713,
          -0.1649683323333935,
          -0.163055563005119,
          -0.16445313512762347,
          -0.1393122600763849,
          -0.15167039013383546,
          -0.1519586908356125,
          -0.15194164279451736,
          -0.15253454402923536,
          -0.22364765214449533,
          -0.16468373757035978,
          -0.1996187605427642,
          -0.16177602986764722,
          -0.15173794095393225,
          0.4512926791608969,
          -0.1635470641504579,
          -0.1480883108990175,
          -0.16226102674210424,
          -0.1651103602002122,
          -0.16212554379062788,
          -0.1482971287164683,
          -0.12971641216816399,
          -0.14023483834027045,
          -0.21736298331758472,
          -0.164982952326575,
          -0.03744274346198669,
          -0.14056594282168755,
          -0.16511928510064672,
          -0.1522365377564337,
          0.48945705376106513,
          -0.22303251887743264,
          -0.17214213374238313,
          -0.15197543139653313,
          -0.22331849883588173,
          -0.16323605896099644,
          -0.16242524034956105,
          -0.15952099314585966,
          0.3514768007280339,
          -0.22335402692504588,
          -0.15213187267867562,
          -0.16106184061349516,
          -0.15178680294800717,
          -0.16367720541183664,
          0.2679365987852425,
          -0.22251159190724432,
          -0.15408791172305492,
          -0.16392565166220327,
          -0.15692300325400185,
          -0.16490840851747338,
          -0.22331713729670785,
          -0.1651193438169814,
          -0.223467682975074,
          -0.157126576576167,
          0.2956117631891171,
          -0.15239294445518559,
          -0.12023199494886454,
          -0.1622753715983964,
          -0.1523514163960261,
          -0.16478147965880682,
          -0.150299895284623,
          -0.15926217016882038,
          -0.12935664674565164,
          -0.09157324928979944,
          -0.21000000077272502,
          -0.2212876876899794,
          0.2956060958504718,
          -0.1651010135258063,
          0.29573730923334757,
          -0.17268460057040505,
          0.4944305803420972,
          -0.1661610191338215,
          -0.16506917969788745,
          -0.21617475330521382,
          -0.1293690654570935,
          -0.16319537704526896,
          -0.17240191109839287,
          -0.16350581071981302,
          -0.13588494796296766,
          -0.20473036074355255,
          -0.16462990823973128,
          -0.11859122315555706,
          -0.1644513234734295,
          -0.16601813904885848,
          -0.17433224593896585,
          -0.05036066913139475,
          -0.13461499504376886,
          0.33186478855098006,
          -0.22252003178334376,
          -0.16477176170367966,
          -0.1645342849156329,
          -0.22291618894472956,
          -0.2234958175912861,
          0.29600256794032825,
          -0.1456027070149638,
          -0.12826485794923836,
          -0.21433392157458134,
          -0.1521686855701013,
          -0.09041701048664617,
          1.5885951577902129,
          -0.1648699848835035,
          -0.16431958323784612,
          -0.16401942665277613,
          -0.1640063074907289,
          0.29618685044745807,
          0.08375233077285901,
          -0.17770952263606937,
          -0.17526861918599917,
          -0.12921453026579302,
          -0.15284236417698585,
          -0.1631935793365813,
          -0.21902346429662442,
          -0.1751134546731798,
          -0.15762133309644627,
          -0.17521403207282737,
          -0.13042980485482333,
          1.1366841765708189,
          0.2955888070655495,
          -0.08223137463523464,
          -0.21876422660478653,
          -0.15508927671857528,
          -0.08094190658583061,
          1.0951082511161345,
          -0.22346971734710014,
          -0.1752661631232809,
          -0.16827777810414782,
          -0.16411815452269782,
          -0.2233948417652748,
          -0.1521480032626134,
          -0.20950335799920958,
          -0.1817212298335965,
          0.29947779772341776,
          0.028651993079266542,
          -0.1523436253372695,
          -0.18512236670181517,
          -0.1646940567639357,
          0.14354274780448245,
          -0.21751372259877402,
          -0.11048544341374275,
          0.3035414247491814,
          -0.16493195886473308,
          -0.13148436691635837,
          -0.128201798235657,
          -0.14807516262615295,
          -0.22256096054738775,
          0.29577202020600213,
          -0.20479002555381645,
          -0.17252926048999181,
          -0.16073664285983727,
          -0.15038458540342847,
          0.29971476879227504,
          0.6005591267594897,
          2.1110242020796437,
          -0.14766760934242298,
          0.30942823656892815,
          -0.19717326429082838,
          -0.1563488341138546,
          -0.2234518102501544,
          -0.16495663596527632,
          -0.1549693762281311,
          -0.17650408931239014,
          -0.1261895034074072,
          -0.11184429727849175,
          -0.22342306971090103,
          -0.19659886354207062,
          -0.023564075573763055,
          -0.14978009549844154,
          -0.15216872327959272,
          0.37583068113851215,
          -0.14241072385186415,
          -0.14280417861938224,
          -0.24328578233862014,
          -0.13890013095544687,
          -0.16384477479276696,
          -0.1272674160679058,
          -0.12904671706061022,
          -0.21657102231086553,
          -0.15144212922170963,
          -0.11613890553240758,
          -0.1503058218280261,
          0.5335393618401167,
          -0.10014843297468098,
          -0.09308603316739072,
          -0.1484482922725352,
          -0.15195805887253686,
          0.5534184942707704,
          -0.2014737284055594,
          -0.16503375340101964,
          -0.16298178733179186,
          -0.14097254431696937,
          -0.1354183197645407,
          -0.15929545428737765,
          0.3174280924306453,
          -0.12933600785031457
         ]
        },
        {
         "customdata": [
          [
           "Proof-of-BibleHash"
          ],
          [
           "ECC 256K1"
          ],
          [
           "SHA3-256"
          ]
         ],
         "hovertemplate": "<b>%{hovertext}</b><br><br>class=%{marker.color}<br>pc_3=%{x}<br>pc_2=%{y}<br>pc_1=%{z}<br>Algorithm=%{customdata[0]}<extra></extra>",
         "hovertext": [
          "BiblePay",
          "Acute Angle Cloud",
          "Fiii"
         ],
         "legendgroup": "3",
         "marker": {
          "color": [
           3,
           3,
           3
          ],
          "coloraxis": "coloraxis",
          "symbol": "x"
         },
         "mode": "markers",
         "name": "3",
         "scene": "scene",
         "showlegend": true,
         "type": "scatter3d",
         "x": [
          22.489743199728103,
          10.196509552824152,
          17.623878105363055
         ],
         "y": [
          3.2645694374153553,
          3.6948438441666913,
          2.9535570723897324
         ],
         "z": [
          -0.20831667990543687,
          -0.38976483910089166,
          -0.5110322587654468
         ]
        },
        {
         "customdata": [
          [
           "TRC10"
          ]
         ],
         "hovertemplate": "<b>%{hovertext}</b><br><br>class=%{marker.color}<br>pc_3=%{x}<br>pc_2=%{y}<br>pc_1=%{z}<br>Algorithm=%{customdata[0]}<extra></extra>",
         "hovertext": [
          "BitTorrent"
         ],
         "legendgroup": "2",
         "marker": {
          "color": [
           2
          ],
          "coloraxis": "coloraxis",
          "symbol": "cross"
         },
         "mode": "markers",
         "name": "2",
         "scene": "scene",
         "showlegend": true,
         "type": "scatter3d",
         "x": [
          0.10472470447704679
         ],
         "y": [
          1.531847137998193
         ],
         "z": [
          34.148192764556114
         ]
        }
       ],
       "layout": {
        "coloraxis": {
         "colorbar": {
          "title": {
           "text": "class"
          }
         },
         "colorscale": [
          [
           0,
           "#0d0887"
          ],
          [
           0.1111111111111111,
           "#46039f"
          ],
          [
           0.2222222222222222,
           "#7201a8"
          ],
          [
           0.3333333333333333,
           "#9c179e"
          ],
          [
           0.4444444444444444,
           "#bd3786"
          ],
          [
           0.5555555555555556,
           "#d8576b"
          ],
          [
           0.6666666666666666,
           "#ed7953"
          ],
          [
           0.7777777777777778,
           "#fb9f3a"
          ],
          [
           0.8888888888888888,
           "#fdca26"
          ],
          [
           1,
           "#f0f921"
          ]
         ]
        },
        "legend": {
         "title": {
          "text": "class"
         },
         "tracegroupgap": 0,
         "x": 0,
         "y": 1
        },
        "margin": {
         "t": 60
        },
        "scene": {
         "domain": {
          "x": [
           0,
           1
          ],
          "y": [
           0,
           1
          ]
         },
         "xaxis": {
          "title": {
           "text": "pc_3"
          }
         },
         "yaxis": {
          "title": {
           "text": "pc_2"
          }
         },
         "zaxis": {
          "title": {
           "text": "pc_1"
          }
         }
        },
        "template": {
         "data": {
          "bar": [
           {
            "error_x": {
             "color": "#2a3f5f"
            },
            "error_y": {
             "color": "#2a3f5f"
            },
            "marker": {
             "line": {
              "color": "#E5ECF6",
              "width": 0.5
             }
            },
            "type": "bar"
           }
          ],
          "barpolar": [
           {
            "marker": {
             "line": {
              "color": "#E5ECF6",
              "width": 0.5
             }
            },
            "type": "barpolar"
           }
          ],
          "carpet": [
           {
            "aaxis": {
             "endlinecolor": "#2a3f5f",
             "gridcolor": "white",
             "linecolor": "white",
             "minorgridcolor": "white",
             "startlinecolor": "#2a3f5f"
            },
            "baxis": {
             "endlinecolor": "#2a3f5f",
             "gridcolor": "white",
             "linecolor": "white",
             "minorgridcolor": "white",
             "startlinecolor": "#2a3f5f"
            },
            "type": "carpet"
           }
          ],
          "choropleth": [
           {
            "colorbar": {
             "outlinewidth": 0,
             "ticks": ""
            },
            "type": "choropleth"
           }
          ],
          "contour": [
           {
            "colorbar": {
             "outlinewidth": 0,
             "ticks": ""
            },
            "colorscale": [
             [
              0,
              "#0d0887"
             ],
             [
              0.1111111111111111,
              "#46039f"
             ],
             [
              0.2222222222222222,
              "#7201a8"
             ],
             [
              0.3333333333333333,
              "#9c179e"
             ],
             [
              0.4444444444444444,
              "#bd3786"
             ],
             [
              0.5555555555555556,
              "#d8576b"
             ],
             [
              0.6666666666666666,
              "#ed7953"
             ],
             [
              0.7777777777777778,
              "#fb9f3a"
             ],
             [
              0.8888888888888888,
              "#fdca26"
             ],
             [
              1,
              "#f0f921"
             ]
            ],
            "type": "contour"
           }
          ],
          "contourcarpet": [
           {
            "colorbar": {
             "outlinewidth": 0,
             "ticks": ""
            },
            "type": "contourcarpet"
           }
          ],
          "heatmap": [
           {
            "colorbar": {
             "outlinewidth": 0,
             "ticks": ""
            },
            "colorscale": [
             [
              0,
              "#0d0887"
             ],
             [
              0.1111111111111111,
              "#46039f"
             ],
             [
              0.2222222222222222,
              "#7201a8"
             ],
             [
              0.3333333333333333,
              "#9c179e"
             ],
             [
              0.4444444444444444,
              "#bd3786"
             ],
             [
              0.5555555555555556,
              "#d8576b"
             ],
             [
              0.6666666666666666,
              "#ed7953"
             ],
             [
              0.7777777777777778,
              "#fb9f3a"
             ],
             [
              0.8888888888888888,
              "#fdca26"
             ],
             [
              1,
              "#f0f921"
             ]
            ],
            "type": "heatmap"
           }
          ],
          "heatmapgl": [
           {
            "colorbar": {
             "outlinewidth": 0,
             "ticks": ""
            },
            "colorscale": [
             [
              0,
              "#0d0887"
             ],
             [
              0.1111111111111111,
              "#46039f"
             ],
             [
              0.2222222222222222,
              "#7201a8"
             ],
             [
              0.3333333333333333,
              "#9c179e"
             ],
             [
              0.4444444444444444,
              "#bd3786"
             ],
             [
              0.5555555555555556,
              "#d8576b"
             ],
             [
              0.6666666666666666,
              "#ed7953"
             ],
             [
              0.7777777777777778,
              "#fb9f3a"
             ],
             [
              0.8888888888888888,
              "#fdca26"
             ],
             [
              1,
              "#f0f921"
             ]
            ],
            "type": "heatmapgl"
           }
          ],
          "histogram": [
           {
            "marker": {
             "colorbar": {
              "outlinewidth": 0,
              "ticks": ""
             }
            },
            "type": "histogram"
           }
          ],
          "histogram2d": [
           {
            "colorbar": {
             "outlinewidth": 0,
             "ticks": ""
            },
            "colorscale": [
             [
              0,
              "#0d0887"
             ],
             [
              0.1111111111111111,
              "#46039f"
             ],
             [
              0.2222222222222222,
              "#7201a8"
             ],
             [
              0.3333333333333333,
              "#9c179e"
             ],
             [
              0.4444444444444444,
              "#bd3786"
             ],
             [
              0.5555555555555556,
              "#d8576b"
             ],
             [
              0.6666666666666666,
              "#ed7953"
             ],
             [
              0.7777777777777778,
              "#fb9f3a"
             ],
             [
              0.8888888888888888,
              "#fdca26"
             ],
             [
              1,
              "#f0f921"
             ]
            ],
            "type": "histogram2d"
           }
          ],
          "histogram2dcontour": [
           {
            "colorbar": {
             "outlinewidth": 0,
             "ticks": ""
            },
            "colorscale": [
             [
              0,
              "#0d0887"
             ],
             [
              0.1111111111111111,
              "#46039f"
             ],
             [
              0.2222222222222222,
              "#7201a8"
             ],
             [
              0.3333333333333333,
              "#9c179e"
             ],
             [
              0.4444444444444444,
              "#bd3786"
             ],
             [
              0.5555555555555556,
              "#d8576b"
             ],
             [
              0.6666666666666666,
              "#ed7953"
             ],
             [
              0.7777777777777778,
              "#fb9f3a"
             ],
             [
              0.8888888888888888,
              "#fdca26"
             ],
             [
              1,
              "#f0f921"
             ]
            ],
            "type": "histogram2dcontour"
           }
          ],
          "mesh3d": [
           {
            "colorbar": {
             "outlinewidth": 0,
             "ticks": ""
            },
            "type": "mesh3d"
           }
          ],
          "parcoords": [
           {
            "line": {
             "colorbar": {
              "outlinewidth": 0,
              "ticks": ""
             }
            },
            "type": "parcoords"
           }
          ],
          "pie": [
           {
            "automargin": true,
            "type": "pie"
           }
          ],
          "scatter": [
           {
            "marker": {
             "colorbar": {
              "outlinewidth": 0,
              "ticks": ""
             }
            },
            "type": "scatter"
           }
          ],
          "scatter3d": [
           {
            "line": {
             "colorbar": {
              "outlinewidth": 0,
              "ticks": ""
             }
            },
            "marker": {
             "colorbar": {
              "outlinewidth": 0,
              "ticks": ""
             }
            },
            "type": "scatter3d"
           }
          ],
          "scattercarpet": [
           {
            "marker": {
             "colorbar": {
              "outlinewidth": 0,
              "ticks": ""
             }
            },
            "type": "scattercarpet"
           }
          ],
          "scattergeo": [
           {
            "marker": {
             "colorbar": {
              "outlinewidth": 0,
              "ticks": ""
             }
            },
            "type": "scattergeo"
           }
          ],
          "scattergl": [
           {
            "marker": {
             "colorbar": {
              "outlinewidth": 0,
              "ticks": ""
             }
            },
            "type": "scattergl"
           }
          ],
          "scattermapbox": [
           {
            "marker": {
             "colorbar": {
              "outlinewidth": 0,
              "ticks": ""
             }
            },
            "type": "scattermapbox"
           }
          ],
          "scatterpolar": [
           {
            "marker": {
             "colorbar": {
              "outlinewidth": 0,
              "ticks": ""
             }
            },
            "type": "scatterpolar"
           }
          ],
          "scatterpolargl": [
           {
            "marker": {
             "colorbar": {
              "outlinewidth": 0,
              "ticks": ""
             }
            },
            "type": "scatterpolargl"
           }
          ],
          "scatterternary": [
           {
            "marker": {
             "colorbar": {
              "outlinewidth": 0,
              "ticks": ""
             }
            },
            "type": "scatterternary"
           }
          ],
          "surface": [
           {
            "colorbar": {
             "outlinewidth": 0,
             "ticks": ""
            },
            "colorscale": [
             [
              0,
              "#0d0887"
             ],
             [
              0.1111111111111111,
              "#46039f"
             ],
             [
              0.2222222222222222,
              "#7201a8"
             ],
             [
              0.3333333333333333,
              "#9c179e"
             ],
             [
              0.4444444444444444,
              "#bd3786"
             ],
             [
              0.5555555555555556,
              "#d8576b"
             ],
             [
              0.6666666666666666,
              "#ed7953"
             ],
             [
              0.7777777777777778,
              "#fb9f3a"
             ],
             [
              0.8888888888888888,
              "#fdca26"
             ],
             [
              1,
              "#f0f921"
             ]
            ],
            "type": "surface"
           }
          ],
          "table": [
           {
            "cells": {
             "fill": {
              "color": "#EBF0F8"
             },
             "line": {
              "color": "white"
             }
            },
            "header": {
             "fill": {
              "color": "#C8D4E3"
             },
             "line": {
              "color": "white"
             }
            },
            "type": "table"
           }
          ]
         },
         "layout": {
          "annotationdefaults": {
           "arrowcolor": "#2a3f5f",
           "arrowhead": 0,
           "arrowwidth": 1
          },
          "coloraxis": {
           "colorbar": {
            "outlinewidth": 0,
            "ticks": ""
           }
          },
          "colorscale": {
           "diverging": [
            [
             0,
             "#8e0152"
            ],
            [
             0.1,
             "#c51b7d"
            ],
            [
             0.2,
             "#de77ae"
            ],
            [
             0.3,
             "#f1b6da"
            ],
            [
             0.4,
             "#fde0ef"
            ],
            [
             0.5,
             "#f7f7f7"
            ],
            [
             0.6,
             "#e6f5d0"
            ],
            [
             0.7,
             "#b8e186"
            ],
            [
             0.8,
             "#7fbc41"
            ],
            [
             0.9,
             "#4d9221"
            ],
            [
             1,
             "#276419"
            ]
           ],
           "sequential": [
            [
             0,
             "#0d0887"
            ],
            [
             0.1111111111111111,
             "#46039f"
            ],
            [
             0.2222222222222222,
             "#7201a8"
            ],
            [
             0.3333333333333333,
             "#9c179e"
            ],
            [
             0.4444444444444444,
             "#bd3786"
            ],
            [
             0.5555555555555556,
             "#d8576b"
            ],
            [
             0.6666666666666666,
             "#ed7953"
            ],
            [
             0.7777777777777778,
             "#fb9f3a"
            ],
            [
             0.8888888888888888,
             "#fdca26"
            ],
            [
             1,
             "#f0f921"
            ]
           ],
           "sequentialminus": [
            [
             0,
             "#0d0887"
            ],
            [
             0.1111111111111111,
             "#46039f"
            ],
            [
             0.2222222222222222,
             "#7201a8"
            ],
            [
             0.3333333333333333,
             "#9c179e"
            ],
            [
             0.4444444444444444,
             "#bd3786"
            ],
            [
             0.5555555555555556,
             "#d8576b"
            ],
            [
             0.6666666666666666,
             "#ed7953"
            ],
            [
             0.7777777777777778,
             "#fb9f3a"
            ],
            [
             0.8888888888888888,
             "#fdca26"
            ],
            [
             1,
             "#f0f921"
            ]
           ]
          },
          "colorway": [
           "#636efa",
           "#EF553B",
           "#00cc96",
           "#ab63fa",
           "#FFA15A",
           "#19d3f3",
           "#FF6692",
           "#B6E880",
           "#FF97FF",
           "#FECB52"
          ],
          "font": {
           "color": "#2a3f5f"
          },
          "geo": {
           "bgcolor": "white",
           "lakecolor": "white",
           "landcolor": "#E5ECF6",
           "showlakes": true,
           "showland": true,
           "subunitcolor": "white"
          },
          "hoverlabel": {
           "align": "left"
          },
          "hovermode": "closest",
          "mapbox": {
           "style": "light"
          },
          "paper_bgcolor": "white",
          "plot_bgcolor": "#E5ECF6",
          "polar": {
           "angularaxis": {
            "gridcolor": "white",
            "linecolor": "white",
            "ticks": ""
           },
           "bgcolor": "#E5ECF6",
           "radialaxis": {
            "gridcolor": "white",
            "linecolor": "white",
            "ticks": ""
           }
          },
          "scene": {
           "xaxis": {
            "backgroundcolor": "#E5ECF6",
            "gridcolor": "white",
            "gridwidth": 2,
            "linecolor": "white",
            "showbackground": true,
            "ticks": "",
            "zerolinecolor": "white"
           },
           "yaxis": {
            "backgroundcolor": "#E5ECF6",
            "gridcolor": "white",
            "gridwidth": 2,
            "linecolor": "white",
            "showbackground": true,
            "ticks": "",
            "zerolinecolor": "white"
           },
           "zaxis": {
            "backgroundcolor": "#E5ECF6",
            "gridcolor": "white",
            "gridwidth": 2,
            "linecolor": "white",
            "showbackground": true,
            "ticks": "",
            "zerolinecolor": "white"
           }
          },
          "shapedefaults": {
           "line": {
            "color": "#2a3f5f"
           }
          },
          "ternary": {
           "aaxis": {
            "gridcolor": "white",
            "linecolor": "white",
            "ticks": ""
           },
           "baxis": {
            "gridcolor": "white",
            "linecolor": "white",
            "ticks": ""
           },
           "bgcolor": "#E5ECF6",
           "caxis": {
            "gridcolor": "white",
            "linecolor": "white",
            "ticks": ""
           }
          },
          "title": {
           "x": 0.05
          },
          "xaxis": {
           "automargin": true,
           "gridcolor": "white",
           "linecolor": "white",
           "ticks": "",
           "title": {
            "standoff": 15
           },
           "zerolinecolor": "white",
           "zerolinewidth": 2
          },
          "yaxis": {
           "automargin": true,
           "gridcolor": "white",
           "linecolor": "white",
           "ticks": "",
           "title": {
            "standoff": 15
           },
           "zerolinecolor": "white",
           "zerolinewidth": 2
          }
         }
        },
        "width": 800
       }
      }
     },
     "metadata": {}
    }
   ],
   "source": [
    "# Create a 3D-Scatter with the PCA data and the clusters\n",
    "clustered_fig = px.scatter_3d(\n",
    "    clustered_df,\n",
    "    x = 'pc_3',\n",
    "    y = 'pc_2',\n",
    "    z = 'pc_1',\n",
    "    color = 'class',\n",
    "    symbol = 'class',\n",
    "    hover_name = 'CoinName',\n",
    "    hover_data = ['Algorithm'],\n",
    "    width = 800\n",
    ")\n",
    "clustered_fig.update_layout(legend = dict(x = 0, y = 1))\n",
    "clustered_fig.show()"
   ]
  },
  {
   "cell_type": "markdown",
   "metadata": {},
   "source": [
    "#### Table of Tradable Cryptocurrencies"
   ]
  },
  {
   "cell_type": "code",
   "execution_count": 90,
   "metadata": {},
   "outputs": [
    {
     "output_type": "execute_result",
     "data": {
      "text/html": "<div id='1676'>\n\n\n\n\n\n  <div class=\"bk-root\" id=\"bed47448-e9a2-418b-9b14-d9cfb1c82d79\" data-root-id=\"1676\"></div>\n</div>\n<script type=\"application/javascript\">(function(root) {\n  function embed_document(root) {\n  var docs_json = {\"34000d5b-f471-4ab8-a97f-7ca24e99ca4e\":{\"roots\":{\"references\":[{\"attributes\":{},\"id\":\"1685\",\"type\":\"StringFormatter\"},{\"attributes\":{},\"id\":\"1706\",\"type\":\"IntEditor\"},{\"attributes\":{},\"id\":\"1679\",\"type\":\"Selection\"},{\"attributes\":{\"columns\":[{\"id\":\"1682\"},{\"id\":\"1687\"},{\"id\":\"1692\"},{\"id\":\"1697\"},{\"id\":\"1702\"},{\"id\":\"1707\"}],\"height\":300,\"reorderable\":false,\"source\":{\"id\":\"1678\"},\"view\":{\"id\":\"1711\"},\"width\":700},\"id\":\"1710\",\"type\":\"DataTable\"},{\"attributes\":{},\"id\":\"1696\",\"type\":\"NumberEditor\"},{\"attributes\":{\"editor\":{\"id\":\"1701\"},\"field\":\"TotalCoinsMined\",\"formatter\":{\"id\":\"1700\"},\"title\":\"TotalCoinsMined\"},\"id\":\"1702\",\"type\":\"TableColumn\"},{\"attributes\":{\"data\":{\"Algorithm\":[\"Scrypt\",\"Scrypt\",\"X13\",\"SHA-256\",\"Ethash\",\"Scrypt\",\"X11\",\"CryptoNight-V7\",\"Ethash\",\"Equihash\",\"SHA-512\",\"Multiple\",\"SHA-256\",\"SHA-256\",\"Scrypt\",\"X15\",\"X11\",\"Scrypt\",\"Scrypt\",\"Scrypt\",\"Multiple\",\"Scrypt\",\"SHA-256\",\"Scrypt\",\"Scrypt\",\"Scrypt\",\"Quark\",\"Groestl\",\"Scrypt\",\"Scrypt\",\"Scrypt\",\"Scrypt\",\"Scrypt\",\"X11\",\"Scrypt\",\"Groestl\",\"Multiple\",\"SHA-256\",\"Scrypt\",\"Scrypt\",\"Scrypt\",\"Scrypt\",\"PoS\",\"Scrypt\",\"Scrypt\",\"NeoScrypt\",\"Scrypt\",\"Scrypt\",\"Scrypt\",\"Scrypt\",\"X11\",\"Scrypt\",\"X11\",\"SHA-256\",\"Scrypt\",\"Scrypt\",\"Scrypt\",\"SHA3\",\"Scrypt\",\"HybridScryptHash256\",\"Scrypt\",\"Scrypt\",\"SHA-256\",\"Scrypt\",\"X13\",\"Scrypt\",\"SHA-256\",\"Scrypt\",\"X13\",\"NeoScrypt\",\"Scrypt\",\"Scrypt\",\"Scrypt\",\"Scrypt\",\"Scrypt\",\"Scrypt\",\"X11\",\"X11\",\"SHA-256\",\"Multiple\",\"SHA-256\",\"PHI1612\",\"X11\",\"SHA-256\",\"SHA-256\",\"SHA-256\",\"X11\",\"Scrypt\",\"Scrypt\",\"Scrypt\",\"Scrypt\",\"Lyra2REv2\",\"Scrypt\",\"X11\",\"Multiple\",\"SHA-256\",\"X13\",\"Scrypt\",\"CryptoNight\",\"CryptoNight\",\"Shabal256\",\"Counterparty\",\"Scrypt\",\"SHA-256\",\"Groestl\",\"Scrypt\",\"Scrypt\",\"Scrypt\",\"X13\",\"Scrypt\",\"Scrypt\",\"Scrypt\",\"Scrypt\",\"X13\",\"Scrypt\",\"Stanford Folding\",\"X11\",\"Multiple\",\"QuBit\",\"Scrypt\",\"Scrypt\",\"Scrypt\",\"M7 POW\",\"Scrypt\",\"SHA-256\",\"Scrypt\",\"X11\",\"SHA3\",\"X11\",\"Lyra2RE\",\"SHA-256\",\"QUAIT\",\"X11\",\"X11\",\"Scrypt\",\"Scrypt\",\"Scrypt\",\"Ethash\",\"X13\",\"Blake2b\",\"SHA-256\",\"X15\",\"X11\",\"SHA-256\",\"BLAKE256\",\"Scrypt\",\"1GB AES Pattern Search\",\"SHA-256\",\"X11\",\"Scrypt\",\"SHA-256\",\"SHA-256\",\"NIST5\",\"Scrypt\",\"Scrypt\",\"X11\",\"Dagger\",\"Scrypt\",\"X11GOST\",\"X11\",\"Scrypt\",\"SHA-256\",\"Scrypt\",\"PoS\",\"Scrypt\",\"X11\",\"X11\",\"SHA-256\",\"SHA-256\",\"NIST5\",\"X11\",\"Scrypt\",\"POS 3.0\",\"Scrypt\",\"Scrypt\",\"Scrypt\",\"X13\",\"X11\",\"X11\",\"Equihash\",\"X11\",\"Scrypt\",\"CryptoNight\",\"SHA-256\",\"SHA-256\",\"X11\",\"Scrypt\",\"Multiple\",\"Scrypt\",\"Scrypt\",\"Scrypt\",\"SHA-256\",\"Scrypt\",\"Scrypt\",\"SHA-256D\",\"PoS\",\"Scrypt\",\"X11\",\"Lyra2Z\",\"PoS\",\"X13\",\"X14\",\"PoS\",\"SHA-256D\",\"Ethash\",\"Equihash\",\"DPoS\",\"X11\",\"Scrypt\",\"X11\",\"X13\",\"X11\",\"PoS\",\"Scrypt\",\"Scrypt\",\"X11\",\"PoS\",\"X11\",\"SHA-256\",\"Scrypt\",\"X11\",\"Scrypt\",\"Scrypt\",\"X11\",\"CryptoNight\",\"Scrypt\",\"Scrypt\",\"Scrypt\",\"Scrypt\",\"Quark\",\"QuBit\",\"Scrypt\",\"CryptoNight\",\"Lyra2RE\",\"Scrypt\",\"SHA-256\",\"X11\",\"Scrypt\",\"X11\",\"Scrypt\",\"CryptoNight-V7\",\"Scrypt\",\"Scrypt\",\"Scrypt\",\"X13\",\"X11\",\"Equihash\",\"Scrypt\",\"Scrypt\",\"Lyra2RE\",\"Scrypt\",\"Dagger-Hashimoto\",\"X11\",\"Blake2S\",\"X11\",\"Scrypt\",\"PoS\",\"X11\",\"NIST5\",\"PoS\",\"X11\",\"Scrypt\",\"Scrypt\",\"Scrypt\",\"SHA-256\",\"X11\",\"Scrypt\",\"Scrypt\",\"SHA-256\",\"PoS\",\"Scrypt\",\"X15\",\"SHA-256\",\"Scrypt\",\"POS 3.0\",\"CryptoNight-V7\",\"536\",\"Argon2d\",\"Blake2b\",\"Cloverhash\",\"CryptoNight\",\"NIST5\",\"X11\",\"NIST5\",\"Skein\",\"Scrypt\",\"X13\",\"Scrypt\",\"X11\",\"X11\",\"Scrypt\",\"CryptoNight\",\"X13\",\"Time Travel\",\"Scrypt\",\"Keccak\",\"SkunkHash v2 Raptor\",\"X11\",\"Skein\",\"SHA-256\",\"X11\",\"Scrypt\",\"VeChainThor Authority\",\"Scrypt\",\"PoS\",\"Scrypt\",\"Scrypt\",\"Scrypt\",\"Scrypt\",\"Scrypt\",\"Scrypt\",\"Scrypt\",\"CryptoNight\",\"SHA-512\",\"Ouroboros\",\"X11\",\"Equihash\",\"NeoScrypt\",\"X11\",\"Scrypt\",\"NeoScrypt\",\"Lyra2REv2\",\"Equihash\",\"Scrypt\",\"SHA-256\",\"NIST5\",\"PHI1612\",\"Dagger\",\"Scrypt\",\"Quark\",\"Scrypt\",\"POS 2.0\",\"Scrypt\",\"SHA-256\",\"X11\",\"NeoScrypt\",\"Ethash\",\"NeoScrypt\",\"X11\",\"DPoS\",\"NIST5\",\"X13\",\"Multiple\",\"Scrypt\",\"CryptoNight\",\"CryptoNight\",\"Ethash\",\"NIST5\",\"Quark\",\"X11\",\"CryptoNight-V7\",\"Scrypt\",\"Scrypt\",\"Scrypt\",\"X11\",\"BLAKE256\",\"X11\",\"NeoScrypt\",\"Quark\",\"NeoScrypt\",\"Scrypt\",\"Scrypt\",\"Scrypt\",\"X11\",\"X11\",\"SHA-256\",\"C11\",\"POS 3.0\",\"Ethash\",\"Scrypt\",\"CryptoNight\",\"SkunkHash\",\"Scrypt\",\"CryptoNight\",\"Scrypt\",\"Dagger\",\"Lyra2REv2\",\"X13\",\"Proof-of-BibleHash\",\"SHA-256 + Hive\",\"Scrypt\",\"Scrypt\",\"X11\",\"C11\",\"Proof-of-Authority\",\"X11\",\"XEVAN\",\"Scrypt\",\"VBFT\",\"Ethash\",\"CryptoNight\",\"Scrypt\",\"IMesh\",\"NIST5\",\"Scrypt\",\"Scrypt\",\"Equihash\",\"Scrypt\",\"Lyra2Z\",\"Green Protocol\",\"PoS\",\"Scrypt\",\"Semux BFT consensus\",\"X11\",\"Quark\",\"PoS\",\"CryptoNight\",\"X16R\",\"Scrypt\",\"NIST5\",\"Lyra2RE\",\"XEVAN\",\"Tribus\",\"Scrypt\",\"Lyra2Z\",\"CryptoNight\",\"CryptoNight Heavy\",\"CryptoNight\",\"Scrypt\",\"Scrypt\",\"Jump Consistent Hash\",\"SHA-256D\",\"CryptoNight\",\"Scrypt\",\"X15\",\"Scrypt\",\"Quark\",\"SHA-256\",\"DPoS\",\"X16R\",\"HMQ1725\",\"X11\",\"X16R\",\"Quark\",\"Quark\",\"Scrypt\",\"Lyra2REv2\",\"Quark\",\"Scrypt\",\"Scrypt\",\"CryptoNight-V7\",\"Cryptonight-GPU\",\"XEVAN\",\"CryptoNight Heavy\",\"X11\",\"X11\",\"Scrypt\",\"PoS\",\"SHA-256\",\"Keccak\",\"X11\",\"X11\",\"Scrypt\",\"SHA-512\",\"X16R\",\"ECC 256K1\",\"Equihash\",\"XEVAN\",\"Lyra2Z\",\"SHA-256\",\"XEVAN\",\"X11\",\"CryptoNight\",\"Quark\",\"Blake\",\"Blake\",\"Equihash\",\"Exosis\",\"Scrypt\",\"Scrypt\",\"Equihash\",\"Quark\",\"Equihash\",\"Quark\",\"Scrypt\",\"QuBit\",\"X11\",\"Scrypt\",\"XEVAN\",\"SHA-256D\",\"X11\",\"SHA-256\",\"X13\",\"SHA-256\",\"X11\",\"DPoS\",\"Scrypt\",\"Scrypt\",\"X11\",\"NeoScrypt\",\"Scrypt\",\"Blake\",\"Scrypt\",\"SHA-256\",\"Scrypt\",\"X11\",\"Scrypt\",\"Scrypt\",\"SHA-256\",\"X11\",\"SHA-256\",\"Scrypt\",\"Scrypt\",\"Scrypt\",\"Groestl\",\"X11\",\"Scrypt\",\"PoS\",\"Scrypt\",\"Scrypt\",\"X11\",\"SHA-256\",\"DPoS\",\"Scrypt\",\"Scrypt\",\"NeoScrypt\",\"SHA3-256\",\"Multiple\",\"X13\",\"Equihash+Scrypt\",\"DPoS\",\"Ethash\",\"DPoS\",\"SHA-256\",\"Leased POS\",\"PoS\",\"TRC10\",\"PoS\",\"SHA-256\",\"Scrypt\",\"CryptoNight\",\"Equihash\",\"Scrypt\"],\"CoinName\":[\"42 Coin\",\"404Coin\",\"EliteCoin\",\"Bitcoin\",\"Ethereum\",\"Litecoin\",\"Dash\",\"Monero\",\"Ethereum Classic\",\"ZCash\",\"Bitshares\",\"DigiByte\",\"BitcoinDark\",\"PayCoin\",\"ProsperCoin\",\"KoboCoin\",\"Spreadcoin\",\"Argentum\",\"Aurora Coin\",\"BlueCoin\",\"MyriadCoin\",\"MoonCoin\",\"ZetaCoin\",\"SexCoin\",\"Quatloo\",\"EnergyCoin\",\"QuarkCoin\",\"Riecoin\",\"Digitalcoin \",\"BitBar\",\"Catcoin\",\"CryptoBullion\",\"CannaCoin\",\"CryptCoin\",\"CasinoCoin\",\"Diamond\",\"Verge\",\"DevCoin\",\"EarthCoin\",\"E-Gulden\",\"Einsteinium\",\"Emerald\",\"Exclusive Coin\",\"FlutterCoin\",\"Franko\",\"FeatherCoin\",\"GrandCoin\",\"GlobalCoin\",\"GoldCoin\",\"HoboNickels\",\"HyperStake\",\"Infinite Coin\",\"IOCoin\",\"IXcoin\",\"KrugerCoin\",\"LuckyCoin\",\"Litebar \",\"MaxCoin\",\"MegaCoin\",\"MediterraneanCoin\",\"MintCoin\",\"MinCoin\",\"MazaCoin\",\"Nautilus Coin\",\"NavCoin\",\"NobleCoin\",\"Namecoin\",\"NyanCoin\",\"OpalCoin\",\"Orbitcoin\",\"PotCoin\",\"PhoenixCoin\",\"Reddcoin\",\"RonPaulCoin\",\"StableCoin\",\"SmartCoin\",\"SuperCoin\",\"SyncCoin\",\"SysCoin\",\"TeslaCoin\",\"TigerCoin\",\"TittieCoin\",\"TorCoin\",\"TerraCoin\",\"UnbreakableCoin\",\"Unobtanium\",\"UroCoin\",\"UnitaryStatus Dollar\",\"UltraCoin\",\"ViaCoin\",\"VeriCoin\",\"Vertcoin\",\"WorldCoin\",\"X11 Coin\",\"Crypti\",\"JouleCoin\",\"StealthCoin\",\"ZCC Coin\",\"ByteCoin\",\"DigitalNote \",\"BurstCoin\",\"StorjCoin\",\"MonaCoin\",\"Neutron\",\"FairCoin\",\"Gulden\",\"RubyCoin\",\"PesetaCoin\",\"Kore\",\"Wild Beast Coin\",\"Dnotes\",\"Flo\",\"8BIT Coin\",\"Sativa Coin\",\"ArtByte\",\"Folding Coin\",\"Ucoin\",\"Unitus\",\"CypherPunkCoin\",\"OmniCron\",\"Vtorrent\",\"GreenCoin\",\"Cryptonite\",\"MasterCoin\",\"SoonCoin\",\"1Credit\",\"IslaCoin\",\"Nexus\",\"MarsCoin \",\"Crypto\",\"Anarchists Prime\",\"Droidz\",\"BowsCoin\",\"Squall Coin\",\"Song Coin\",\"BitZeny\",\"Diggits\",\"Expanse\",\"Paycon\",\"Siacoin\",\"Emercoin\",\"EverGreenCoin\",\"MindCoin\",\"I0coin\",\"Decred\",\"Revolution VR\",\"HOdlcoin\",\"EDRCoin\",\"Hitcoin\",\"Gamecredits\",\"DubaiCoin\",\"CarpeDiemCoin\",\"PWR Coin\",\"BillaryCoin\",\"GPU Coin\",\"Adzcoin\",\"SoilCoin\",\"YoCoin\",\"SibCoin\",\"EuropeCoin\",\"ZeitCoin\",\"SwingCoin\",\"SafeExchangeCoin\",\"Nebuchadnezzar\",\"Francs\",\"BolivarCoin\",\"Ratecoin\",\"Revenu\",\"Clockcoin\",\"VIP Tokens\",\"BitSend\",\"Omni\",\"Let it Ride\",\"PutinCoin\",\"iBankCoin\",\"Frankywillcoin\",\"MudraCoin\",\"PizzaCoin\",\"Lutetium Coin\",\"Komodo\",\"GoldBlocks\",\"CarterCoin\",\"Karbo\",\"BitTokens\",\"ZayedCoin\",\"MustangCoin\",\"ZoneCoin\",\"Circuits of Value\",\"RootCoin\",\"DopeCoin\",\"BitCurrency\",\"DollarCoin\",\"Swiscoin\",\"Shilling\",\"BuzzCoin\",\"Opair\",\"PesoBit\",\"Halloween Coin\",\"ZCoin\",\"CoffeeCoin\",\"RoyalCoin\",\"GanjaCoin V2\",\"TeamUP\",\"LanaCoin\",\"Elementrem\",\"ZClassic\",\"ARK\",\"InsaneCoin\",\"KiloCoin\",\"ArtexCoin\",\"EmberCoin\",\"XenixCoin\",\"FreeCoin\",\"PLNCoin\",\"AquariusCoin\",\"Kurrent\",\"Creatio\",\"Eternity\",\"Eurocoin\",\"BitcoinFast\",\"Stakenet\",\"BitConnect Coin\",\"MoneyCoin\",\"Enigma\",\"Cannabis Industry Coin\",\"Russiacoin\",\"PandaCoin\",\"GameUnits\",\"GAKHcoin\",\"Allsafe\",\"LiteCreed\",\"OsmiumCoin\",\"Bikercoins\",\"HexxCoin\",\"Klingon Empire Darsek\",\"Internet of People\",\"KushCoin\",\"Printerium\",\"PacCoin\",\"Impeach\",\"Citadel\",\"Zilbercoin\",\"FirstCoin\",\"BeaverCoin\",\"FindCoin\",\"VaultCoin\",\"Zero\",\"OpenChat\",\"Canada eCoin\",\"Zoin\",\"RenosCoin\",\"DubaiCoin\",\"VirtacoinPlus\",\"TajCoin\",\"Impact\",\"EB3coin\",\"Atmos\",\"HappyCoin\",\"Coinonat\",\"MacronCoin\",\"Condensate\",\"Independent Money System\",\"ArgusCoin\",\"LomoCoin\",\"ProCurrency\",\"GoldReserve\",\"BenjiRolls\",\"GrowthCoin\",\"ILCoin\",\"Phreak\",\"Degas Coin\",\"HTML5 Coin\",\"Ultimate Secure Cash\",\"EquiTrader\",\"QTUM\",\"Quantum Resistant Ledger\",\"Espers\",\"Dynamic\",\"Nano\",\"ChanCoin\",\"Dinastycoin\",\"Denarius\",\"DigitalPrice\",\"Virta Unique Coin\",\"Bitcoin Planet\",\"Unify\",\"BritCoin\",\"SocialCoin\",\"ArcticCoin\",\"DAS\",\"Linda\",\"LeviarCoin\",\"DeepOnion\",\"Bitcore\",\"gCn Coin\",\"SmartCash\",\"Signatum\",\"Onix\",\"Cream\",\"Bitcoin Cash\",\"Monoeci\",\"Draftcoin\",\"Vechain\",\"Sojourn Coin\",\"Stakecoin\",\"NewYorkCoin\",\"FrazCoin\",\"Kronecoin\",\"AdCoin\",\"Linx\",\"CoinonatX\",\"Ethereum Dark\",\"Sumokoin\",\"Obsidian\",\"Cardano\",\"Regalcoin\",\"BitcoinZ\",\"TrezarCoin\",\"Elements\",\"TerraNovaCoin\",\"VIVO Coin\",\"Rupee\",\"Bitcoin Gold\",\"WomenCoin\",\"Theresa May Coin\",\"NamoCoin\",\"LUXCoin\",\"Pirl\",\"Xios\",\"Bitcloud 2.0\",\"eBoost\",\"KekCoin\",\"BlackholeCoin\",\"Infinity Economics\",\"Pura\",\"Innova\",\"Ellaism\",\"GoByte\",\"Magnet\",\"Lamden Tau\",\"Electra\",\"Bitcoin Diamond\",\"SHIELD\",\"Cash & Back Coin\",\"UltraNote\",\"BitCoal\",\"DaxxCoin\",\"Bulwark\",\"Kalkulus\",\"AC3\",\"Lethean\",\"GermanCoin\",\"LiteCoin Ultra\",\"PopularCoin\",\"PhantomX\",\"Photon\",\"Sucre\",\"SparksPay\",\"Digiwage\",\"GunCoin\",\"IrishCoin\",\"Trollcoin\",\"Litecoin Plus\",\"Monkey Project\",\"Pioneer Coin\",\"UnitedBitcoin\",\"Interzone\",\"TokenPay\",\"1717 Masonic Commemorative Token\",\"My Big Coin\",\"TurtleCoin\",\"MUNcoin\",\"Unified Society USDEX\",\"Niobio Cash\",\"ShareChain\",\"Travelflex\",\"KREDS\",\"Tokyo Coin\",\"BiblePay\",\"LitecoinCash\",\"BitFlip\",\"LottoCoin\",\"Crypto Improvement Fund\",\"Stipend\",\"Poa Network\",\"Pushi\",\"Ellerium\",\"Velox\",\"Ontology\",\"Callisto Network\",\"BitTube\",\"Poseidon\",\"Aidos Kuneen\",\"Bitspace\",\"Briacoin\",\"Ignition\",\"Bitrolium\",\"MedicCoin\",\"Alpenschillling\",\"Bitcoin Green\",\"Deviant Coin\",\"Abjcoin\",\"Semux\",\"FuturoCoin\",\"Carebit\",\"Zealium\",\"Monero Classic\",\"Proton\",\"iDealCash\",\"Jumpcoin\",\"Infinex\",\"Bitcoin Incognito\",\"KEYCO\",\"HollyWoodCoin\",\"GINcoin\",\"PlatinCoin\",\"Loki\",\"Newton Coin\",\"Swisscoin\",\"Xt3ch\",\"MassGrid\",\"TheVig\",\"PluraCoin\",\"EmaratCoin\",\"Dekado\",\"Lynx\",\"Poseidon Quark\",\"BitcoinWSpectrum\",\"Muse\",\"Motion\",\"PlusOneCoin\",\"Axe\",\"Trivechain\",\"Dystem\",\"Giant\",\"Peony Coin\",\"Absolute Coin\",\"Vitae\",\"HexCoin\",\"TPCash\",\"Webchain\",\"Ryo\",\"Urals Coin\",\"Qwertycoin\",\"ARENON\",\"EUNO\",\"MMOCoin\",\"Ketan\",\"Project Pai\",\"XDNA\",\"PAXEX\",\"Azart\",\"ThunderStake\",\"Kcash\",\"Xchange\",\"Acute Angle Cloud\",\"CrypticCoin\",\"Bettex coin\",\"Actinium\",\"Bitcoin SV\",\"BitMoney\",\"Junson Ming Chan Coin\",\"FREDEnergy\",\"HerbCoin\",\"Universal Molecule\",\"Lithium\",\"PirateCash\",\"Exosis\",\"Block-Logic\",\"Oduwa\",\"Beam\",\"Galilel\",\"Bithereum\",\"Crypto Sports\",\"Credit\",\"SLICE\",\"Dash Platinum\",\"Nasdacoin\",\"Beetle Coin\",\"Titan Coin\",\"Award\",\"BLAST\",\"Bitcoin Rhodium\",\"GlobalToken\",\"Insane Coin\",\"ALAX\",\"LiteDoge\",\"SolarCoin\",\"TruckCoin\",\"UFO Coin\",\"OrangeCoin\",\"BlakeCoin\",\"BitstarCoin\",\"NeosCoin\",\"HyperCoin\",\"PinkCoin\",\"Crypto Escudo\",\"AudioCoin\",\"IncaKoin\",\"Piggy Coin\",\"Crown Coin\",\"Genstake\",\"SmileyCoin\",\"XiaoMiCoin\",\"Groestlcoin\",\"CapriCoin\",\" ClubCoin\",\"Radium\",\"Bata\",\"Pakcoin\",\"Creditbit \",\"OKCash\",\"Lisk\",\"HiCoin\",\"WhiteCoin\",\"FriendshipCoin\",\"Fiii\",\"JoinCoin\",\"Triangles Coin\",\"Vollar\",\"EOS\",\"Reality Clash\",\"Oxycoin\",\"TigerCash\",\"Waves\",\"Particl\",\"BitTorrent\",\"Nxt\",\"ZEPHYR\",\"Gapcoin\",\"Beldex\",\"Horizen\",\"BitcoinPlus\"],\"ProofType\":[\"PoW/PoS\",\"PoW/PoS\",\"PoW/PoS\",\"PoW\",\"PoW\",\"PoW\",\"PoW/PoS\",\"PoW\",\"PoW\",\"PoW\",\"PoS\",\"PoW\",\"PoW/PoS\",\"PoS\",\"PoW\",\"PoW/PoS\",\"PoW\",\"PoW\",\"PoW/PoS\",\"PoW/PoS\",\"PoW\",\"PoW\",\"PoW\",\"PoW\",\"PoW\",\"PoW/PoS\",\"PoW\",\"PoW\",\"PoW\",\"PoW/PoS\",\"PoW\",\"PoW/PoS\",\"PoW\",\"PoW\",\"PoC\",\"PoW/PoS\",\"PoW\",\"PoW\",\"PoW\",\"PoW\",\"PoW\",\"PoW\",\"PoS\",\"PoS/PoW/PoT\",\"PoW\",\"PoW\",\"PoW\",\"PoW\",\"PoW\",\"PoW/PoS\",\"PoS\",\"PoW\",\"PoW/PoS\",\"PoW\",\"PoW\",\"PoW\",\"PoW\",\"PoW/PoS\",\"PoW\",\"PoW\",\"PoS\",\"PoW\",\"PoW/PoS\",\"PoS\",\"PoW/PoS\",\"PoW\",\"PoW\",\"PoW\",\"PoW/PoS\",\"PoW/PoS\",\"PoW/PoS\",\"PoW/PoS\",\"PoW/PoS\",\"PoW\",\"PoW\",\"PoW\",\"PoS\",\"PoW/PoS\",\"PoW\",\"PoS\",\"PoW\",\"PoS\",\"PoW/PoS\",\"PoW\",\"PoW\",\"PoW\",\"PoW\",\"PoW/PoS\",\"PoW/PoS\",\"PoW\",\"PoST\",\"PoW\",\"PoW\",\"PoW/PoS\",\"PoS\",\"PoW\",\"PoW/PoS\",\"PoW/PoS\",\"PoW\",\"PoW\",\"PoC\",\"PoS\",\"PoW\",\"PoW/PoS\",\"PoW/PoS\",\"PoW\",\"PoS\",\"PoW\",\"PoW/PoS\",\"PoW\",\"PoS\",\"PoW\",\"PoW/PoS\",\"PoW/PoS\",\"PoW\",\"PoW\",\"PoS\",\"PoW\",\"PoW\",\"PoW\",\"PoW/PoS\",\"PoW\",\"PoW\",\"PoW\",\"PoW\",\"PoW\",\"PoW/PoS\",\"PoW/nPoS\",\"PoW\",\"PoW\",\"PoW\",\"PoW/PoS\",\"PoW\",\"PoS/PoW\",\"PoW\",\"PoW\",\"PoS\",\"PoW\",\"PoW/PoS\",\"PoW\",\"PoW/PoS\",\"PoW/PoS\",\"PoW\",\"PoW\",\"PoW/PoS\",\"PoW\",\"PoW\",\"PoW/PoS\",\"PoW/PoS\",\"PoW\",\"PoW/PoS\",\"PoW\",\"PoW/PoS\",\"PoW/PoS\",\"PoS\",\"PoW\",\"PoW\",\"PoW\",\"PoW\",\"PoW/PoS\",\"PoS\",\"PoW/PoS\",\"PoC\",\"PoS\",\"PoW\",\"PoW\",\"PoW/PoS\",\"PoW/PoS\",\"PoW/PoS\",\"PoW/PoS\",\"PoW/PoS\",\"PoW\",\"PoS\",\"PoW/PoS\",\"PoW/PoS\",\"PoW/PoS\",\"PoS\",\"PoW\",\"PoS\",\"dPoW/PoW\",\"PoW/PoS\",\"PoW/PoS\",\"PoW\",\"PoW/PoS\",\"PoW\",\"PoW/PoS\",\"PoW/PoS\",\"PoW\",\"PoW/PoS\",\"PoW\",\"PoS\",\"PoW\",\"PoW/PoW\",\"PoW\",\"PoW/PoS\",\"PoS\",\"PoW/PoS\",\"PoW/PoS\",\"PoW\",\"PoS\",\"PoS\",\"PoW/PoS\",\"PoS\",\"PoW/PoS\",\"PoW\",\"PoW\",\"DPoS\",\"PoW/PoS\",\"PoW\",\"PoW\",\"PoW/PoS\",\"PoW/PoS\",\"PoS\",\"PoW/PoS\",\"PoW/PoS\",\"PoW\",\"PoS\",\"PoW/PoS\",\"PoW/PoS\",\"PoW/PoS\",\"TPoS\",\"PoW/PoS\",\"PoW/PoS\",\"PoW/PoS\",\"PoW\",\"PoW/PoS\",\"PoS\",\"PoW/PoS\",\"PoW/PoS\",\"PoS\",\"PoW/PoS\",\"PoW\",\"PoW\",\"PoW\",\"PoW/PoS\",\"PoW/PoS\",\"PoW/PoS\",\"PoW/PoS\",\"PoW\",\"PoW/PoS\",\"PoW\",\"PoS\",\"PoW/PoS \",\"PoW\",\"PoS\",\"PoW\",\"PoW\",\"PoW/PoS\",\"PoW\",\"PoW\",\"PoS\",\"PoW\",\"PoW/PoS\",\"PoW/PoS\",\"PoW/PoS\",\"PoW\",\"PoS\",\"PoW/PoS\",\"PoW\",\"PoS\",\"PoW/PoS\",\"PoW/PoS\",\"PoW/PoS\",\"PoW/PoS\",\"PoS\",\"PoW/PoS\",\"PoW\",\"PoS\",\"PoW\",\"PoS\",\"PoW/PoS\",\"PoW/PoS\",\"PoS\",\"PoW\",\"PoS\",\"PoW\",\"PoW/PoS\",\"PoW\",\"PoW\",\"PoW\",\"PoW\",\"PoW/PoS\",\"PoW\",\"PoW/PoS\",\"PoW/PoS\",\"PoW\",\"PoW/PoS\",\"PoW\",\"PoW\",\"PoW\",\"PoW/PoS\",\"PoW\",\"PoW/PoS\",\"PoW\",\"PoW\",\"PoW\",\"PoS\",\"PoW\",\"PoW/PoS\",\"PoW\",\"PoW/PoS\",\"PoS\",\"Proof of Authority\",\"PoW\",\"PoS\",\"PoW\",\"PoW\",\"PoW\",\"PoW\",\"PoW\",\"PoW/PoS\",\"PoW/PoS\",\"PoW\",\"PoS\",\"PoS\",\"PoW/PoS\",\"PoW\",\"PoW/PoS\",\"PoW\",\"PoW/PoS\",\"PoW\",\"PoS\",\"PoW\",\"PoW/PoS\",\"PoW/PoS\",\"PoW/PoS\",\"PoW/PoS\",\"PoW\",\"PoW/PoS\",\"PoW/PoS\",\"PoW\",\"PoS\",\"PoW/PoS\",\"PoS\",\"PoW\",\"PoW\",\"PoW\",\"PoW\",\"PoW/PoS\",\"DPoS\",\"PoW/PoS\",\"PoW/PoS\",\"PoW\",\"PoW/PoS\",\"PoW\",\"PoW\",\"PoW\",\"PoS\",\"PoS\",\"PoW\",\"PoW\",\"PoW/PoS\",\"PoW/PoS\",\"PoW\",\"PoW/PoS\",\"PoW\",\"PoW\",\"PoW\",\"PoS\",\"PoW\",\"PoW\",\"PoW/PoS\",\"PoW/PoS\",\"PoS\",\"PoW\",\"PoW\",\"PoW\",\"PoS\",\"PoS\",\"PoW and PoS\",\"PoW\",\"PoW\",\"PoW/PoS\",\"PoW\",\"PoW\",\"PoW\",\"PoW\",\"PoS\",\"POBh\",\"PoW + Hive\",\"PoW\",\"PoW\",\"PoW\",\"PoW/PoS\",\"PoA\",\"PoW/PoS\",\"PoW/PoS\",\"PoS\",\"PoS\",\"PoW\",\"PoW\",\"PoW\",\"PoW\",\"PoW/PoS\",\"PoW/PoS\",\"PoW/PoS\",\"PoW\",\"PoS\",\"PoW\",\"PoS\",\"PoS\",\"PoW/PoS\",\"DPoS\",\"PoW\",\"PoW/PoS\",\"PoS\",\"PoW\",\"PoS\",\"PoW/PoS\",\"PoW\",\"PoW\",\"PoS/PoW\",\"PoW\",\"PoS\",\"PoW\",\"PoW\",\"PoW\",\"PoW\",\"PoW/PoS\",\"PoS\",\"PoW\",\"PoW/PoS\",\"PoW\",\"PoW/PoS\",\"PoS\",\"HPoW\",\"PoS\",\"PoS\",\"PoS\",\"PoW\",\"PoW\",\"PoW\",\"PoW/PoS\",\"PoS\",\"PoW/PoS\",\"PoS\",\"PoW/PoS\",\"PoS\",\"PoW\",\"PoW/PoS\",\"PoW\",\"PoW\",\"PoW\",\"PoW\",\"PoS\",\"PoW/PoS\",\"PoS\",\"PoS\",\"PoW\",\"PoW/PoS\",\"PoS\",\"PoW\",\"PoW/PoS\",\"Zero-Knowledge Proof\",\"PoW\",\"DPOS\",\"PoW\",\"PoS\",\"PoW\",\"PoW\",\"Pos\",\"PoS\",\"PoW\",\"PoW/PoS\",\"PoW\",\"PoW\",\"PoS\",\"PoW\",\"PoW\",\"PoW/PoS\",\"PoW\",\"PoW/PoS\",\"PoW\",\"PoS\",\"PoW/PoS\",\"PoW\",\"PoS\",\"PoW/PoS\",\"PoW/PoS\",\"PoW/PoS\",\"PoW/PoS\",\"PoW\",\"PoW\",\"PoW\",\"PoW/PoS\",\"DPoS\",\"PoW/PoS\",\"PoW\",\"PoW/PoS\",\"PoW\",\"PoW/PoS\",\"PoW\",\"PoW/PoS\",\"PoS\",\"PoW/PoS\",\"PoW/PoS\",\"PoW\",\"PoW/PoS\",\"PoW/PoS\",\"PoW/PoS\",\"PoW\",\"PoW/PoS\",\"PoW\",\"PoW/PoS\",\"PoW\",\"PoW/PoS\",\"PoW/PoS\",\"PoS\",\"PoW\",\"PoW\",\"Proof of Trust\",\"PoW/PoS\",\"DPoS\",\"PoS\",\"PoW/PoS\",\"PoW/PoS\",\"DPoC\",\"PoW\",\"PoW/PoS\",\"PoW\",\"DPoS\",\"PoW\",\"DPoS\",\"PoS\",\"LPoS\",\"PoS\",\"DPoS\",\"PoS/LPoS\",\"DPoS\",\"PoW/PoS\",\"PoW\",\"PoW\",\"PoS\"],\"TotalCoinSupply\":{\"__ndarray__\":\"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\",\"dtype\":\"float64\",\"order\":\"little\",\"shape\":[533]},\"TotalCoinsMined\":{\"__ndarray__\":\"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\",\"dtype\":\"float64\",\"order\":\"little\",\"shape\":[533]},\"class\":{\"__ndarray__\":\"AAAAAAAAAAAEAAAAAQAAAAEAAAABAAAAAAAAAAEAAAABAAAAAQAAAAAAAAABAAAAAAAAAAAAAAABAAAAAAAAAAEAAAABAAAAAAAAAAAAAAABAAAABAAAAAEAAAABAAAAAQAAAAAAAAABAAAAAQAAAAEAAAAAAAAAAQAAAAAAAAABAAAAAQAAAAAAAAAAAAAAAQAAAAEAAAABAAAAAQAAAAEAAAABAAAAAAAAAAAAAAABAAAAAQAAAAEAAAABAAAAAQAAAAAAAAAAAAAAAQAAAAAAAAABAAAAAQAAAAEAAAABAAAAAAAAAAEAAAABAAAAAAAAAAEAAAAAAAAAAAAAAAAAAAABAAAAAQAAAAEAAAAAAAAAAAAAAAAAAAAAAAAAAAAAAAEAAAABAAAAAQAAAAAAAAAAAAAAAQAAAAAAAAABAAAAAAAAAAAAAAABAAAAAQAAAAEAAAABAAAAAAAAAAAAAAABAAAAAAAAAAEAAAABAAAAAAAAAAAAAAABAAAAAAAAAAAAAAAEAAAAAQAAAAAAAAAAAAAAAQAAAAAAAAAAAAAAAQAAAAAAAAABAAAAAAAAAAEAAAAAAAAAAQAAAAAAAAAAAAAAAQAAAAEAAAAAAAAAAQAAAAEAAAABAAAAAAAAAAEAAAABAAAAAQAAAAEAAAABAAAAAAAAAAAAAAABAAAAAQAAAAEAAAAAAAAAAQAAAAAAAAABAAAAAQAAAAAAAAABAAAAAAAAAAEAAAAAAAAAAAAAAAEAAAABAAAAAAAAAAEAAAABAAAAAAAAAAAAAAABAAAAAAAAAAEAAAAAAAAAAAAAAAAAAAABAAAAAQAAAAEAAAABAAAAAAAAAAAAAAAAAAAAAAAAAAAAAAABAAAAAQAAAAAAAAAAAAAAAAAAAAAAAAAAAAAAAQAAAAAAAAAAAAAAAAAAAAAAAAAAAAAAAQAAAAAAAAABAAAAAAAAAAAAAAABAAAAAAAAAAEAAAAAAAAAAAAAAAEAAAAAAAAAAQAAAAAAAAABAAAAAAAAAAEAAAAAAAAAAAAAAAAAAAAAAAAAAQAAAAAAAAAAAAAAAAAAAAAAAAAAAAAAAQAAAAEAAAAEAAAAAAAAAAEAAAABAAAAAAAAAAAAAAAAAAAAAAAAAAAAAAABAAAAAAAAAAAAAAAAAAAAAAAAAAAAAAAAAAAAAAAAAAAAAAABAAAAAAAAAAAAAAAAAAAAAAAAAAAAAAAAAAAAAQAAAAEAAAABAAAAAAAAAAAAAAAAAAAAAAAAAAEAAAAAAAAAAQAAAAAAAAAAAAAAAQAAAAAAAAABAAAAAQAAAAAAAAABAAAAAQAAAAAAAAABAAAAAAAAAAAAAAAAAAAAAQAAAAAAAAAAAAAAAQAAAAAAAAAAAAAAAAAAAAAAAAAAAAAAAAAAAAAAAAABAAAAAAAAAAEAAAAAAAAAAAAAAAAAAAAAAAAAAQAAAAAAAAABAAAAAAAAAAEAAAABAAAAAQAAAAEAAAAAAAAAAQAAAAAAAAAAAAAAAQAAAAAAAAABAAAAAQAAAAEAAAAAAAAAAQAAAAAAAAABAAAABAAAAAEAAAAAAAAAAQAAAAAAAAABAAAAAAAAAAAAAAAEAAAAAQAAAAAAAAABAAAAAQAAAAEAAAABAAAAAQAAAAAAAAAAAAAAAQAAAAAAAAAAAAAAAAAAAAEAAAAAAAAAAQAAAAAAAAABAAAAAAAAAAEAAAAAAAAAAAAAAAAAAAAAAAAAAQAAAAAAAAAAAAAAAQAAAAAAAAAAAAAAAAAAAAEAAAABAAAAAQAAAAEAAAAAAAAABAAAAAAAAAAAAAAAAQAAAAAAAAABAAAAAQAAAAEAAAAAAAAAAAAAAAEAAAABAAAAAAAAAAAAAAABAAAAAAAAAAEAAAABAAAAAQAAAAAAAAABAAAAAQAAAAAAAAAAAAAAAAAAAAEAAAABAAAAAQAAAAAAAAAAAAAAAAAAAAQAAAABAAAAAAAAAAEAAAABAAAAAQAAAAEAAAAAAAAAAwAAAAAAAAABAAAAAQAAAAEAAAAAAAAAAAAAAAAAAAAAAAAAAAAAAAAAAAABAAAAAQAAAAEAAAABAAAAAAAAAAAAAAAAAAAAAQAAAAAAAAABAAAAAAAAAAAAAAAAAAAABAAAAAEAAAAAAAAAAAAAAAEAAAAAAAAAAAAAAAEAAAABAAAAAAAAAAEAAAAAAAAAAQAAAAEAAAABAAAAAQAAAAAAAAAAAAAAAQAAAAAAAAABAAAAAAAAAAAAAAAEAAAAAAAAAAAAAAAAAAAAAQAAAAEAAAABAAAAAAAAAAAAAAAAAAAAAAAAAAAAAAAAAAAAAQAAAAAAAAABAAAAAQAAAAEAAAAEAAAAAAAAAAAAAAAAAAAAAAAAAAEAAAAAAAAAAAAAAAEAAAAAAAAAAAAAAAEAAAADAAAAAQAAAAAAAAABAAAAAQAAAAAAAAAAAAAAAQAAAAAAAAABAAAAAQAAAAEAAAABAAAAAQAAAAAAAAABAAAAAAAAAAEAAAAAAAAAAAAAAAEAAAAAAAAAAAAAAAAAAAAAAAAAAAAAAAEAAAABAAAAAQAAAAAAAAAEAAAAAAAAAAEAAAAAAAAAAQAAAAAAAAABAAAAAAAAAAAAAAAAAAAAAAAAAAEAAAAAAAAAAAAAAAAAAAABAAAAAAAAAAEAAAAAAAAAAQAAAAAAAAAAAAAAAAAAAAEAAAABAAAAAAAAAAAAAAAEAAAAAAAAAAAAAAAAAAAAAwAAAAEAAAAAAAAAAQAAAAQAAAABAAAABAAAAAAAAAAAAAAAAAAAAAIAAAAAAAAABAAAAAAAAAABAAAAAQAAAAAAAAA=\",\"dtype\":\"int32\",\"order\":\"little\",\"shape\":[533]}},\"selected\":{\"id\":\"1679\"},\"selection_policy\":{\"id\":\"1713\"}},\"id\":\"1678\",\"type\":\"ColumnDataSource\"},{\"attributes\":{\"editor\":{\"id\":\"1691\"},\"field\":\"ProofType\",\"formatter\":{\"id\":\"1690\"},\"title\":\"ProofType\"},\"id\":\"1692\",\"type\":\"TableColumn\"},{\"attributes\":{},\"id\":\"1690\",\"type\":\"StringFormatter\"},{\"attributes\":{\"source\":{\"id\":\"1678\"}},\"id\":\"1711\",\"type\":\"CDSView\"},{\"attributes\":{\"children\":[{\"id\":\"1677\"},{\"id\":\"1710\"},{\"id\":\"1716\"}],\"margin\":[0,0,0,0],\"name\":\"Row03154\",\"tags\":[\"embedded\"]},\"id\":\"1676\",\"type\":\"Row\"},{\"attributes\":{},\"id\":\"1713\",\"type\":\"UnionRenderers\"},{\"attributes\":{},\"id\":\"1701\",\"type\":\"NumberEditor\"},{\"attributes\":{\"margin\":[5,5,5,5],\"name\":\"HSpacer03158\",\"sizing_mode\":\"stretch_width\"},\"id\":\"1677\",\"type\":\"Spacer\"},{\"attributes\":{},\"id\":\"1686\",\"type\":\"StringEditor\"},{\"attributes\":{},\"id\":\"1681\",\"type\":\"StringEditor\"},{\"attributes\":{},\"id\":\"1691\",\"type\":\"StringEditor\"},{\"attributes\":{},\"id\":\"1705\",\"type\":\"NumberFormatter\"},{\"attributes\":{\"format\":\"0,0.0[00000]\"},\"id\":\"1700\",\"type\":\"NumberFormatter\"},{\"attributes\":{\"editor\":{\"id\":\"1681\"},\"field\":\"CoinName\",\"formatter\":{\"id\":\"1680\"},\"title\":\"CoinName\"},\"id\":\"1682\",\"type\":\"TableColumn\"},{\"attributes\":{\"editor\":{\"id\":\"1686\"},\"field\":\"Algorithm\",\"formatter\":{\"id\":\"1685\"},\"title\":\"Algorithm\"},\"id\":\"1687\",\"type\":\"TableColumn\"},{\"attributes\":{},\"id\":\"1680\",\"type\":\"StringFormatter\"},{\"attributes\":{\"editor\":{\"id\":\"1706\"},\"field\":\"class\",\"formatter\":{\"id\":\"1705\"},\"title\":\"class\"},\"id\":\"1707\",\"type\":\"TableColumn\"},{\"attributes\":{\"format\":\"0,0.0[00000]\"},\"id\":\"1695\",\"type\":\"NumberFormatter\"},{\"attributes\":{\"editor\":{\"id\":\"1696\"},\"field\":\"TotalCoinSupply\",\"formatter\":{\"id\":\"1695\"},\"title\":\"TotalCoinSupply\"},\"id\":\"1697\",\"type\":\"TableColumn\"},{\"attributes\":{\"margin\":[5,5,5,5],\"name\":\"HSpacer03159\",\"sizing_mode\":\"stretch_width\"},\"id\":\"1716\",\"type\":\"Spacer\"}],\"root_ids\":[\"1676\"]},\"title\":\"Bokeh Application\",\"version\":\"2.1.1\"}};\n  var render_items = [{\"docid\":\"34000d5b-f471-4ab8-a97f-7ca24e99ca4e\",\"root_ids\":[\"1676\"],\"roots\":{\"1676\":\"bed47448-e9a2-418b-9b14-d9cfb1c82d79\"}}];\n  root.Bokeh.embed.embed_items_notebook(docs_json, render_items);\n  }\nif (root.Bokeh !== undefined) {\n    embed_document(root);\n  } else {\n    var attempts = 0;\n    var timer = setInterval(function(root) {\n      if (root.Bokeh !== undefined) {\n        clearInterval(timer);\n        embed_document(root);\n      } else if (document.readyState == \"complete\") {\n        attempts++;\n        if (attempts > 100) {\n          clearInterval(timer);\n          console.log(\"Bokeh: ERROR: Unable to run BokehJS code because BokehJS library is missing\");\n        }\n      }\n    }, 10, root)\n  }\n})(window);</script>",
      "application/vnd.holoviews_exec.v0+json": "",
      "text/plain": [
       ":Table   [CoinName,Algorithm,ProofType,TotalCoinSupply,TotalCoinsMined,class]"
      ]
     },
     "metadata": {
      "application/vnd.holoviews_exec.v0+json": {
       "id": "1676"
      }
     },
     "execution_count": 90
    }
   ],
   "source": [
    "# Table with tradable cryptos\n",
    "clustered_table = clustered_df.hvplot.table(columns = ['CoinName', 'Algorithm', 'ProofType', 'TotalCoinSupply', 'TotalCoinsMined', 'class'], sortable = True, selectable = True)\n",
    "\n",
    "clustered_table"
   ]
  },
  {
   "cell_type": "code",
   "execution_count": 84,
   "metadata": {},
   "outputs": [
    {
     "output_type": "stream",
     "name": "stdout",
     "text": [
      "532\n"
     ]
    }
   ],
   "source": [
    "# Print the total number of tradable cryptocurrencies\n",
    "print(len(clustered_df['CoinName'].unique()))"
   ]
  },
  {
   "cell_type": "markdown",
   "metadata": {},
   "source": [
    "#### Scatter Plot with Tradable Cryptocurrencies"
   ]
  },
  {
   "cell_type": "code",
   "execution_count": 115,
   "metadata": {},
   "outputs": [],
   "source": [
    "# Scale data to create the scatter plot\n",
    "clustered_df['TotalCoinsMined'] = clustered_df['TotalCoinsMined'] / 1000000000\n",
    "clustered_df['TotalCoinSupply'] = clustered_df['TotalCoinSupply'] / 1000000000"
   ]
  },
  {
   "cell_type": "code",
   "execution_count": 123,
   "metadata": {},
   "outputs": [
    {
     "output_type": "execute_result",
     "data": {
      "text/html": "<div id='3978'>\n\n\n\n\n\n  <div class=\"bk-root\" id=\"9c20b296-39c0-47aa-ad6e-23d559053660\" data-root-id=\"3978\"></div>\n</div>\n<script type=\"application/javascript\">(function(root) {\n  function embed_document(root) {\n  var docs_json = {\"10dbfdcf-bb9c-4975-9cc3-afb6a54e6309\":{\"roots\":{\"references\":[{\"attributes\":{\"click_policy\":\"mute\",\"items\":[{\"id\":\"4038\"},{\"id\":\"4057\"},{\"id\":\"4078\"},{\"id\":\"4101\"},{\"id\":\"4126\"}],\"location\":[0,0],\"title\":\"class\"},\"id\":\"4037\",\"type\":\"Legend\"},{\"attributes\":{},\"id\":\"4004\",\"type\":\"SaveTool\"},{\"attributes\":{\"bottom_units\":\"screen\",\"fill_alpha\":0.5,\"fill_color\":\"lightgrey\",\"left_units\":\"screen\",\"level\":\"overlay\",\"line_alpha\":1.0,\"line_color\":\"black\",\"line_dash\":[4,4],\"line_width\":2,\"right_units\":\"screen\",\"top_units\":\"screen\"},\"id\":\"4009\",\"type\":\"BoxAnnotation\"},{\"attributes\":{\"fill_alpha\":{\"value\":0.1},\"fill_color\":{\"value\":\"#d62628\"},\"line_alpha\":{\"value\":0.1},\"line_color\":{\"value\":\"#d62628\"},\"size\":{\"units\":\"screen\",\"value\":5.477225575051661},\"x\":{\"field\":\"TotalCoinsMined\"},\"y\":{\"field\":\"TotalCoinSupply\"}},\"id\":\"4083\",\"type\":\"Scatter\"},{\"attributes\":{},\"id\":\"4100\",\"type\":\"UnionRenderers\"},{\"attributes\":{\"data\":{\"CoinName\":[\"42 Coin\",\"404Coin\",\"Dash\",\"Bitshares\",\"BitcoinDark\",\"PayCoin\",\"KoboCoin\",\"Aurora Coin\",\"BlueCoin\",\"EnergyCoin\",\"BitBar\",\"CryptoBullion\",\"CasinoCoin\",\"Diamond\",\"Exclusive Coin\",\"FlutterCoin\",\"HoboNickels\",\"HyperStake\",\"IOCoin\",\"MaxCoin\",\"MintCoin\",\"MazaCoin\",\"Nautilus Coin\",\"NavCoin\",\"OpalCoin\",\"Orbitcoin\",\"PotCoin\",\"PhoenixCoin\",\"Reddcoin\",\"SuperCoin\",\"SyncCoin\",\"TeslaCoin\",\"TittieCoin\",\"TorCoin\",\"UnitaryStatus Dollar\",\"UltraCoin\",\"VeriCoin\",\"X11 Coin\",\"Crypti\",\"StealthCoin\",\"ZCC Coin\",\"BurstCoin\",\"StorjCoin\",\"Neutron\",\"FairCoin\",\"RubyCoin\",\"Kore\",\"Dnotes\",\"8BIT Coin\",\"Sativa Coin\",\"Ucoin\",\"Vtorrent\",\"IslaCoin\",\"Nexus\",\"Droidz\",\"Squall Coin\",\"Diggits\",\"Paycon\",\"Emercoin\",\"EverGreenCoin\",\"Decred\",\"EDRCoin\",\"Hitcoin\",\"DubaiCoin\",\"PWR Coin\",\"BillaryCoin\",\"GPU Coin\",\"EuropeCoin\",\"ZeitCoin\",\"SwingCoin\",\"SafeExchangeCoin\",\"Nebuchadnezzar\",\"Ratecoin\",\"Revenu\",\"Clockcoin\",\"VIP Tokens\",\"BitSend\",\"Let it Ride\",\"PutinCoin\",\"iBankCoin\",\"Frankywillcoin\",\"MudraCoin\",\"Lutetium Coin\",\"GoldBlocks\",\"CarterCoin\",\"BitTokens\",\"MustangCoin\",\"ZoneCoin\",\"RootCoin\",\"BitCurrency\",\"Swiscoin\",\"BuzzCoin\",\"Opair\",\"PesoBit\",\"Halloween Coin\",\"CoffeeCoin\",\"RoyalCoin\",\"GanjaCoin V2\",\"TeamUP\",\"LanaCoin\",\"InsaneCoin\",\"EmberCoin\",\"XenixCoin\",\"FreeCoin\",\"PLNCoin\",\"AquariusCoin\",\"Creatio\",\"Eternity\",\"Eurocoin\",\"BitcoinFast\",\"Stakenet\",\"BitConnect Coin\",\"MoneyCoin\",\"Enigma\",\"Russiacoin\",\"PandaCoin\",\"GameUnits\",\"GAKHcoin\",\"Allsafe\",\"LiteCreed\",\"Klingon Empire Darsek\",\"Internet of People\",\"KushCoin\",\"Printerium\",\"Impeach\",\"Zilbercoin\",\"FirstCoin\",\"FindCoin\",\"OpenChat\",\"RenosCoin\",\"VirtacoinPlus\",\"TajCoin\",\"Impact\",\"Atmos\",\"HappyCoin\",\"MacronCoin\",\"Condensate\",\"Independent Money System\",\"ArgusCoin\",\"LomoCoin\",\"ProCurrency\",\"GoldReserve\",\"GrowthCoin\",\"Phreak\",\"Degas Coin\",\"HTML5 Coin\",\"Ultimate Secure Cash\",\"QTUM\",\"Espers\",\"Denarius\",\"Virta Unique Coin\",\"Bitcoin Planet\",\"BritCoin\",\"Linda\",\"DeepOnion\",\"Signatum\",\"Cream\",\"Monoeci\",\"Draftcoin\",\"Stakecoin\",\"CoinonatX\",\"Ethereum Dark\",\"Obsidian\",\"Cardano\",\"Regalcoin\",\"TrezarCoin\",\"TerraNovaCoin\",\"Rupee\",\"WomenCoin\",\"Theresa May Coin\",\"NamoCoin\",\"LUXCoin\",\"Xios\",\"Bitcloud 2.0\",\"KekCoin\",\"BlackholeCoin\",\"Infinity Economics\",\"Magnet\",\"Electra\",\"Bitcoin Diamond\",\"Cash & Back Coin\",\"Bulwark\",\"Kalkulus\",\"GermanCoin\",\"LiteCoin Ultra\",\"PhantomX\",\"Digiwage\",\"Trollcoin\",\"Litecoin Plus\",\"Monkey Project\",\"TokenPay\",\"1717 Masonic Commemorative Token\",\"My Big Coin\",\"Unified Society USDEX\",\"Tokyo Coin\",\"LitecoinCash\",\"Stipend\",\"Poa Network\",\"Pushi\",\"Ellerium\",\"Velox\",\"Ontology\",\"Bitspace\",\"Briacoin\",\"Ignition\",\"MedicCoin\",\"Bitcoin Green\",\"Deviant Coin\",\"Abjcoin\",\"Carebit\",\"Zealium\",\"Proton\",\"iDealCash\",\"Bitcoin Incognito\",\"HollyWoodCoin\",\"Swisscoin\",\"Xt3ch\",\"TheVig\",\"EmaratCoin\",\"Dekado\",\"Poseidon Quark\",\"BitcoinWSpectrum\",\"Muse\",\"Trivechain\",\"Dystem\",\"Giant\",\"Peony Coin\",\"Absolute Coin\",\"Vitae\",\"TPCash\",\"ARENON\",\"EUNO\",\"MMOCoin\",\"Ketan\",\"XDNA\",\"PAXEX\",\"ThunderStake\",\"Kcash\",\"Bettex coin\",\"BitMoney\",\"Junson Ming Chan Coin\",\"HerbCoin\",\"Oduwa\",\"Galilel\",\"Crypto Sports\",\"Credit\",\"Dash Platinum\",\"Nasdacoin\",\"Beetle Coin\",\"Titan Coin\",\"Award\",\"Insane Coin\",\"LiteDoge\",\"TruckCoin\",\"OrangeCoin\",\"BitstarCoin\",\"NeosCoin\",\"HyperCoin\",\"PinkCoin\",\"AudioCoin\",\"IncaKoin\",\"Piggy Coin\",\"Genstake\",\"XiaoMiCoin\",\"CapriCoin\",\" ClubCoin\",\"Radium\",\"Creditbit \",\"OKCash\",\"HiCoin\",\"WhiteCoin\",\"FriendshipCoin\",\"Triangles Coin\",\"TigerCash\",\"Waves\",\"Particl\",\"Nxt\",\"Gapcoin\",\"BitcoinPlus\"],\"TotalCoinSupply\":{\"__ndarray__\":\"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\",\"dtype\":\"float64\",\"order\":\"little\",\"shape\":[279]},\"TotalCoinsMined\":{\"__ndarray__\":\"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\",\"dtype\":\"float64\",\"order\":\"little\",\"shape\":[279]},\"class\":[0,0,0,0,0,0,0,0,0,0,0,0,0,0,0,0,0,0,0,0,0,0,0,0,0,0,0,0,0,0,0,0,0,0,0,0,0,0,0,0,0,0,0,0,0,0,0,0,0,0,0,0,0,0,0,0,0,0,0,0,0,0,0,0,0,0,0,0,0,0,0,0,0,0,0,0,0,0,0,0,0,0,0,0,0,0,0,0,0,0,0,0,0,0,0,0,0,0,0,0,0,0,0,0,0,0,0,0,0,0,0,0,0,0,0,0,0,0,0,0,0,0,0,0,0,0,0,0,0,0,0,0,0,0,0,0,0,0,0,0,0,0,0,0,0,0,0,0,0,0,0,0,0,0,0,0,0,0,0,0,0,0,0,0,0,0,0,0,0,0,0,0,0,0,0,0,0,0,0,0,0,0,0,0,0,0,0,0,0,0,0,0,0,0,0,0,0,0,0,0,0,0,0,0,0,0,0,0,0,0,0,0,0,0,0,0,0,0,0,0,0,0,0,0,0,0,0,0,0,0,0,0,0,0,0,0,0,0,0,0,0,0,0,0,0,0,0,0,0,0,0,0,0,0,0,0,0,0,0,0,0,0,0,0,0,0,0,0,0,0,0,0,0,0,0,0,0,0,0]},\"selected\":{\"id\":\"4022\"},\"selection_policy\":{\"id\":\"4036\"}},\"id\":\"4021\",\"type\":\"ColumnDataSource\"},{\"attributes\":{\"source\":{\"id\":\"4079\"}},\"id\":\"4086\",\"type\":\"CDSView\"},{\"attributes\":{\"fill_alpha\":{\"value\":0.1},\"fill_color\":{\"value\":\"#2ba02b\"},\"line_alpha\":{\"value\":0.1},\"line_color\":{\"value\":\"#2ba02b\"},\"size\":{\"units\":\"screen\",\"value\":5.477225575051661},\"x\":{\"field\":\"TotalCoinsMined\"},\"y\":{\"field\":\"TotalCoinSupply\"}},\"id\":\"4062\",\"type\":\"Scatter\"},{\"attributes\":{\"fill_alpha\":{\"value\":0.2},\"fill_color\":{\"value\":\"#d62628\"},\"line_alpha\":{\"value\":0.2},\"line_color\":{\"value\":\"#d62628\"},\"size\":{\"units\":\"screen\",\"value\":5.477225575051661},\"x\":{\"field\":\"TotalCoinsMined\"},\"y\":{\"field\":\"TotalCoinSupply\"}},\"id\":\"4084\",\"type\":\"Scatter\"},{\"attributes\":{},\"id\":\"4077\",\"type\":\"UnionRenderers\"},{\"attributes\":{},\"id\":\"4125\",\"type\":\"UnionRenderers\"},{\"attributes\":{\"end\":1032.6704287676898,\"reset_end\":1032.6704287676898,\"reset_start\":-48.59969287600845,\"start\":-48.59969287600845,\"tags\":[[[\"TotalCoinsMined\",\"TotalCoinsMined\",null]]]},\"id\":\"3980\",\"type\":\"Range1d\"},{\"attributes\":{\"align\":null,\"below\":[{\"id\":\"3996\"}],\"center\":[{\"id\":\"3999\"},{\"id\":\"4003\"}],\"left\":[{\"id\":\"4000\"}],\"margin\":null,\"min_border_bottom\":10,\"min_border_left\":10,\"min_border_right\":10,\"min_border_top\":10,\"plot_height\":300,\"plot_width\":700,\"renderers\":[{\"id\":\"4027\"},{\"id\":\"4045\"},{\"id\":\"4064\"},{\"id\":\"4085\"},{\"id\":\"4108\"}],\"right\":[{\"id\":\"4037\"}],\"sizing_mode\":\"fixed\",\"title\":{\"id\":\"3988\"},\"toolbar\":{\"id\":\"4010\"},\"x_range\":{\"id\":\"3980\"},\"x_scale\":{\"id\":\"3992\"},\"y_range\":{\"id\":\"3981\"},\"y_scale\":{\"id\":\"3994\"}},\"id\":\"3987\",\"subtype\":\"Figure\",\"type\":\"Plot\"},{\"attributes\":{\"children\":[{\"id\":\"3979\"},{\"id\":\"3987\"},{\"id\":\"4271\"}],\"margin\":[0,0,0,0],\"name\":\"Row09277\",\"tags\":[\"embedded\"]},\"id\":\"3978\",\"type\":\"Row\"},{\"attributes\":{\"data\":{\"CoinName\":[\"BiblePay\",\"Acute Angle Cloud\",\"Fiii\"],\"TotalCoinSupply\":{\"__ndarray__\":\"zczMzMzMFEAAAAAAAADwPwAAAAAAABRA\",\"dtype\":\"float64\",\"order\":\"little\",\"shape\":[3]},\"TotalCoinsMined\":{\"__ndarray__\":\"XJpEq3xa/D8AAAAAAADwP0fva04CrBfA\",\"dtype\":\"float64\",\"order\":\"little\",\"shape\":[3]},\"class\":[3,3,3]},\"selected\":{\"id\":\"4080\"},\"selection_policy\":{\"id\":\"4100\"}},\"id\":\"4079\",\"type\":\"ColumnDataSource\"},{\"attributes\":{},\"id\":\"4103\",\"type\":\"Selection\"},{\"attributes\":{\"data_source\":{\"id\":\"4058\"},\"glyph\":{\"id\":\"4061\"},\"hover_glyph\":null,\"muted_glyph\":{\"id\":\"4063\"},\"nonselection_glyph\":{\"id\":\"4062\"},\"selection_glyph\":null,\"view\":{\"id\":\"4065\"}},\"id\":\"4064\",\"type\":\"GlyphRenderer\"},{\"attributes\":{\"margin\":[5,5,5,5],\"name\":\"HSpacer09281\",\"sizing_mode\":\"stretch_width\"},\"id\":\"3979\",\"type\":\"Spacer\"},{\"attributes\":{\"fill_color\":{\"value\":\"#9367bc\"},\"line_color\":{\"value\":\"#9367bc\"},\"size\":{\"units\":\"screen\",\"value\":5.477225575051661},\"x\":{\"field\":\"TotalCoinsMined\"},\"y\":{\"field\":\"TotalCoinSupply\"}},\"id\":\"4105\",\"type\":\"Scatter\"},{\"attributes\":{\"label\":{\"value\":\"3\"},\"renderers\":[{\"id\":\"4085\"}]},\"id\":\"4101\",\"type\":\"LegendItem\"},{\"attributes\":{},\"id\":\"3994\",\"type\":\"LinearScale\"},{\"attributes\":{\"data\":{\"CoinName\":[\"EliteCoin\",\"MoonCoin\",\"ByteCoin\",\"ARK\",\"gCn Coin\",\"Vechain\",\"Lamden Tau\",\"TurtleCoin\",\"Semux\",\"Lynx\",\"Qwertycoin\",\"ALAX\",\"Lisk\",\"EOS\",\"Oxycoin\",\"ZEPHYR\"],\"TotalCoinSupply\":{\"__ndarray__\":\"p0TVWYyic0AAAAAAAAB4QJW0RUb1DmdAAAAAAAAAwD8AAAAAAABpQDxel82brVVAAAAAAAAA4D8AAAAAAECPQJqZmZmZmbk/AAAAAAAAV0DXo3A9Cg9nQAAAAAAAAPA/r6oDxTR4xD8AAAAAAAAAAAAAAAAAAAAAAAAAAAAAAEA=\",\"dtype\":\"float64\",\"order\":\"little\",\"shape\":[16]},\"TotalCoinsMined\":{\"__ndarray__\":\"pFg/X4hHPUAMZzVfUJ93Pu9RLnYjAmdAcpgjvCGzuz/sEtVbw2FkQDIt+780uktAYQdraxNw0j9U/Moe5pFKQDcZgAbOK1Q/7Uvb0893U0DWEbQpZuNYQAAAAAAAAPA//UdsmB25vj/wT2t+JlTwP3rxCiBH9fE/Pme9/v///z8=\",\"dtype\":\"float64\",\"order\":\"little\",\"shape\":[16]},\"class\":[4,4,4,4,4,4,4,4,4,4,4,4,4,4,4,4]},\"selected\":{\"id\":\"4103\"},\"selection_policy\":{\"id\":\"4125\"}},\"id\":\"4102\",\"type\":\"ColumnDataSource\"},{\"attributes\":{\"label\":{\"value\":\"2\"},\"renderers\":[{\"id\":\"4064\"}]},\"id\":\"4078\",\"type\":\"LegendItem\"},{\"attributes\":{\"axis\":{\"id\":\"3996\"},\"grid_line_color\":null,\"ticker\":null},\"id\":\"3999\",\"type\":\"Grid\"},{\"attributes\":{\"fill_color\":{\"value\":\"#2ba02b\"},\"line_color\":{\"value\":\"#2ba02b\"},\"size\":{\"units\":\"screen\",\"value\":5.477225575051661},\"x\":{\"field\":\"TotalCoinsMined\"},\"y\":{\"field\":\"TotalCoinSupply\"}},\"id\":\"4061\",\"type\":\"Scatter\"},{\"attributes\":{},\"id\":\"4006\",\"type\":\"WheelZoomTool\"},{\"attributes\":{\"source\":{\"id\":\"4102\"}},\"id\":\"4109\",\"type\":\"CDSView\"},{\"attributes\":{\"source\":{\"id\":\"4058\"}},\"id\":\"4065\",\"type\":\"CDSView\"},{\"attributes\":{\"data_source\":{\"id\":\"4102\"},\"glyph\":{\"id\":\"4105\"},\"hover_glyph\":null,\"muted_glyph\":{\"id\":\"4107\"},\"nonselection_glyph\":{\"id\":\"4106\"},\"selection_glyph\":null,\"view\":{\"id\":\"4109\"}},\"id\":\"4108\",\"type\":\"GlyphRenderer\"},{\"attributes\":{},\"id\":\"4005\",\"type\":\"PanTool\"},{\"attributes\":{},\"id\":\"4036\",\"type\":\"UnionRenderers\"},{\"attributes\":{\"source\":{\"id\":\"4021\"}},\"id\":\"4028\",\"type\":\"CDSView\"},{\"attributes\":{\"label\":{\"value\":\"1\"},\"renderers\":[{\"id\":\"4045\"}]},\"id\":\"4057\",\"type\":\"LegendItem\"},{\"attributes\":{},\"id\":\"4017\",\"type\":\"BasicTickFormatter\"},{\"attributes\":{\"label\":{\"value\":\"0\"},\"renderers\":[{\"id\":\"4027\"}]},\"id\":\"4038\",\"type\":\"LegendItem\"},{\"attributes\":{},\"id\":\"4059\",\"type\":\"Selection\"},{\"attributes\":{\"margin\":[5,5,5,5],\"name\":\"HSpacer09282\",\"sizing_mode\":\"stretch_width\"},\"id\":\"4271\",\"type\":\"Spacer\"},{\"attributes\":{\"data_source\":{\"id\":\"4039\"},\"glyph\":{\"id\":\"4042\"},\"hover_glyph\":null,\"muted_glyph\":{\"id\":\"4044\"},\"nonselection_glyph\":{\"id\":\"4043\"},\"selection_glyph\":null,\"view\":{\"id\":\"4046\"}},\"id\":\"4045\",\"type\":\"GlyphRenderer\"},{\"attributes\":{},\"id\":\"4019\",\"type\":\"BasicTickFormatter\"},{\"attributes\":{\"label\":{\"value\":\"4\"},\"renderers\":[{\"id\":\"4108\"}]},\"id\":\"4126\",\"type\":\"LegendItem\"},{\"attributes\":{},\"id\":\"4022\",\"type\":\"Selection\"},{\"attributes\":{\"callback\":null,\"renderers\":[{\"id\":\"4027\"},{\"id\":\"4045\"},{\"id\":\"4064\"},{\"id\":\"4085\"},{\"id\":\"4108\"}],\"tags\":[\"hv_created\"],\"tooltips\":[[\"class\",\"@{class}\"],[\"TotalCoinsMined\",\"@{TotalCoinsMined}\"],[\"TotalCoinSupply\",\"@{TotalCoinSupply}\"],[\"CoinName\",\"@{CoinName}\"]]},\"id\":\"3982\",\"type\":\"HoverTool\"},{\"attributes\":{\"fill_color\":{\"value\":\"#1f77b3\"},\"line_color\":{\"value\":\"#1f77b3\"},\"size\":{\"units\":\"screen\",\"value\":5.477225575051661},\"x\":{\"field\":\"TotalCoinsMined\"},\"y\":{\"field\":\"TotalCoinSupply\"}},\"id\":\"4024\",\"type\":\"Scatter\"},{\"attributes\":{\"fill_alpha\":{\"value\":0.1},\"fill_color\":{\"value\":\"#ff7e0e\"},\"line_alpha\":{\"value\":0.1},\"line_color\":{\"value\":\"#ff7e0e\"},\"size\":{\"units\":\"screen\",\"value\":5.477225575051661},\"x\":{\"field\":\"TotalCoinsMined\"},\"y\":{\"field\":\"TotalCoinSupply\"}},\"id\":\"4043\",\"type\":\"Scatter\"},{\"attributes\":{\"end\":1100.0,\"reset_end\":1100.0,\"reset_start\":-100.0,\"start\":-100.0,\"tags\":[[[\"TotalCoinSupply\",\"TotalCoinSupply\",null]]]},\"id\":\"3981\",\"type\":\"Range1d\"},{\"attributes\":{\"fill_alpha\":{\"value\":0.2},\"fill_color\":{\"value\":\"#1f77b3\"},\"line_alpha\":{\"value\":0.2},\"line_color\":{\"value\":\"#1f77b3\"},\"size\":{\"units\":\"screen\",\"value\":5.477225575051661},\"x\":{\"field\":\"TotalCoinsMined\"},\"y\":{\"field\":\"TotalCoinSupply\"}},\"id\":\"4026\",\"type\":\"Scatter\"},{\"attributes\":{\"fill_alpha\":{\"value\":0.2},\"fill_color\":{\"value\":\"#2ba02b\"},\"line_alpha\":{\"value\":0.2},\"line_color\":{\"value\":\"#2ba02b\"},\"size\":{\"units\":\"screen\",\"value\":5.477225575051661},\"x\":{\"field\":\"TotalCoinsMined\"},\"y\":{\"field\":\"TotalCoinSupply\"}},\"id\":\"4063\",\"type\":\"Scatter\"},{\"attributes\":{\"text\":\"\",\"text_color\":{\"value\":\"black\"},\"text_font_size\":{\"value\":\"12pt\"}},\"id\":\"3988\",\"type\":\"Title\"},{\"attributes\":{},\"id\":\"4040\",\"type\":\"Selection\"},{\"attributes\":{\"active_drag\":\"auto\",\"active_inspect\":\"auto\",\"active_multi\":null,\"active_scroll\":\"auto\",\"active_tap\":\"auto\",\"tools\":[{\"id\":\"3982\"},{\"id\":\"4004\"},{\"id\":\"4005\"},{\"id\":\"4006\"},{\"id\":\"4007\"},{\"id\":\"4008\"}]},\"id\":\"4010\",\"type\":\"Toolbar\"},{\"attributes\":{},\"id\":\"4001\",\"type\":\"BasicTicker\"},{\"attributes\":{\"axis_label\":\"total_coins_supply_(billions)\",\"bounds\":\"auto\",\"formatter\":{\"id\":\"4019\"},\"major_label_orientation\":\"horizontal\",\"ticker\":{\"id\":\"4001\"}},\"id\":\"4000\",\"type\":\"LinearAxis\"},{\"attributes\":{\"data\":{\"CoinName\":[\"Bitcoin\",\"Ethereum\",\"Litecoin\",\"Monero\",\"Ethereum Classic\",\"ZCash\",\"DigiByte\",\"ProsperCoin\",\"Spreadcoin\",\"Argentum\",\"MyriadCoin\",\"ZetaCoin\",\"SexCoin\",\"Quatloo\",\"QuarkCoin\",\"Riecoin\",\"Digitalcoin \",\"Catcoin\",\"CannaCoin\",\"CryptCoin\",\"Verge\",\"DevCoin\",\"EarthCoin\",\"E-Gulden\",\"Einsteinium\",\"Emerald\",\"Franko\",\"FeatherCoin\",\"GrandCoin\",\"GlobalCoin\",\"GoldCoin\",\"Infinite Coin\",\"IXcoin\",\"KrugerCoin\",\"LuckyCoin\",\"Litebar \",\"MegaCoin\",\"MediterraneanCoin\",\"MinCoin\",\"NobleCoin\",\"Namecoin\",\"NyanCoin\",\"RonPaulCoin\",\"StableCoin\",\"SmartCoin\",\"SysCoin\",\"TigerCoin\",\"TerraCoin\",\"UnbreakableCoin\",\"Unobtanium\",\"UroCoin\",\"ViaCoin\",\"Vertcoin\",\"WorldCoin\",\"JouleCoin\",\"DigitalNote \",\"MonaCoin\",\"Gulden\",\"PesetaCoin\",\"Wild Beast Coin\",\"Flo\",\"ArtByte\",\"Folding Coin\",\"Unitus\",\"CypherPunkCoin\",\"OmniCron\",\"GreenCoin\",\"Cryptonite\",\"MasterCoin\",\"SoonCoin\",\"1Credit\",\"MarsCoin \",\"Crypto\",\"Anarchists Prime\",\"BowsCoin\",\"Song Coin\",\"BitZeny\",\"Expanse\",\"Siacoin\",\"MindCoin\",\"I0coin\",\"Revolution VR\",\"HOdlcoin\",\"Gamecredits\",\"CarpeDiemCoin\",\"Adzcoin\",\"SoilCoin\",\"YoCoin\",\"SibCoin\",\"Francs\",\"BolivarCoin\",\"Omni\",\"PizzaCoin\",\"Komodo\",\"Karbo\",\"ZayedCoin\",\"Circuits of Value\",\"DopeCoin\",\"DollarCoin\",\"Shilling\",\"ZCoin\",\"Elementrem\",\"ZClassic\",\"KiloCoin\",\"ArtexCoin\",\"Kurrent\",\"Cannabis Industry Coin\",\"OsmiumCoin\",\"Bikercoins\",\"HexxCoin\",\"PacCoin\",\"Citadel\",\"BeaverCoin\",\"VaultCoin\",\"Zero\",\"Canada eCoin\",\"Zoin\",\"DubaiCoin\",\"EB3coin\",\"Coinonat\",\"BenjiRolls\",\"ILCoin\",\"EquiTrader\",\"Quantum Resistant Ledger\",\"Dynamic\",\"Nano\",\"ChanCoin\",\"Dinastycoin\",\"DigitalPrice\",\"Unify\",\"SocialCoin\",\"ArcticCoin\",\"DAS\",\"LeviarCoin\",\"Bitcore\",\"SmartCash\",\"Onix\",\"Bitcoin Cash\",\"Sojourn Coin\",\"NewYorkCoin\",\"FrazCoin\",\"Kronecoin\",\"AdCoin\",\"Linx\",\"Sumokoin\",\"BitcoinZ\",\"Elements\",\"VIVO Coin\",\"Bitcoin Gold\",\"Pirl\",\"eBoost\",\"Pura\",\"Innova\",\"Ellaism\",\"GoByte\",\"SHIELD\",\"UltraNote\",\"BitCoal\",\"DaxxCoin\",\"AC3\",\"Lethean\",\"PopularCoin\",\"Photon\",\"Sucre\",\"SparksPay\",\"GunCoin\",\"IrishCoin\",\"Pioneer Coin\",\"UnitedBitcoin\",\"Interzone\",\"MUNcoin\",\"Niobio Cash\",\"ShareChain\",\"Travelflex\",\"KREDS\",\"BitFlip\",\"LottoCoin\",\"Crypto Improvement Fund\",\"Callisto Network\",\"BitTube\",\"Poseidon\",\"Aidos Kuneen\",\"Bitrolium\",\"Alpenschillling\",\"FuturoCoin\",\"Monero Classic\",\"Jumpcoin\",\"Infinex\",\"KEYCO\",\"GINcoin\",\"PlatinCoin\",\"Loki\",\"Newton Coin\",\"MassGrid\",\"PluraCoin\",\"Motion\",\"PlusOneCoin\",\"Axe\",\"HexCoin\",\"Webchain\",\"Ryo\",\"Urals Coin\",\"Project Pai\",\"Azart\",\"Xchange\",\"CrypticCoin\",\"Actinium\",\"Bitcoin SV\",\"FREDEnergy\",\"Universal Molecule\",\"Lithium\",\"PirateCash\",\"Exosis\",\"Block-Logic\",\"Beam\",\"Bithereum\",\"SLICE\",\"BLAST\",\"Bitcoin Rhodium\",\"GlobalToken\",\"SolarCoin\",\"UFO Coin\",\"BlakeCoin\",\"Crypto Escudo\",\"Crown Coin\",\"SmileyCoin\",\"Groestlcoin\",\"Bata\",\"Pakcoin\",\"JoinCoin\",\"Vollar\",\"Reality Clash\",\"Beldex\",\"Horizen\"],\"TotalCoinSupply\":{\"__ndarray__\":\"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\",\"dtype\":\"float64\",\"order\":\"little\",\"shape\":[234]},\"TotalCoinsMined\":{\"__ndarray__\":\"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\",\"dtype\":\"float64\",\"order\":\"little\",\"shape\":[234]},\"class\":[1,1,1,1,1,1,1,1,1,1,1,1,1,1,1,1,1,1,1,1,1,1,1,1,1,1,1,1,1,1,1,1,1,1,1,1,1,1,1,1,1,1,1,1,1,1,1,1,1,1,1,1,1,1,1,1,1,1,1,1,1,1,1,1,1,1,1,1,1,1,1,1,1,1,1,1,1,1,1,1,1,1,1,1,1,1,1,1,1,1,1,1,1,1,1,1,1,1,1,1,1,1,1,1,1,1,1,1,1,1,1,1,1,1,1,1,1,1,1,1,1,1,1,1,1,1,1,1,1,1,1,1,1,1,1,1,1,1,1,1,1,1,1,1,1,1,1,1,1,1,1,1,1,1,1,1,1,1,1,1,1,1,1,1,1,1,1,1,1,1,1,1,1,1,1,1,1,1,1,1,1,1,1,1,1,1,1,1,1,1,1,1,1,1,1,1,1,1,1,1,1,1,1,1,1,1,1,1,1,1,1,1,1,1,1,1,1,1,1,1,1,1,1,1,1,1,1,1,1,1,1,1,1,1]},\"selected\":{\"id\":\"4040\"},\"selection_policy\":{\"id\":\"4056\"}},\"id\":\"4039\",\"type\":\"ColumnDataSource\"},{\"attributes\":{},\"id\":\"4080\",\"type\":\"Selection\"},{\"attributes\":{\"data_source\":{\"id\":\"4079\"},\"glyph\":{\"id\":\"4082\"},\"hover_glyph\":null,\"muted_glyph\":{\"id\":\"4084\"},\"nonselection_glyph\":{\"id\":\"4083\"},\"selection_glyph\":null,\"view\":{\"id\":\"4086\"}},\"id\":\"4085\",\"type\":\"GlyphRenderer\"},{\"attributes\":{\"data\":{\"CoinName\":[\"BitTorrent\"],\"TotalCoinSupply\":{\"__ndarray__\":\"AAAAAADwjkA=\",\"dtype\":\"float64\",\"order\":\"little\",\"shape\":[1]},\"TotalCoinsMined\":{\"__ndarray__\":\"RIOX4ujvjkA=\",\"dtype\":\"float64\",\"order\":\"little\",\"shape\":[1]},\"class\":[2]},\"selected\":{\"id\":\"4059\"},\"selection_policy\":{\"id\":\"4077\"}},\"id\":\"4058\",\"type\":\"ColumnDataSource\"},{\"attributes\":{\"fill_alpha\":{\"value\":0.1},\"fill_color\":{\"value\":\"#1f77b3\"},\"line_alpha\":{\"value\":0.1},\"line_color\":{\"value\":\"#1f77b3\"},\"size\":{\"units\":\"screen\",\"value\":5.477225575051661},\"x\":{\"field\":\"TotalCoinsMined\"},\"y\":{\"field\":\"TotalCoinSupply\"}},\"id\":\"4025\",\"type\":\"Scatter\"},{\"attributes\":{\"fill_color\":{\"value\":\"#d62628\"},\"line_color\":{\"value\":\"#d62628\"},\"size\":{\"units\":\"screen\",\"value\":5.477225575051661},\"x\":{\"field\":\"TotalCoinsMined\"},\"y\":{\"field\":\"TotalCoinSupply\"}},\"id\":\"4082\",\"type\":\"Scatter\"},{\"attributes\":{\"fill_color\":{\"value\":\"#ff7e0e\"},\"line_color\":{\"value\":\"#ff7e0e\"},\"size\":{\"units\":\"screen\",\"value\":5.477225575051661},\"x\":{\"field\":\"TotalCoinsMined\"},\"y\":{\"field\":\"TotalCoinSupply\"}},\"id\":\"4042\",\"type\":\"Scatter\"},{\"attributes\":{\"axis\":{\"id\":\"4000\"},\"dimension\":1,\"grid_line_color\":null,\"ticker\":null},\"id\":\"4003\",\"type\":\"Grid\"},{\"attributes\":{\"overlay\":{\"id\":\"4009\"}},\"id\":\"4007\",\"type\":\"BoxZoomTool\"},{\"attributes\":{\"fill_alpha\":{\"value\":0.1},\"fill_color\":{\"value\":\"#9367bc\"},\"line_alpha\":{\"value\":0.1},\"line_color\":{\"value\":\"#9367bc\"},\"size\":{\"units\":\"screen\",\"value\":5.477225575051661},\"x\":{\"field\":\"TotalCoinsMined\"},\"y\":{\"field\":\"TotalCoinSupply\"}},\"id\":\"4106\",\"type\":\"Scatter\"},{\"attributes\":{},\"id\":\"3992\",\"type\":\"LinearScale\"},{\"attributes\":{\"data_source\":{\"id\":\"4021\"},\"glyph\":{\"id\":\"4024\"},\"hover_glyph\":null,\"muted_glyph\":{\"id\":\"4026\"},\"nonselection_glyph\":{\"id\":\"4025\"},\"selection_glyph\":null,\"view\":{\"id\":\"4028\"}},\"id\":\"4027\",\"type\":\"GlyphRenderer\"},{\"attributes\":{},\"id\":\"3997\",\"type\":\"BasicTicker\"},{\"attributes\":{},\"id\":\"4056\",\"type\":\"UnionRenderers\"},{\"attributes\":{\"axis_label\":\"total_coins_mined_(billions)\",\"bounds\":\"auto\",\"formatter\":{\"id\":\"4017\"},\"major_label_orientation\":\"horizontal\",\"ticker\":{\"id\":\"3997\"}},\"id\":\"3996\",\"type\":\"LinearAxis\"},{\"attributes\":{\"fill_alpha\":{\"value\":0.2},\"fill_color\":{\"value\":\"#ff7e0e\"},\"line_alpha\":{\"value\":0.2},\"line_color\":{\"value\":\"#ff7e0e\"},\"size\":{\"units\":\"screen\",\"value\":5.477225575051661},\"x\":{\"field\":\"TotalCoinsMined\"},\"y\":{\"field\":\"TotalCoinSupply\"}},\"id\":\"4044\",\"type\":\"Scatter\"},{\"attributes\":{\"fill_alpha\":{\"value\":0.2},\"fill_color\":{\"value\":\"#9367bc\"},\"line_alpha\":{\"value\":0.2},\"line_color\":{\"value\":\"#9367bc\"},\"size\":{\"units\":\"screen\",\"value\":5.477225575051661},\"x\":{\"field\":\"TotalCoinsMined\"},\"y\":{\"field\":\"TotalCoinSupply\"}},\"id\":\"4107\",\"type\":\"Scatter\"},{\"attributes\":{},\"id\":\"4008\",\"type\":\"ResetTool\"},{\"attributes\":{\"source\":{\"id\":\"4039\"}},\"id\":\"4046\",\"type\":\"CDSView\"}],\"root_ids\":[\"3978\"]},\"title\":\"Bokeh Application\",\"version\":\"2.1.1\"}};\n  var render_items = [{\"docid\":\"10dbfdcf-bb9c-4975-9cc3-afb6a54e6309\",\"root_ids\":[\"3978\"],\"roots\":{\"3978\":\"9c20b296-39c0-47aa-ad6e-23d559053660\"}}];\n  root.Bokeh.embed.embed_items_notebook(docs_json, render_items);\n  }\nif (root.Bokeh !== undefined) {\n    embed_document(root);\n  } else {\n    var attempts = 0;\n    var timer = setInterval(function(root) {\n      if (root.Bokeh !== undefined) {\n        clearInterval(timer);\n        embed_document(root);\n      } else if (document.readyState == \"complete\") {\n        attempts++;\n        if (attempts > 100) {\n          clearInterval(timer);\n          console.log(\"Bokeh: ERROR: Unable to run BokehJS code because BokehJS library is missing\");\n        }\n      }\n    }, 10, root)\n  }\n})(window);</script>",
      "application/vnd.holoviews_exec.v0+json": "",
      "text/plain": [
       ":NdOverlay   [class]\n",
       "   :Scatter   [TotalCoinsMined]   (TotalCoinSupply,CoinName)"
      ]
     },
     "metadata": {
      "application/vnd.holoviews_exec.v0+json": {
       "id": "3978"
      }
     },
     "execution_count": 123
    }
   ],
   "source": [
    "# Plot the scatter with x=\"TotalCoinsMined\" and y=\"TotalCoinSupply\"\n",
    "\n",
    "clustered_scatter = clustered_df.hvplot.scatter(\n",
    "    x = 'TotalCoinsMined',\n",
    "    y = 'TotalCoinSupply',\n",
    "    hover_cols = ['CoinName'],\n",
    "    by = 'class',\n",
    "    xlabel = 'total_coins_mined_(billions)',\n",
    "    ylabel = 'total_coins_supply_(billions)',\n",
    ")\n",
    "\n",
    "clustered_scatter"
   ]
  },
  {
   "cell_type": "code",
   "execution_count": 117,
   "metadata": {},
   "outputs": [
    {
     "output_type": "stream",
     "name": "stdout",
     "text": [
      "\nScatter plot\n\nParameters\n----------\nx, y : string, optional\n    Field name to draw x- and y-positions from\nc: string, optional\n    Name of the field to color points by\ns: string, optional\n    Name of the field to scale point size by\nscale: number, optional\n    Scaling factor to apply to point scaling\n**kwds : optional\n    Keyword arguments to pass on to\n    :py:meth:`hvplot.converter.HoloViewsConverter`.\nReturns\n-------\nobj : HoloViews object\n    The HoloViews representation of the plot.\n\n\nGeneric options\n---------------\ncolorbar (default=False): boolean\n    Enables colorbar\nfontscale: number\n    Scales the size of all fonts by the same amount, e.g. fontscale=1.5\n    enlarges all fonts (title, xticks, labels etc.) by 50%\nfontsize: number or dict\n    Set title, label and legend text to the same fontsize. Finer control\n    by using a dict: {'title': '15pt', 'ylabel': '5px', 'ticks': 20}\nflip_xaxis/flip_yaxis: boolean\n    Whether to flip the axis left to right or up and down respectively\ngrid (default=False): boolean\n    Whether to show a grid\nhover : boolean\n    Whether to show hover tooltips, default is True unless datashade is\n    True in which case hover is False by default\nhover_cols (default=[]): list or str\n    Additional columns to add to the hover tool or 'all' which will\n    includes all columns (including indexes if use_index is True).\ninvert (default=False): boolean\n    Swaps x- and y-axis\nframe_width/frame_height: int\n    The width and height of the data area of the plot\nlegend (default=True): boolean or str\n    Whether to show a legend, or a legend position\n    ('top', 'bottom', 'left', 'right')\nlogx/logy (default=False): boolean\n    Enables logarithmic x- and y-axis respectively\nlogz (default=False): boolean\n    Enables logarithmic colormapping\nloglog (default=False): boolean\n    Enables logarithmic x- and y-axis\nmax_width/max_height: int\n    The maximum width and height of the plot for responsive modes\nmin_width/min_height: int\n    The minimum width and height of the plot for responsive modes\npadding: number or tuple\n    Fraction by which to increase auto-ranged extents to make\n    datapoints more visible around borders. Supports tuples to\n    specify different amount of padding for x- and y-axis and\n    tuples of tuples to specify different amounts of padding for\n    upper and lower bounds.\nresponsive: boolean\n    Whether the plot should responsively resize depending on the\n    size of the browser. Responsive mode will only work if at\n    least one dimension of the plot is left undefined, e.g. when\n    width and height or width and aspect are set the plot is set\n    to a fixed size, ignoring any responsive option.\nrot: number\n    Rotates the axis ticks along the x-axis by the specified\n    number of degrees.\nshared_axes (default=True): boolean\n    Whether to link axes between plots\ntitle (default=''): str\n    Title for the plot\ntools (default=[]): list\n    List of tool instances or strings (e.g. ['tap', box_select'])\nxaxis/yaxis: str or None\n    Whether to show the x/y-axis and whether to place it at the\n    'top'/'bottom' and 'left'/'right' respectively.\nxformatter/yformatter (default=None): str or TickFormatter\n    Formatter for the x-axis and y-axis (accepts printf formatter,\n    e.g. '%.3f', and bokeh TickFormatter)\nxlabel/ylabel/clabel (default=None): str\n    Axis labels for the x-axis, y-axis, and colorbar\nxlim/ylim (default=None): tuple or list\n    Plot limits of the x- and y-axis\nxticks/yticks (default=None): int or list\n    Ticks along x- and y-axis specified as an integer, list of\n    ticks positions, or list of tuples of the tick positions and labels\nwidth (default=700)/height (default=300): int\n    The width and height of the plot in pixels\nattr_labels (default=None): bool\n    Whether to use an xarray object's attributes as labels, defaults to\n    None to allow best effort without throwing a warning. Set to True\n    to see warning if the attrs can't be found, set to False to disable\n    the behavior.\nsort_date (default=True): bool\n    Whether to sort the x-axis by date before plotting\nsymmetric (default=None): bool\n    Whether the data are symmetric around zero. If left unset, the data\n    will be checked for symmetry as long as the size is less than\n    ``check_symmetric_max``.\ncheck_symmetric_max (default=1000000):\n    Size above which to stop checking for symmetry by default on the data.\n\nDatashader options\n------------------\naggregator (default=None):\n    Aggregator to use when applying rasterize or datashade operation\n    (valid options include 'mean', 'count', 'min', 'max' and more, and\n    datashader reduction objects)\ndynamic (default=True):\n    Whether to return a dynamic plot which sends updates on widget and\n    zoom/pan events or whether all the data should be embedded\n    (warning: for large groupby operations embedded data can become\n    very large if dynamic=False)\ndatashade (default=False):\n    Whether to apply rasterization and shading using datashader\n    library returning an RGB object\ndynspread (default=False):\n    Allows plots generated with datashade=True to increase the point\n    size to make sparse regions more visible\nrasterize (default=False):\n    Whether to apply rasterization using the datashader library\n    returning an aggregated Image\nx_sampling/y_sampling (default=None):\n    Declares a minimum sampling density beyond.\n\nGeographic options\n------------------\ncoastline (default=False):\n    Whether to display a coastline on top of the plot, setting\n    coastline='10m'/'50m'/'110m' specifies a specific scale.\ncrs (default=None):\n    Coordinate reference system of the data specified as Cartopy\n    CRS object, proj.4 string or EPSG code.\ngeo (default=False):\n    Whether the plot should be treated as geographic (and assume\n    PlateCarree, i.e. lat/lon coordinates).\nglobal_extent (default=False):\n    Whether to expand the plot extent to span the whole globe.\nproject (default=False):\n    Whether to project the data before plotting (adds initial\n    overhead but avoids projecting data when plot is dynamically\n    updated).\ntiles (default=False):\n    Whether to overlay the plot on a tile source. Tiles sources\n    can be selected by name or a tiles object or class can be passed,\n    the default is 'Wikipedia'.\n\nStyle options\n-------------\n\nalpha\nangle\ncmap\ncolor\nfill_alpha\nfill_color\nhover_alpha\nhover_color\nhover_fill_alpha\nhover_fill_color\nhover_line_alpha\nhover_line_color\nline_alpha\nline_cap\nline_color\nline_dash\nline_join\nline_width\nmarker\nmuted_alpha\nmuted_color\nmuted_fill_alpha\nmuted_fill_color\nmuted_line_alpha\nmuted_line_color\nnonselection_alpha\nnonselection_color\nnonselection_fill_alpha\nnonselection_fill_color\nnonselection_line_alpha\nnonselection_line_color\npalette\nselection_alpha\nselection_color\nselection_fill_alpha\nselection_fill_color\nselection_line_alpha\nselection_line_color\nsize\nvisible\n"
     ]
    }
   ],
   "source": [
    "hvplot.help('scatter')"
   ]
  }
 ],
 "metadata": {
  "file_extension": ".py",
  "kernelspec": {
   "name": "python3",
   "display_name": "Python 3.7.7 64-bit ('pyvizenv': conda)",
   "metadata": {
    "interpreter": {
     "hash": "9be927682df18e024b31f8a6032aa300e5bdaed52c088f47ccb180e7ed241520"
    }
   }
  },
  "language_info": {
   "codemirror_mode": {
    "name": "ipython",
    "version": 3
   },
   "file_extension": ".py",
   "mimetype": "text/x-python",
   "name": "python",
   "nbconvert_exporter": "python",
   "pygments_lexer": "ipython3",
   "version": "3.7.7-final"
  },
  "mimetype": "text/x-python",
  "name": "python",
  "npconvert_exporter": "python",
  "pygments_lexer": "ipython3",
  "version": 3
 },
 "nbformat": 4,
 "nbformat_minor": 4
}